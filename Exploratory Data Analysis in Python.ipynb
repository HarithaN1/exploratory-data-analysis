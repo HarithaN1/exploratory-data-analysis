{
 "cells": [
  {
   "cell_type": "markdown",
   "metadata": {},
   "source": [
    "# Exploratory Data Analysis in Python\n",
    "\n",
    "In this course I'm going to share with you my techniques and thought processes for exploratory data analysis.  I'll demonstrate everything with analysis of a real data set.  It is important to emphasize that there isn't a single right way to do exploratory data analysis.  The way you explore your data depends on the questions you're trying to answer and the data itself.  As such, you shouldn't try to replicate this analysis exactly, rather let the data and your curiousity guide you.  \n",
    "\n",
    "There are a few core libraries you want to become familiar with.  This includes:\n",
    "\n",
    "* NumPy: provides the core array class for efficient storage and vectorized computation.\n",
    "* Pandas: wraps NumPy arrays with a series and dataframe object providing lots of convenient methods.\n",
    "* SciPy: a wide variety of scientific computation tools, including statistics, optimization and signal processing.\n",
    "* Scikit-learn: a wide variety of machine learning methods, as well as data processing helpers.\n",
    "* Matplotlib: The most full-featured Python plotting library.  Generates static images.\n",
    "* Bokeh: A new plotting library.  Able to render interactive plots in notebooks.\n",
    "\n"
   ]
  },
  {
   "cell_type": "code",
   "execution_count": 125,
   "metadata": {
    "hideCode": false,
    "hidePrompt": false
   },
   "outputs": [
    {
     "data": {
      "text/html": [
       "\n",
       "    <div class=\"bk-root\">\n",
       "        <a href=\"http://bokeh.pydata.org\" target=\"_blank\" class=\"bk-logo bk-logo-small bk-logo-notebook\"></a>\n",
       "        <span id=\"d6e1ae52-4770-4aa6-9f53-7b90c62fed2e\">Loading BokehJS ...</span>\n",
       "    </div>"
      ]
     },
     "metadata": {},
     "output_type": "display_data"
    },
    {
     "data": {
      "application/javascript": [
       "\n",
       "(function(global) {\n",
       "  function now() {\n",
       "    return new Date();\n",
       "  }\n",
       "\n",
       "  var force = true;\n",
       "\n",
       "  if (typeof (window._bokeh_onload_callbacks) === \"undefined\" || force === true) {\n",
       "    window._bokeh_onload_callbacks = [];\n",
       "    window._bokeh_is_loading = undefined;\n",
       "  }\n",
       "\n",
       "\n",
       "  \n",
       "  if (typeof (window._bokeh_timeout) === \"undefined\" || force === true) {\n",
       "    window._bokeh_timeout = Date.now() + 5000;\n",
       "    window._bokeh_failed_load = false;\n",
       "  }\n",
       "\n",
       "  var NB_LOAD_WARNING = {'data': {'text/html':\n",
       "     \"<div style='background-color: #fdd'>\\n\"+\n",
       "     \"<p>\\n\"+\n",
       "     \"BokehJS does not appear to have successfully loaded. If loading BokehJS from CDN, this \\n\"+\n",
       "     \"may be due to a slow or bad network connection. Possible fixes:\\n\"+\n",
       "     \"</p>\\n\"+\n",
       "     \"<ul>\\n\"+\n",
       "     \"<li>re-rerun `output_notebook()` to attempt to load from CDN again, or</li>\\n\"+\n",
       "     \"<li>use INLINE resources instead, as so:</li>\\n\"+\n",
       "     \"</ul>\\n\"+\n",
       "     \"<code>\\n\"+\n",
       "     \"from bokeh.resources import INLINE\\n\"+\n",
       "     \"output_notebook(resources=INLINE)\\n\"+\n",
       "     \"</code>\\n\"+\n",
       "     \"</div>\"}};\n",
       "\n",
       "  function display_loaded() {\n",
       "    if (window.Bokeh !== undefined) {\n",
       "      var el = document.getElementById(\"d6e1ae52-4770-4aa6-9f53-7b90c62fed2e\");\n",
       "      el.textContent = \"BokehJS \" + Bokeh.version + \" successfully loaded.\";\n",
       "    } else if (Date.now() < window._bokeh_timeout) {\n",
       "      setTimeout(display_loaded, 100)\n",
       "    }\n",
       "  }\n",
       "\n",
       "  function run_callbacks() {\n",
       "    window._bokeh_onload_callbacks.forEach(function(callback) { callback() });\n",
       "    delete window._bokeh_onload_callbacks\n",
       "    console.info(\"Bokeh: all callbacks have finished\");\n",
       "  }\n",
       "\n",
       "  function load_libs(js_urls, callback) {\n",
       "    window._bokeh_onload_callbacks.push(callback);\n",
       "    if (window._bokeh_is_loading > 0) {\n",
       "      console.log(\"Bokeh: BokehJS is being loaded, scheduling callback at\", now());\n",
       "      return null;\n",
       "    }\n",
       "    if (js_urls == null || js_urls.length === 0) {\n",
       "      run_callbacks();\n",
       "      return null;\n",
       "    }\n",
       "    console.log(\"Bokeh: BokehJS not loaded, scheduling load and callback at\", now());\n",
       "    window._bokeh_is_loading = js_urls.length;\n",
       "    for (var i = 0; i < js_urls.length; i++) {\n",
       "      var url = js_urls[i];\n",
       "      var s = document.createElement('script');\n",
       "      s.src = url;\n",
       "      s.async = false;\n",
       "      s.onreadystatechange = s.onload = function() {\n",
       "        window._bokeh_is_loading--;\n",
       "        if (window._bokeh_is_loading === 0) {\n",
       "          console.log(\"Bokeh: all BokehJS libraries loaded\");\n",
       "          run_callbacks()\n",
       "        }\n",
       "      };\n",
       "      s.onerror = function() {\n",
       "        console.warn(\"failed to load library \" + url);\n",
       "      };\n",
       "      console.log(\"Bokeh: injecting script tag for BokehJS library: \", url);\n",
       "      document.getElementsByTagName(\"head\")[0].appendChild(s);\n",
       "    }\n",
       "  };var element = document.getElementById(\"d6e1ae52-4770-4aa6-9f53-7b90c62fed2e\");\n",
       "  if (element == null) {\n",
       "    console.log(\"Bokeh: ERROR: autoload.js configured with elementid 'd6e1ae52-4770-4aa6-9f53-7b90c62fed2e' but no matching script tag was found. \")\n",
       "    return false;\n",
       "  }\n",
       "\n",
       "  var js_urls = [\"https://cdn.pydata.org/bokeh/release/bokeh-0.12.5.min.js\", \"https://cdn.pydata.org/bokeh/release/bokeh-widgets-0.12.5.min.js\"];\n",
       "\n",
       "  var inline_js = [\n",
       "    function(Bokeh) {\n",
       "      Bokeh.set_log_level(\"info\");\n",
       "    },\n",
       "    \n",
       "    function(Bokeh) {\n",
       "      \n",
       "    },\n",
       "    \n",
       "    function(Bokeh) {\n",
       "      \n",
       "      document.getElementById(\"d6e1ae52-4770-4aa6-9f53-7b90c62fed2e\").textContent = \"BokehJS is loading...\";\n",
       "    },\n",
       "    function(Bokeh) {\n",
       "      console.log(\"Bokeh: injecting CSS: https://cdn.pydata.org/bokeh/release/bokeh-0.12.5.min.css\");\n",
       "      Bokeh.embed.inject_css(\"https://cdn.pydata.org/bokeh/release/bokeh-0.12.5.min.css\");\n",
       "      console.log(\"Bokeh: injecting CSS: https://cdn.pydata.org/bokeh/release/bokeh-widgets-0.12.5.min.css\");\n",
       "      Bokeh.embed.inject_css(\"https://cdn.pydata.org/bokeh/release/bokeh-widgets-0.12.5.min.css\");\n",
       "    }\n",
       "  ];\n",
       "\n",
       "  function run_inline_js() {\n",
       "    \n",
       "    if ((window.Bokeh !== undefined) || (force === true)) {\n",
       "      for (var i = 0; i < inline_js.length; i++) {\n",
       "        inline_js[i](window.Bokeh);\n",
       "      }if (force === true) {\n",
       "        display_loaded();\n",
       "      }} else if (Date.now() < window._bokeh_timeout) {\n",
       "      setTimeout(run_inline_js, 100);\n",
       "    } else if (!window._bokeh_failed_load) {\n",
       "      console.log(\"Bokeh: BokehJS failed to load within specified timeout.\");\n",
       "      window._bokeh_failed_load = true;\n",
       "    } else if (force !== true) {\n",
       "      var cell = $(document.getElementById(\"d6e1ae52-4770-4aa6-9f53-7b90c62fed2e\")).parents('.cell').data().cell;\n",
       "      cell.output_area.append_execute_result(NB_LOAD_WARNING)\n",
       "    }\n",
       "\n",
       "  }\n",
       "\n",
       "  if (window._bokeh_is_loading === 0) {\n",
       "    console.log(\"Bokeh: BokehJS loaded, going straight to plotting\");\n",
       "    run_inline_js();\n",
       "  } else {\n",
       "    load_libs(js_urls, function() {\n",
       "      console.log(\"Bokeh: BokehJS plotting callback run at\", now());\n",
       "      run_inline_js();\n",
       "    });\n",
       "  }\n",
       "}(this));"
      ]
     },
     "metadata": {},
     "output_type": "display_data"
    }
   ],
   "source": [
    "import numpy as np\n",
    "import pandas as pd\n",
    "import networkx as nx\n",
    "import matplotlib.pyplot as plt\n",
    "import warnings\n",
    "import hdbscan\n",
    "\n",
    "from collections import Counter\n",
    "from bokeh.io import output_notebook, show\n",
    "from scipy.stats import gaussian_kde, anderson, skew, kurtosis\n",
    "from itertools import zip_longest, count, cycle\n",
    "from helpers import block_heatmap, scatter_with_hover, plot_histogram, counter_histogram, bar_color\n",
    "from sklearn.preprocessing import MinMaxScaler, StandardScaler\n",
    "from sklearn.decomposition import FastICA\n",
    "from sklearn.manifold import MDS\n",
    "from statsmodels.distributions.empirical_distribution import ECDF\n",
    "from ipywidgets import interact\n",
    "from matplotlib.colors import ListedColormap\n",
    "\n",
    "%matplotlib inline\n",
    "warnings.filterwarnings('ignore')\n",
    "plt.rcParams['figure.figsize'] = (12, 5)\n",
    "output_notebook()"
   ]
  },
  {
   "cell_type": "markdown",
   "metadata": {},
   "source": [
    "## The dataset\n",
    "\n",
    "This dataset is basically a table of samples with nuclear protein abundance data.  These samples are from either normal mice or mice with a condition similar to downs syndrome.  Some of these mice were given a drug called memantine, which they hypothesized could rescue cognitive function in affected mice.  There are 38 normal mice and 34 affected mice, and each mouse contributed 15 samples to the data set, for a total of 1080 samples.  The abundance ratio of 77 proteins are measured for each sample.\n",
    "  \n",
    "This dataset is available from [here](https://archive.ics.uci.edu/ml/datasets/Mice+Protein+Expression)."
   ]
  },
  {
   "cell_type": "code",
   "execution_count": 2,
   "metadata": {
    "collapsed": true,
    "hideCode": false,
    "hidePrompt": false
   },
   "outputs": [],
   "source": [
    "df = pd.read_excel(\"Data_Cortex_Nuclear.xls\", index_col=0)\n",
    "\n",
    "df = df.fillna(df.mean())\n",
    "df_numeric = df.filter(like=\"_N\", axis=1)"
   ]
  },
  {
   "cell_type": "markdown",
   "metadata": {
    "collapsed": true,
    "hideCode": false,
    "hidePrompt": false
   },
   "source": [
    "## Generating additional summary statistics\n",
    "\n",
    "Pandas dataframes has a handy method called describe.  Describe gives you a variety of summary statistics for each variable.  The summary statistics returned by this method are also a dataframe, so you can amend it easily to include other statistics.  We'll do exactly that, adding the variable's coefficient of variation.\n",
    "\n",
    "The coefficient of variation is just the ratio of the standard deviation to the mean of the distribution.  Distributions with a large coefficient of variation are more likely to signal a change in the underlying data generation process, as opposed to random variation."
   ]
  },
  {
   "cell_type": "code",
   "execution_count": 3,
   "metadata": {
    "hideCode": false,
    "hidePrompt": false
   },
   "outputs": [
    {
     "data": {
      "text/html": [
       "<div>\n",
       "<style>\n",
       "    .dataframe thead tr:only-child th {\n",
       "        text-align: right;\n",
       "    }\n",
       "\n",
       "    .dataframe thead th {\n",
       "        text-align: left;\n",
       "    }\n",
       "\n",
       "    .dataframe tbody tr th {\n",
       "        vertical-align: top;\n",
       "    }\n",
       "</style>\n",
       "<table border=\"1\" class=\"dataframe\">\n",
       "  <thead>\n",
       "    <tr style=\"text-align: right;\">\n",
       "      <th></th>\n",
       "      <th>ERBB4_N</th>\n",
       "      <th>P3525_N</th>\n",
       "      <th>BAX_N</th>\n",
       "      <th>GFAP_N</th>\n",
       "      <th>pGSK3B_Tyr216_N</th>\n",
       "      <th>PSD95_N</th>\n",
       "      <th>ARC_N</th>\n",
       "      <th>pS6_N</th>\n",
       "      <th>pGSK3B_N</th>\n",
       "      <th>CDK5_N</th>\n",
       "      <th>...</th>\n",
       "      <th>Tau_N</th>\n",
       "      <th>pPKCG_N</th>\n",
       "      <th>pCAMKII_N</th>\n",
       "      <th>pP70S6_N</th>\n",
       "      <th>ITSN1_N</th>\n",
       "      <th>SOD1_N</th>\n",
       "      <th>BRAF_N</th>\n",
       "      <th>DYRK1A_N</th>\n",
       "      <th>pERK_N</th>\n",
       "      <th>AcetylH3K9_N</th>\n",
       "    </tr>\n",
       "  </thead>\n",
       "  <tbody>\n",
       "    <tr>\n",
       "      <th>count</th>\n",
       "      <td>1080.000000</td>\n",
       "      <td>1080.000000</td>\n",
       "      <td>1080.000000</td>\n",
       "      <td>1080.000000</td>\n",
       "      <td>1080.000000</td>\n",
       "      <td>1080.000000</td>\n",
       "      <td>1080.000000</td>\n",
       "      <td>1080.000000</td>\n",
       "      <td>1080.000000</td>\n",
       "      <td>1080.000000</td>\n",
       "      <td>...</td>\n",
       "      <td>1080.000000</td>\n",
       "      <td>1080.000000</td>\n",
       "      <td>1080.000000</td>\n",
       "      <td>1080.000000</td>\n",
       "      <td>1080.000000</td>\n",
       "      <td>1080.000000</td>\n",
       "      <td>1080.000000</td>\n",
       "      <td>1080.000000</td>\n",
       "      <td>1080.000000</td>\n",
       "      <td>1080.000000</td>\n",
       "    </tr>\n",
       "    <tr>\n",
       "      <th>mean</th>\n",
       "      <td>0.156478</td>\n",
       "      <td>0.291276</td>\n",
       "      <td>0.179307</td>\n",
       "      <td>0.120889</td>\n",
       "      <td>0.848767</td>\n",
       "      <td>2.235236</td>\n",
       "      <td>0.121521</td>\n",
       "      <td>0.121521</td>\n",
       "      <td>0.161211</td>\n",
       "      <td>0.292434</td>\n",
       "      <td>...</td>\n",
       "      <td>0.210489</td>\n",
       "      <td>1.706599</td>\n",
       "      <td>3.537109</td>\n",
       "      <td>0.394475</td>\n",
       "      <td>0.617102</td>\n",
       "      <td>0.542635</td>\n",
       "      <td>0.378519</td>\n",
       "      <td>0.425810</td>\n",
       "      <td>0.545904</td>\n",
       "      <td>0.216482</td>\n",
       "    </tr>\n",
       "    <tr>\n",
       "      <th>std</th>\n",
       "      <td>0.015071</td>\n",
       "      <td>0.030015</td>\n",
       "      <td>0.018826</td>\n",
       "      <td>0.013233</td>\n",
       "      <td>0.094311</td>\n",
       "      <td>0.254395</td>\n",
       "      <td>0.014276</td>\n",
       "      <td>0.014276</td>\n",
       "      <td>0.019308</td>\n",
       "      <td>0.037380</td>\n",
       "      <td>...</td>\n",
       "      <td>0.069010</td>\n",
       "      <td>0.578442</td>\n",
       "      <td>1.293368</td>\n",
       "      <td>0.155953</td>\n",
       "      <td>0.251290</td>\n",
       "      <td>0.280178</td>\n",
       "      <td>0.216087</td>\n",
       "      <td>0.249015</td>\n",
       "      <td>0.344829</td>\n",
       "      <td>0.185309</td>\n",
       "    </tr>\n",
       "    <tr>\n",
       "      <th>min</th>\n",
       "      <td>0.100217</td>\n",
       "      <td>0.207438</td>\n",
       "      <td>0.072326</td>\n",
       "      <td>0.086114</td>\n",
       "      <td>0.577397</td>\n",
       "      <td>1.206098</td>\n",
       "      <td>0.067254</td>\n",
       "      <td>0.067254</td>\n",
       "      <td>0.099976</td>\n",
       "      <td>0.181157</td>\n",
       "      <td>...</td>\n",
       "      <td>0.096233</td>\n",
       "      <td>0.598767</td>\n",
       "      <td>1.343998</td>\n",
       "      <td>0.131120</td>\n",
       "      <td>0.245359</td>\n",
       "      <td>0.217120</td>\n",
       "      <td>0.143894</td>\n",
       "      <td>0.145327</td>\n",
       "      <td>0.149155</td>\n",
       "      <td>0.052528</td>\n",
       "    </tr>\n",
       "    <tr>\n",
       "      <th>25%</th>\n",
       "      <td>0.146969</td>\n",
       "      <td>0.270059</td>\n",
       "      <td>0.168172</td>\n",
       "      <td>0.112765</td>\n",
       "      <td>0.793739</td>\n",
       "      <td>2.079338</td>\n",
       "      <td>0.110839</td>\n",
       "      <td>0.110839</td>\n",
       "      <td>0.149253</td>\n",
       "      <td>0.272594</td>\n",
       "      <td>...</td>\n",
       "      <td>0.167991</td>\n",
       "      <td>1.296830</td>\n",
       "      <td>2.479861</td>\n",
       "      <td>0.282131</td>\n",
       "      <td>0.473669</td>\n",
       "      <td>0.319712</td>\n",
       "      <td>0.264356</td>\n",
       "      <td>0.288163</td>\n",
       "      <td>0.337486</td>\n",
       "      <td>0.103571</td>\n",
       "    </tr>\n",
       "    <tr>\n",
       "      <th>50%</th>\n",
       "      <td>0.156371</td>\n",
       "      <td>0.290646</td>\n",
       "      <td>0.180745</td>\n",
       "      <td>0.120459</td>\n",
       "      <td>0.849858</td>\n",
       "      <td>2.242197</td>\n",
       "      <td>0.121626</td>\n",
       "      <td>0.121626</td>\n",
       "      <td>0.160212</td>\n",
       "      <td>0.293820</td>\n",
       "      <td>...</td>\n",
       "      <td>0.188630</td>\n",
       "      <td>1.664560</td>\n",
       "      <td>3.329624</td>\n",
       "      <td>0.378673</td>\n",
       "      <td>0.566365</td>\n",
       "      <td>0.446027</td>\n",
       "      <td>0.326730</td>\n",
       "      <td>0.366540</td>\n",
       "      <td>0.444223</td>\n",
       "      <td>0.150417</td>\n",
       "    </tr>\n",
       "    <tr>\n",
       "      <th>75%</th>\n",
       "      <td>0.165421</td>\n",
       "      <td>0.311602</td>\n",
       "      <td>0.191577</td>\n",
       "      <td>0.127724</td>\n",
       "      <td>0.916173</td>\n",
       "      <td>2.420226</td>\n",
       "      <td>0.131955</td>\n",
       "      <td>0.131955</td>\n",
       "      <td>0.171739</td>\n",
       "      <td>0.312484</td>\n",
       "      <td>...</td>\n",
       "      <td>0.233943</td>\n",
       "      <td>2.112973</td>\n",
       "      <td>4.480652</td>\n",
       "      <td>0.480704</td>\n",
       "      <td>0.697500</td>\n",
       "      <td>0.695318</td>\n",
       "      <td>0.412716</td>\n",
       "      <td>0.487574</td>\n",
       "      <td>0.663173</td>\n",
       "      <td>0.269653</td>\n",
       "    </tr>\n",
       "    <tr>\n",
       "      <th>max</th>\n",
       "      <td>0.208698</td>\n",
       "      <td>0.443735</td>\n",
       "      <td>0.241141</td>\n",
       "      <td>0.213621</td>\n",
       "      <td>1.204598</td>\n",
       "      <td>2.877873</td>\n",
       "      <td>0.158748</td>\n",
       "      <td>0.158748</td>\n",
       "      <td>0.253210</td>\n",
       "      <td>0.817402</td>\n",
       "      <td>...</td>\n",
       "      <td>0.602768</td>\n",
       "      <td>3.381976</td>\n",
       "      <td>7.464070</td>\n",
       "      <td>1.129171</td>\n",
       "      <td>2.602662</td>\n",
       "      <td>1.872899</td>\n",
       "      <td>2.133416</td>\n",
       "      <td>2.516367</td>\n",
       "      <td>3.566685</td>\n",
       "      <td>1.459387</td>\n",
       "    </tr>\n",
       "    <tr>\n",
       "      <th>cova</th>\n",
       "      <td>0.096313</td>\n",
       "      <td>0.103047</td>\n",
       "      <td>0.104995</td>\n",
       "      <td>0.109467</td>\n",
       "      <td>0.111116</td>\n",
       "      <td>0.113811</td>\n",
       "      <td>0.117482</td>\n",
       "      <td>0.117482</td>\n",
       "      <td>0.119768</td>\n",
       "      <td>0.127823</td>\n",
       "      <td>...</td>\n",
       "      <td>0.327855</td>\n",
       "      <td>0.338945</td>\n",
       "      <td>0.365657</td>\n",
       "      <td>0.395343</td>\n",
       "      <td>0.407210</td>\n",
       "      <td>0.516329</td>\n",
       "      <td>0.570875</td>\n",
       "      <td>0.584803</td>\n",
       "      <td>0.631665</td>\n",
       "      <td>0.856000</td>\n",
       "    </tr>\n",
       "  </tbody>\n",
       "</table>\n",
       "<p>9 rows × 77 columns</p>\n",
       "</div>"
      ],
      "text/plain": [
       "           ERBB4_N      P3525_N        BAX_N       GFAP_N  pGSK3B_Tyr216_N  \\\n",
       "count  1080.000000  1080.000000  1080.000000  1080.000000      1080.000000   \n",
       "mean      0.156478     0.291276     0.179307     0.120889         0.848767   \n",
       "std       0.015071     0.030015     0.018826     0.013233         0.094311   \n",
       "min       0.100217     0.207438     0.072326     0.086114         0.577397   \n",
       "25%       0.146969     0.270059     0.168172     0.112765         0.793739   \n",
       "50%       0.156371     0.290646     0.180745     0.120459         0.849858   \n",
       "75%       0.165421     0.311602     0.191577     0.127724         0.916173   \n",
       "max       0.208698     0.443735     0.241141     0.213621         1.204598   \n",
       "cova      0.096313     0.103047     0.104995     0.109467         0.111116   \n",
       "\n",
       "           PSD95_N        ARC_N        pS6_N     pGSK3B_N       CDK5_N  \\\n",
       "count  1080.000000  1080.000000  1080.000000  1080.000000  1080.000000   \n",
       "mean      2.235236     0.121521     0.121521     0.161211     0.292434   \n",
       "std       0.254395     0.014276     0.014276     0.019308     0.037380   \n",
       "min       1.206098     0.067254     0.067254     0.099976     0.181157   \n",
       "25%       2.079338     0.110839     0.110839     0.149253     0.272594   \n",
       "50%       2.242197     0.121626     0.121626     0.160212     0.293820   \n",
       "75%       2.420226     0.131955     0.131955     0.171739     0.312484   \n",
       "max       2.877873     0.158748     0.158748     0.253210     0.817402   \n",
       "cova      0.113811     0.117482     0.117482     0.119768     0.127823   \n",
       "\n",
       "           ...             Tau_N      pPKCG_N    pCAMKII_N     pP70S6_N  \\\n",
       "count      ...       1080.000000  1080.000000  1080.000000  1080.000000   \n",
       "mean       ...          0.210489     1.706599     3.537109     0.394475   \n",
       "std        ...          0.069010     0.578442     1.293368     0.155953   \n",
       "min        ...          0.096233     0.598767     1.343998     0.131120   \n",
       "25%        ...          0.167991     1.296830     2.479861     0.282131   \n",
       "50%        ...          0.188630     1.664560     3.329624     0.378673   \n",
       "75%        ...          0.233943     2.112973     4.480652     0.480704   \n",
       "max        ...          0.602768     3.381976     7.464070     1.129171   \n",
       "cova       ...          0.327855     0.338945     0.365657     0.395343   \n",
       "\n",
       "           ITSN1_N       SOD1_N       BRAF_N     DYRK1A_N       pERK_N  \\\n",
       "count  1080.000000  1080.000000  1080.000000  1080.000000  1080.000000   \n",
       "mean      0.617102     0.542635     0.378519     0.425810     0.545904   \n",
       "std       0.251290     0.280178     0.216087     0.249015     0.344829   \n",
       "min       0.245359     0.217120     0.143894     0.145327     0.149155   \n",
       "25%       0.473669     0.319712     0.264356     0.288163     0.337486   \n",
       "50%       0.566365     0.446027     0.326730     0.366540     0.444223   \n",
       "75%       0.697500     0.695318     0.412716     0.487574     0.663173   \n",
       "max       2.602662     1.872899     2.133416     2.516367     3.566685   \n",
       "cova      0.407210     0.516329     0.570875     0.584803     0.631665   \n",
       "\n",
       "       AcetylH3K9_N  \n",
       "count   1080.000000  \n",
       "mean       0.216482  \n",
       "std        0.185309  \n",
       "min        0.052528  \n",
       "25%        0.103571  \n",
       "50%        0.150417  \n",
       "75%        0.269653  \n",
       "max        1.459387  \n",
       "cova       0.856000  \n",
       "\n",
       "[9 rows x 77 columns]"
      ]
     },
     "execution_count": 3,
     "metadata": {},
     "output_type": "execute_result"
    }
   ],
   "source": [
    "description = df.describe()\n",
    "coef_variation = description.loc[\"std\"] / description.loc[\"mean\"]\n",
    "description.loc[\"cova\"] = coef_variation\n",
    "description.sort_values(by=\"cova\", axis=1)"
   ]
  },
  {
   "cell_type": "markdown",
   "metadata": {},
   "source": [
    "## Normalization\n",
    "\n",
    "One important initial step before any real analysis is performed is to normalize the data.  This is necessary in order to prevent variables with large values from having an undue influence on results. There are a few different methods of normalizing your data:\n",
    " \n",
    "* The most common method is to divide a dimension’s values by the largest value it contains.  This method is easy to interpret, and it is robust to outliers when the coefficient of variation on a dimension is low.  \n",
    "* Another very common method is to subtract the dimension’s mean and divide by its standard deviation, a process sometimes called standardizing.  This method provides more information about the relative similarity of values when the coefficient of variation on a dimension is high.  It performs poorly on dimensions with a low coefficient of variation and large outliers.\n",
    "* An underutilized option is to use the cumulative distribution function of the dimension’s empirical distribution to get a percentile ranking.  This method works well in most cases and is robust to outliers.  It degrades somewhat when a dimension’s coefficient of variation gets very small.\n",
    " \n",
    "The normalization method you use depends on your data and the aspects of it that you want to highlight.  You can use a different normalization method for each dimension of your data, though I don’t advise you do this unless absolutely necessary.  In general my preference is for the empirical distribution method.\n"
   ]
  },
  {
   "cell_type": "code",
   "execution_count": 4,
   "metadata": {
    "collapsed": true,
    "hideCode": false,
    "hidePrompt": false
   },
   "outputs": [],
   "source": [
    "minmax_normalized_df = pd.DataFrame(MinMaxScaler().fit_transform(df_numeric),\n",
    "                                    columns=df_numeric.columns, index=df_numeric.index)\n",
    "\n",
    "standardized_df = pd.DataFrame(StandardScaler().fit_transform(df_numeric), columns=df_numeric.columns,\n",
    "                               index=df_numeric.index)\n",
    "\n",
    "ecdf_normalized_df = df_numeric.apply(lambda c: pd.Series(ECDF(c)(c), index=c.index))"
   ]
  },
  {
   "cell_type": "markdown",
   "metadata": {},
   "source": [
    "## Visualizing distributions\n",
    "\n",
    "The best way to understand a data set is to look at the distribution of its properties.  The best way to examine a distribution is by looking at its density function.  The graph of the density function is a complete visual description of the distribution.  Unfortunately, the density function of real data is unknown.\n",
    "\n",
    "Histograms naturally approximate the density function for discrete data.  In the case of continuous data, histograms are extremely sensitive to the number of bins and their edges.  They can still work well, but it requires a lot of data and usually some hand tuning.\n",
    "\n",
    "An alternative technique to histograms is to use a density estimator.  Density estimators work well with continuous variables, and they produce reasonable results without a lot of data.  Density estimation is basically a form of smoothing or interpolation between observed data points.  The density estimator I prefer is called a gaussian kernel density estimator.  This is basically a linear interpolater where the distance between points is transformed by a function called the kernel.  It has a single parameter, the width of the kernel, which can be reasonably estimated from the data.\n",
    "\n",
    "The best option is to take advantage of both histograms and density estimators.  All my plots in this presentation will follow this convention.  I also include the cumulative distribution function (CDF).  This lets you see the relative proportion of the distribution at or below a given value."
   ]
  },
  {
   "cell_type": "markdown",
   "metadata": {},
   "source": [
    "## Exploring Data\n",
    "\n",
    "My strategy for exploring data is to look for things that are out of the ordinary.  If you had a data set that was just uncorrelated gaussian random variables, you couldn't learn anything from it, it would literally be white noise.  The information content of a data set is in its variations from ordinary.\n",
    "\n",
    "The distribution of the coefficient of variation tells you about the relative variability of that data.  High coefficients of variation for a variable indicate a likely candidate for experimental effect."
   ]
  },
  {
   "cell_type": "code",
   "execution_count": 5,
   "metadata": {
    "hideCode": false,
    "hidePrompt": false
   },
   "outputs": [
    {
     "data": {
      "image/png": "[encoded data removed]",
      "text/plain": [
       "<matplotlib.figure.Figure at 0x7f6a45d83438>"
      ]
     },
     "metadata": {},
     "output_type": "display_data"
    }
   ],
   "source": [
    "plot_histogram(description.loc[\"cova\"], title=\"Coefficient of variation\");"
   ]
  },
  {
   "cell_type": "markdown",
   "metadata": {},
   "source": [
    "Based on this distribution, 0.3 appears to be a good cut-off value.  Let's go ahead and take a look at those genes."
   ]
  },
  {
   "cell_type": "code",
   "execution_count": 6,
   "metadata": {
    "hideCode": false,
    "hidePrompt": false
   },
   "outputs": [
    {
     "data": {
      "text/plain": [
       "AcetylH3K9_N    0.856000\n",
       "pERK_N          0.631665\n",
       "DYRK1A_N        0.584803\n",
       "BRAF_N          0.570875\n",
       "SOD1_N          0.516329\n",
       "ITSN1_N         0.407210\n",
       "pP70S6_N        0.395343\n",
       "pCAMKII_N       0.365657\n",
       "pPKCG_N         0.338945\n",
       "Tau_N           0.327855\n",
       "pELK_N          0.326353\n",
       "S6_N            0.320205\n",
       "H3AcK18_N       0.319686\n",
       "pPKCAB_N        0.315412\n",
       "ADARB1_N        0.302102\n",
       "Name: cova, dtype: float64"
      ]
     },
     "execution_count": 6,
     "metadata": {},
     "output_type": "execute_result"
    }
   ],
   "source": [
    "high_cova = description.loc[\"cova\"].where(lambda x: x > 0.30).dropna().sort_values(ascending=False)\n",
    "high_cova"
   ]
  },
  {
   "cell_type": "markdown",
   "metadata": {},
   "source": [
    "Another good step is to perform normality tests on the variables.  Variables that deviate highly from normality are more likely to be informative.  Either the Anderson-Darling test or the Shapiro-Wilks test works well for this purpose."
   ]
  },
  {
   "cell_type": "code",
   "execution_count": 7,
   "metadata": {
    "hideCode": false,
    "hidePrompt": false
   },
   "outputs": [
    {
     "data": {
      "image/png": "[encoded data removed]",
      "text/plain": [
       "<matplotlib.figure.Figure at 0x7f69ffc6eb70>"
      ]
     },
     "metadata": {},
     "output_type": "display_data"
    }
   ],
   "source": [
    "norm = pd.Series([anderson(df_numeric[c])[0] for c in df_numeric], index=df_numeric.columns)\n",
    "maximum_finite = max(filter(lambda x: not x == np.infty, norm))\n",
    "finite_norm = norm.apply(lambda x: min(maximum_finite, x))\n",
    "\n",
    "plot_histogram(finite_norm, title=\"Anderson-Darling test statistic\");"
   ]
  },
  {
   "cell_type": "markdown",
   "metadata": {},
   "source": [
    "Based on this distribution, 20 seems like a good cut-off value for a list."
   ]
  },
  {
   "cell_type": "code",
   "execution_count": 8,
   "metadata": {
    "hideCode": false,
    "hidePrompt": false
   },
   "outputs": [
    {
     "data": {
      "text/plain": [
       "BRAF_N          85.892736\n",
       "AcetylH3K9_N    85.783742\n",
       "DYRK1A_N        74.352495\n",
       "pERK_N          66.770354\n",
       "pELK_N          58.045646\n",
       "Tau_N           52.473828\n",
       "ITSN1_N         48.509978\n",
       "SOD1_N          46.589849\n",
       "RRP1_N          40.618962\n",
       "BCL2_N          35.070336\n",
       "H3AcK18_N       29.416407\n",
       "H3MeK4_N        29.278540\n",
       "ELK_N           26.198888\n",
       "pPKCAB_N        25.716155\n",
       "EGR1_N          24.663063\n",
       "BAD_N           20.816607\n",
       "Name: anderson, dtype: float64"
      ]
     },
     "execution_count": 8,
     "metadata": {},
     "output_type": "execute_result"
    }
   ],
   "source": [
    "description.loc['anderson'] = finite_norm\n",
    "\n",
    "high_anderson = description.loc['anderson'].where(lambda x: x > 20).dropna().sort_values(ascending=False)\n",
    "high_anderson"
   ]
  },
  {
   "cell_type": "markdown",
   "metadata": {},
   "source": [
    "There seems to be a significant overlap between variables with a high coefficient of variation, and variables that are highly non-normal.\n",
    "\n",
    "If we create sets from the genes above the cutoff level in each case, we can see which genes are present in both sets."
   ]
  },
  {
   "cell_type": "code",
   "execution_count": 9,
   "metadata": {
    "hideCode": false,
    "hidePrompt": false
   },
   "outputs": [
    {
     "name": "stdout",
     "output_type": "stream",
     "text": [
      "{'BRAF_N', 'pELK_N', 'SOD1_N', 'DYRK1A_N', 'ITSN1_N', 'pPKCAB_N', 'H3AcK18_N', 'Tau_N', 'AcetylH3K9_N', 'pERK_N'}\n"
     ]
    }
   ],
   "source": [
    "high_anderson_and_cova = set(high_anderson.index) & set(high_cova.index)\n",
    "print(high_anderson_and_cova)"
   ]
  },
  {
   "cell_type": "markdown",
   "metadata": {},
   "source": [
    "That leaves ten variables that have been selected for through multiple mechanisms.  Let's go ahead and visualize them all at the same time."
   ]
  },
  {
   "cell_type": "code",
   "execution_count": 10,
   "metadata": {
    "hideCode": false,
    "hidePrompt": false
   },
   "outputs": [
    {
     "data": {
      "image/png": "[encoded data removed]",
      "text/plain": [
       "<matplotlib.figure.Figure at 0x7f69ff901080>"
      ]
     },
     "metadata": {},
     "output_type": "display_data"
    }
   ],
   "source": [
    "gene_data = [df[gene] for gene in high_anderson_and_cova]\n",
    "\n",
    "plot_histogram(*gene_data, title=high_anderson_and_cova);"
   ]
  },
  {
   "cell_type": "markdown",
   "metadata": {
    "collapsed": true
   },
   "source": [
    "Other interesting metrics to look at include the skew and kurtosis of distributions.  Skew measures the symmetry of a distribution about its mean, while kurtosis measures the portion of the data in the tails of the distribution.\n",
    "\n",
    "Skew and kurtosis can be combined into a nice scatter plot that tells you a lot about the structure of your data set."
   ]
  },
  {
   "cell_type": "code",
   "execution_count": 11,
   "metadata": {},
   "outputs": [
    {
     "data": {
      "text/html": [
       "\n",
       "\n",
       "    <div class=\"bk-root\">\n",
       "        <div class=\"bk-plotdiv\" id=\"9e109173-03ec-48b7-b9dd-8354c97bddd5\"></div>\n",
       "    </div>\n",
       "<script type=\"text/javascript\">\n",
       "  \n",
       "  (function(global) {\n",
       "    function now() {\n",
       "      return new Date();\n",
       "    }\n",
       "  \n",
       "    var force = false;\n",
       "  \n",
       "    if (typeof (window._bokeh_onload_callbacks) === \"undefined\" || force === true) {\n",
       "      window._bokeh_onload_callbacks = [];\n",
       "      window._bokeh_is_loading = undefined;\n",
       "    }\n",
       "  \n",
       "  \n",
       "    \n",
       "    if (typeof (window._bokeh_timeout) === \"undefined\" || force === true) {\n",
       "      window._bokeh_timeout = Date.now() + 0;\n",
       "      window._bokeh_failed_load = false;\n",
       "    }\n",
       "  \n",
       "    var NB_LOAD_WARNING = {'data': {'text/html':\n",
       "       \"<div style='background-color: #fdd'>\\n\"+\n",
       "       \"<p>\\n\"+\n",
       "       \"BokehJS does not appear to have successfully loaded. If loading BokehJS from CDN, this \\n\"+\n",
       "       \"may be due to a slow or bad network connection. Possible fixes:\\n\"+\n",
       "       \"</p>\\n\"+\n",
       "       \"<ul>\\n\"+\n",
       "       \"<li>re-rerun `output_notebook()` to attempt to load from CDN again, or</li>\\n\"+\n",
       "       \"<li>use INLINE resources instead, as so:</li>\\n\"+\n",
       "       \"</ul>\\n\"+\n",
       "       \"<code>\\n\"+\n",
       "       \"from bokeh.resources import INLINE\\n\"+\n",
       "       \"output_notebook(resources=INLINE)\\n\"+\n",
       "       \"</code>\\n\"+\n",
       "       \"</div>\"}};\n",
       "  \n",
       "    function display_loaded() {\n",
       "      if (window.Bokeh !== undefined) {\n",
       "        var el = document.getElementById(\"9e109173-03ec-48b7-b9dd-8354c97bddd5\");\n",
       "        el.textContent = \"BokehJS \" + Bokeh.version + \" successfully loaded.\";\n",
       "      } else if (Date.now() < window._bokeh_timeout) {\n",
       "        setTimeout(display_loaded, 100)\n",
       "      }\n",
       "    }if ((window.Jupyter !== undefined) && Jupyter.notebook.kernel) {\n",
       "      comm_manager = Jupyter.notebook.kernel.comm_manager\n",
       "      comm_manager.register_target(\"0132a00f-0fde-449c-8a54-156a6dd003ef\", function () {});\n",
       "    }\n",
       "  \n",
       "    function run_callbacks() {\n",
       "      window._bokeh_onload_callbacks.forEach(function(callback) { callback() });\n",
       "      delete window._bokeh_onload_callbacks\n",
       "      console.info(\"Bokeh: all callbacks have finished\");\n",
       "    }\n",
       "  \n",
       "    function load_libs(js_urls, callback) {\n",
       "      window._bokeh_onload_callbacks.push(callback);\n",
       "      if (window._bokeh_is_loading > 0) {\n",
       "        console.log(\"Bokeh: BokehJS is being loaded, scheduling callback at\", now());\n",
       "        return null;\n",
       "      }\n",
       "      if (js_urls == null || js_urls.length === 0) {\n",
       "        run_callbacks();\n",
       "        return null;\n",
       "      }\n",
       "      console.log(\"Bokeh: BokehJS not loaded, scheduling load and callback at\", now());\n",
       "      window._bokeh_is_loading = js_urls.length;\n",
       "      for (var i = 0; i < js_urls.length; i++) {\n",
       "        var url = js_urls[i];\n",
       "        var s = document.createElement('script');\n",
       "        s.src = url;\n",
       "        s.async = false;\n",
       "        s.onreadystatechange = s.onload = function() {\n",
       "          window._bokeh_is_loading--;\n",
       "          if (window._bokeh_is_loading === 0) {\n",
       "            console.log(\"Bokeh: all BokehJS libraries loaded\");\n",
       "            run_callbacks()\n",
       "          }\n",
       "        };\n",
       "        s.onerror = function() {\n",
       "          console.warn(\"failed to load library \" + url);\n",
       "        };\n",
       "        console.log(\"Bokeh: injecting script tag for BokehJS library: \", url);\n",
       "        document.getElementsByTagName(\"head\")[0].appendChild(s);\n",
       "      }\n",
       "    };var element = document.getElementById(\"9e109173-03ec-48b7-b9dd-8354c97bddd5\");\n",
       "    if (element == null) {\n",
       "      console.log(\"Bokeh: ERROR: autoload.js configured with elementid '9e109173-03ec-48b7-b9dd-8354c97bddd5' but no matching script tag was found. \")\n",
       "      return false;\n",
       "    }\n",
       "  \n",
       "    var js_urls = [];\n",
       "  \n",
       "    var inline_js = [\n",
       "      function(Bokeh) {\n",
       "        (function() {\n",
       "          var fn = function() {\n",
       "            var docs_json = {\"5d3a2233-bbf8-4d46-8e0c-23a5e6d4a7be\":{\"roots\":{\"references\":[{\"attributes\":{\"fill_alpha\":{\"value\":0.1},\"fill_color\":{\"value\":\"#1f77b4\"},\"line_alpha\":{\"value\":0.1},\"line_color\":{\"value\":\"#1f77b4\"},\"x\":{\"field\":\"skew\"},\"y\":{\"field\":\"kurtosis\"}},\"id\":\"3d2f138a-30ca-43fb-a3cd-0aa64232c19d\",\"type\":\"X\"},{\"attributes\":{\"active_drag\":\"auto\",\"active_scroll\":\"auto\",\"active_tap\":\"auto\",\"tools\":[{\"id\":\"5ba6965b-8292-4ade-8dee-1c7cfa37748c\",\"type\":\"BoxZoomTool\"},{\"id\":\"70236884-ca0a-40cc-a951-c1dc8a012391\",\"type\":\"ResetTool\"},{\"id\":\"c84323c9-7eaf-49a5-bf24-6170f149ecff\",\"type\":\"SaveTool\"},{\"id\":\"de34ccdb-5276-424f-9efa-546c547191e5\",\"type\":\"HoverTool\"}]},\"id\":\"4fc76b0e-7195-49b4-a53d-09bf471ce03b\",\"type\":\"Toolbar\"},{\"attributes\":{\"data_source\":{\"id\":\"7948c1c3-bf0b-41c1-a325-73d788fb9462\",\"type\":\"ColumnDataSource\"},\"glyph\":{\"id\":\"6d20619a-5711-4206-8b10-b7f01b6300ab\",\"type\":\"X\"},\"hover_glyph\":null,\"muted_glyph\":null,\"name\":\"skew_kurt\",\"nonselection_glyph\":{\"id\":\"3d2f138a-30ca-43fb-a3cd-0aa64232c19d\",\"type\":\"X\"},\"selection_glyph\":null},\"id\":\"e145b5f3-e38a-44e4-bdb7-5ed6c565ffda\",\"type\":\"GlyphRenderer\"},{\"attributes\":{},\"id\":\"fd29d368-05ef-44a3-b652-8802540b3b6b\",\"type\":\"BasicTickFormatter\"},{\"attributes\":{\"formatter\":{\"id\":\"fd29d368-05ef-44a3-b652-8802540b3b6b\",\"type\":\"BasicTickFormatter\"},\"plot\":{\"id\":\"8a408dc2-9bdf-43b8-923e-edc5dc1e2af5\",\"subtype\":\"Figure\",\"type\":\"Plot\"},\"ticker\":{\"id\":\"b96c3813-44a6-4f4c-ac35-cd84c6cc4c50\",\"type\":\"BasicTicker\"}},\"id\":\"fe926cbe-5b9f-4cff-843b-38f6df54cd1a\",\"type\":\"LinearAxis\"},{\"attributes\":{\"bottom_units\":\"screen\",\"fill_alpha\":{\"value\":0.5},\"fill_color\":{\"value\":\"lightgrey\"},\"left_units\":\"screen\",\"level\":\"overlay\",\"line_alpha\":{\"value\":1.0},\"line_color\":{\"value\":\"black\"},\"line_dash\":[4,4],\"line_width\":{\"value\":2},\"plot\":null,\"render_mode\":\"css\",\"right_units\":\"screen\",\"top_units\":\"screen\"},\"id\":\"8abc19c2-4075-41b2-8914-2d99b71e4290\",\"type\":\"BoxAnnotation\"},{\"attributes\":{\"callback\":null,\"names\":[\"skew_kurt\"],\"plot\":{\"id\":\"8a408dc2-9bdf-43b8-923e-edc5dc1e2af5\",\"subtype\":\"Figure\",\"type\":\"Plot\"},\"tooltips\":[[\"gene\",\"@gene\"]]},\"id\":\"de34ccdb-5276-424f-9efa-546c547191e5\",\"type\":\"HoverTool\"},{\"attributes\":{\"plot\":{\"id\":\"8a408dc2-9bdf-43b8-923e-edc5dc1e2af5\",\"subtype\":\"Figure\",\"type\":\"Plot\"}},\"id\":\"c84323c9-7eaf-49a5-bf24-6170f149ecff\",\"type\":\"SaveTool\"},{\"attributes\":{},\"id\":\"ee38ae72-3deb-4991-92af-e7e5baa0bbb4\",\"type\":\"ToolEvents\"},{\"attributes\":{},\"id\":\"b96c3813-44a6-4f4c-ac35-cd84c6cc4c50\",\"type\":\"BasicTicker\"},{\"attributes\":{\"plot\":null,\"text\":\"\"},\"id\":\"a94e0f98-1c55-48ae-9846-bb4e9aa1dd0b\",\"type\":\"Title\"},{\"attributes\":{\"callback\":null,\"column_names\":[\"skew\",\"kurtosis\",\"gene\",\"index\"],\"data\":{\"gene\":[\"DYRK1A\",\"ITSN1\",\"BDNF\",\"NR1\",\"NR2A\",\"pAKT\",\"pBRAF\",\"pCAMKII\",\"pCREB\",\"pELK\",\"pERK\",\"pJNK\",\"PKCA\",\"pMEK\",\"pNR1\",\"pNR2A\",\"pNR2B\",\"pPKCAB\",\"pRSK\",\"AKT\",\"BRAF\",\"CAMKII\",\"CREB\",\"ELK\",\"ERK\",\"GSK3B\",\"JNK\",\"MEK\",\"TRKA\",\"RSK\",\"APP\",\"Bcatenin\",\"SOD1\",\"MTOR\",\"P38\",\"pMTOR\",\"DSCR1\",\"AMPKA\",\"NR2B\",\"pNUMB\",\"RAPTOR\",\"TIAM1\",\"pP70S6\",\"NUMB\",\"P70S6\",\"pGSK3B\",\"pPKCG\",\"CDK5\",\"S6\",\"ADARB1\",\"AcetylH3K9\",\"RRP1\",\"BAX\",\"ARC\",\"ERBB4\",\"nNOS\",\"Tau\",\"GFAP\",\"GluR3\",\"GluR4\",\"IL1B\",\"P3525\",\"pCASP9\",\"PSD95\",\"SNCA\",\"Ubiquitin\",\"pGSK3B\",\"SHH\",\"BAD\",\"BCL2\",\"pS6\",\"pCFOS\",\"SYP\",\"H3AcK18\",\"EGR1\",\"H3MeK4\",\"CaNA\"],\"index\":[\"DYRK1A_N\",\"ITSN1_N\",\"BDNF_N\",\"NR1_N\",\"NR2A_N\",\"pAKT_N\",\"pBRAF_N\",\"pCAMKII_N\",\"pCREB_N\",\"pELK_N\",\"pERK_N\",\"pJNK_N\",\"PKCA_N\",\"pMEK_N\",\"pNR1_N\",\"pNR2A_N\",\"pNR2B_N\",\"pPKCAB_N\",\"pRSK_N\",\"AKT_N\",\"BRAF_N\",\"CAMKII_N\",\"CREB_N\",\"ELK_N\",\"ERK_N\",\"GSK3B_N\",\"JNK_N\",\"MEK_N\",\"TRKA_N\",\"RSK_N\",\"APP_N\",\"Bcatenin_N\",\"SOD1_N\",\"MTOR_N\",\"P38_N\",\"pMTOR_N\",\"DSCR1_N\",\"AMPKA_N\",\"NR2B_N\",\"pNUMB_N\",\"RAPTOR_N\",\"TIAM1_N\",\"pP70S6_N\",\"NUMB_N\",\"P70S6_N\",\"pGSK3B_N\",\"pPKCG_N\",\"CDK5_N\",\"S6_N\",\"ADARB1_N\",\"AcetylH3K9_N\",\"RRP1_N\",\"BAX_N\",\"ARC_N\",\"ERBB4_N\",\"nNOS_N\",\"Tau_N\",\"GFAP_N\",\"GluR3_N\",\"GluR4_N\",\"IL1B_N\",\"P3525_N\",\"pCASP9_N\",\"PSD95_N\",\"SNCA_N\",\"Ubiquitin_N\",\"pGSK3B_Tyr216_N\",\"SHH_N\",\"BAD_N\",\"BCL2_N\",\"pS6_N\",\"pCFOS_N\",\"SYP_N\",\"H3AcK18_N\",\"EGR1_N\",\"H3MeK4_N\",\"CaNA_N\"],\"kurtosis\":{\"__ndarray__\":\"w/GS1XNNO0AvR4nJKns1QCg/qfKQ0dY/ABProqfznL+AnFr1hgzYP7ByVT5+pwxAEI5xrXkN/T9oGTSG2WnivwDkKod8WZO/4Dwe0RGcOUDEHC5VNF42QGQpdgH6XgBAaM6EdFiH0b/ohmIv8FvwPyiR3G57vd4/gGolot0Tqr+84XetkyntP9BzFp5/Xd+/Eh753bt4AkDAbe2uy7/1P5Fks80eLTxANLDl6ml96z/gDrM9J0HzPw4/yukAWARAMM/aJNtG1T//SYyPQBoRQDio9nz8xg9AQC9H17qprD/wM83q3U7PP5RNYKmMKfA/kHerrRJ3xj8waElpYA3Jvwx4rkfU7fo/vLEZINkp4T94uLNgR2X5P876p2/11QVAtji2ZPl7A0CAHrbJFL/xP9q02S6EpAFAkB1LHfKc4T9A4QWL8FLaP7TyO7carPI/XI83FCpn+z/05NNJ3EPsP3hwyhJ7Udw/PFIX+x1f9T8g4ZvTRyHgv7MlvEVxo0FAiDgCLJHw5r8YMtuCMN3rPwh4Ps6D1SFA/K6vqwvzRkDkOsA9Ykz2P/ikgNUAoNi/0HcMWeFJ4j9ge49nIvTFPwBVwHq+MRJA4BgPB6ZsD0DAoSuI+8vEv94TYgR7IE9AyG5HvlWD3j8wiGRwQw3BP+RAaCEO+OE/oJrz8DN63j+onofGiDLdP4B0KkXa37G/QB3g2ymtpj9Q/wftbrv9P2DVvIttbvc/zhEdo2/bDUD4pIDVAKDYv2gGo6hVIgVAWNROX/oP4D/qaMoryNMZQJ7kRBcBGwVA1AbXP8fBAEAYD8c41arnvw==\",\"dtype\":\"float64\",\"shape\":[77]},\"skew\":{\"__ndarray__\":\"pTWWyoFtEUDYNuV92voMQBP61tY/pdE/bnfsXvb5qz90ELCAYQrhP2vyYO6wsuI/eGBScmaLxz+wC6ATZ4rhP2RKN5eZ8MI/70BahYP1D0CflyQcxK4OQAKtCUsOeum/+dKLUA5y0j/fmdDAyIOvvxTmLXTg+9A/Z6euy2hp1j920FgqPdDEvy+YXU6pqOQ/oHKxK0BZ1b8gRqpHI/HBv11FQN3NMBJAObKIuIHO2T/RZ6qx1j3jP+SEGf1Y0/U/kLNBUwoL5T+WBhHhuv7vP6etARPnMuy/tUYFSFX+vL9dWkqqXNjbv1PXRPMfX+Q/l8TGGvMqzT/CMrxJ7QLVP+jhO9CK0PQ/92BWUAISdj9btH4P6IvqP+XCIJb8iOe/LmTDXVCZmb/W/Uw30lfpP7qZTDqZT8m/MPNC8CCF5T9Hgm/BRFvpP8P811mVXes/4vslxJrP7D/W370Nw9XnP/Ns0fNAAds/imvP6ftb4T+92Gug4gPQP6f7hxxo2QNAo4DpRY3b2z9JEIvd1iTwP5EtKskGbgVAsDtr8zz9D0AB1X27hebiv/j6E0Ce5LO/JLos9S8xn78e3AwUCcHGvy/IPqLm1f0/rPYHUOqM6z+MjhFESy7UP80lVD3k7RJASKh1zEAlzj9BVIo2/4HHPwAX15r8VN0/ual2Jvz+3L/ySPVjhA7jP15SCzQWTcM/jytjd7Tiu7//VxUy/NjuP3J32Va5Bu0/KzgquRWm9j/4+hNAnuSzv4JU4Qw2IPM/iytB/gFMwT8/2QpbMb7+P6TV223QtfM/0NQ1TaEh8j9BJupdD8PGPw==\",\"dtype\":\"float64\",\"shape\":[77]}}},\"id\":\"7948c1c3-bf0b-41c1-a325-73d788fb9462\",\"type\":\"ColumnDataSource\"},{\"attributes\":{\"below\":[{\"id\":\"fe926cbe-5b9f-4cff-843b-38f6df54cd1a\",\"type\":\"LinearAxis\"}],\"left\":[{\"id\":\"c0f93c5b-a858-4daa-8339-c6a6ef5dc16f\",\"type\":\"LinearAxis\"}],\"plot_height\":500,\"plot_width\":500,\"renderers\":[{\"id\":\"fe926cbe-5b9f-4cff-843b-38f6df54cd1a\",\"type\":\"LinearAxis\"},{\"id\":\"70c22572-8c6f-444f-9a56-7d033022c771\",\"type\":\"Grid\"},{\"id\":\"c0f93c5b-a858-4daa-8339-c6a6ef5dc16f\",\"type\":\"LinearAxis\"},{\"id\":\"630ca251-b0fe-421f-bac3-e331bf0badc8\",\"type\":\"Grid\"},{\"id\":\"8abc19c2-4075-41b2-8914-2d99b71e4290\",\"type\":\"BoxAnnotation\"},{\"id\":\"e145b5f3-e38a-44e4-bdb7-5ed6c565ffda\",\"type\":\"GlyphRenderer\"}],\"title\":{\"id\":\"a94e0f98-1c55-48ae-9846-bb4e9aa1dd0b\",\"type\":\"Title\"},\"tool_events\":{\"id\":\"ee38ae72-3deb-4991-92af-e7e5baa0bbb4\",\"type\":\"ToolEvents\"},\"toolbar\":{\"id\":\"4fc76b0e-7195-49b4-a53d-09bf471ce03b\",\"type\":\"Toolbar\"},\"x_range\":{\"id\":\"d8206391-45e6-4831-9b00-40d859434124\",\"type\":\"DataRange1d\"},\"y_range\":{\"id\":\"d264587d-abfd-4828-a57e-dea8262b3ff4\",\"type\":\"DataRange1d\"}},\"id\":\"8a408dc2-9bdf-43b8-923e-edc5dc1e2af5\",\"subtype\":\"Figure\",\"type\":\"Plot\"},{\"attributes\":{\"callback\":null},\"id\":\"d264587d-abfd-4828-a57e-dea8262b3ff4\",\"type\":\"DataRange1d\"},{\"attributes\":{},\"id\":\"956bea91-023d-4a2f-b92d-71959d482415\",\"type\":\"BasicTicker\"},{\"attributes\":{\"formatter\":{\"id\":\"94effcff-7310-4e96-b862-cb6e28d19ba0\",\"type\":\"BasicTickFormatter\"},\"plot\":{\"id\":\"8a408dc2-9bdf-43b8-923e-edc5dc1e2af5\",\"subtype\":\"Figure\",\"type\":\"Plot\"},\"ticker\":{\"id\":\"956bea91-023d-4a2f-b92d-71959d482415\",\"type\":\"BasicTicker\"}},\"id\":\"c0f93c5b-a858-4daa-8339-c6a6ef5dc16f\",\"type\":\"LinearAxis\"},{\"attributes\":{\"plot\":{\"id\":\"8a408dc2-9bdf-43b8-923e-edc5dc1e2af5\",\"subtype\":\"Figure\",\"type\":\"Plot\"}},\"id\":\"70236884-ca0a-40cc-a951-c1dc8a012391\",\"type\":\"ResetTool\"},{\"attributes\":{\"plot\":{\"id\":\"8a408dc2-9bdf-43b8-923e-edc5dc1e2af5\",\"subtype\":\"Figure\",\"type\":\"Plot\"},\"ticker\":{\"id\":\"b96c3813-44a6-4f4c-ac35-cd84c6cc4c50\",\"type\":\"BasicTicker\"}},\"id\":\"70c22572-8c6f-444f-9a56-7d033022c771\",\"type\":\"Grid\"},{\"attributes\":{\"fill_color\":{\"value\":\"#1f77b4\"},\"line_color\":{\"value\":\"#1f77b4\"},\"x\":{\"field\":\"skew\"},\"y\":{\"field\":\"kurtosis\"}},\"id\":\"6d20619a-5711-4206-8b10-b7f01b6300ab\",\"type\":\"X\"},{\"attributes\":{},\"id\":\"94effcff-7310-4e96-b862-cb6e28d19ba0\",\"type\":\"BasicTickFormatter\"},{\"attributes\":{\"overlay\":{\"id\":\"8abc19c2-4075-41b2-8914-2d99b71e4290\",\"type\":\"BoxAnnotation\"},\"plot\":{\"id\":\"8a408dc2-9bdf-43b8-923e-edc5dc1e2af5\",\"subtype\":\"Figure\",\"type\":\"Plot\"}},\"id\":\"5ba6965b-8292-4ade-8dee-1c7cfa37748c\",\"type\":\"BoxZoomTool\"},{\"attributes\":{\"dimension\":1,\"plot\":{\"id\":\"8a408dc2-9bdf-43b8-923e-edc5dc1e2af5\",\"subtype\":\"Figure\",\"type\":\"Plot\"},\"ticker\":{\"id\":\"956bea91-023d-4a2f-b92d-71959d482415\",\"type\":\"BasicTicker\"}},\"id\":\"630ca251-b0fe-421f-bac3-e331bf0badc8\",\"type\":\"Grid\"},{\"attributes\":{\"callback\":null},\"id\":\"d8206391-45e6-4831-9b00-40d859434124\",\"type\":\"DataRange1d\"}],\"root_ids\":[\"8a408dc2-9bdf-43b8-923e-edc5dc1e2af5\"]},\"title\":\"Bokeh Application\",\"version\":\"0.12.5\"}};\n",
       "            var render_items = [{\"docid\":\"5d3a2233-bbf8-4d46-8e0c-23a5e6d4a7be\",\"elementid\":\"9e109173-03ec-48b7-b9dd-8354c97bddd5\",\"modelid\":\"8a408dc2-9bdf-43b8-923e-edc5dc1e2af5\",\"notebook_comms_target\":\"0132a00f-0fde-449c-8a54-156a6dd003ef\"}];\n",
       "            \n",
       "            Bokeh.embed.embed_items(docs_json, render_items);\n",
       "          };\n",
       "          if (document.readyState != \"loading\") fn();\n",
       "          else document.addEventListener(\"DOMContentLoaded\", fn);\n",
       "        })();\n",
       "      },\n",
       "      function(Bokeh) {\n",
       "      }\n",
       "    ];\n",
       "  \n",
       "    function run_inline_js() {\n",
       "      \n",
       "      if ((window.Bokeh !== undefined) || (force === true)) {\n",
       "        for (var i = 0; i < inline_js.length; i++) {\n",
       "          inline_js[i](window.Bokeh);\n",
       "        }if (force === true) {\n",
       "          display_loaded();\n",
       "        }} else if (Date.now() < window._bokeh_timeout) {\n",
       "        setTimeout(run_inline_js, 100);\n",
       "      } else if (!window._bokeh_failed_load) {\n",
       "        console.log(\"Bokeh: BokehJS failed to load within specified timeout.\");\n",
       "        window._bokeh_failed_load = true;\n",
       "      } else if (force !== true) {\n",
       "        var cell = $(document.getElementById(\"9e109173-03ec-48b7-b9dd-8354c97bddd5\")).parents('.cell').data().cell;\n",
       "        cell.output_area.append_execute_result(NB_LOAD_WARNING)\n",
       "      }\n",
       "  \n",
       "    }\n",
       "  \n",
       "    if (window._bokeh_is_loading === 0) {\n",
       "      console.log(\"Bokeh: BokehJS loaded, going straight to plotting\");\n",
       "      run_inline_js();\n",
       "    } else {\n",
       "      load_libs(js_urls, function() {\n",
       "        console.log(\"Bokeh: BokehJS plotting callback run at\", now());\n",
       "        run_inline_js();\n",
       "      });\n",
       "    }\n",
       "  }(this));\n",
       "</script>"
      ]
     },
     "metadata": {},
     "output_type": "display_data"
    }
   ],
   "source": [
    "skews = df_numeric.apply(lambda x: skew(x))\n",
    "skews.name = \"skew\"\n",
    "kurts = df_numeric.apply(lambda x: kurtosis(x))\n",
    "kurts.name = \"kurtosis\"\n",
    "\n",
    "genes = pd.Series([i.split(\"_\")[0] for i in kurts.index], index=kurts.index, name=\"gene\")\n",
    "sk_df = pd.concat([skews, kurts, genes], axis=1)\n",
    "fig = scatter_with_hover(sk_df, \"skew\", \"kurtosis\", name=\"skew_kurt\", cols=[\"gene\"])\n",
    "show(fig, notebook_handle=True);"
   ]
  },
  {
   "cell_type": "markdown",
   "metadata": {},
   "source": [
    "In all likelyhood, the normality tests have already picked up those outliers, but lets take a look at them just for completeness."
   ]
  },
  {
   "cell_type": "code",
   "execution_count": 12,
   "metadata": {},
   "outputs": [
    {
     "data": {
      "text/html": [
       "<div>\n",
       "<style>\n",
       "    .dataframe thead tr:only-child th {\n",
       "        text-align: right;\n",
       "    }\n",
       "\n",
       "    .dataframe thead th {\n",
       "        text-align: left;\n",
       "    }\n",
       "\n",
       "    .dataframe tbody tr th {\n",
       "        vertical-align: top;\n",
       "    }\n",
       "</style>\n",
       "<table border=\"1\" class=\"dataframe\">\n",
       "  <thead>\n",
       "    <tr style=\"text-align: right;\">\n",
       "      <th></th>\n",
       "      <th>skew</th>\n",
       "      <th>kurtosis</th>\n",
       "    </tr>\n",
       "  </thead>\n",
       "  <tbody>\n",
       "    <tr>\n",
       "      <th>DYRK1A_N</th>\n",
       "      <td>4.356940</td>\n",
       "      <td>27.302549</td>\n",
       "    </tr>\n",
       "    <tr>\n",
       "      <th>ITSN1_N</th>\n",
       "      <td>3.622487</td>\n",
       "      <td>21.481122</td>\n",
       "    </tr>\n",
       "    <tr>\n",
       "      <th>pELK_N</th>\n",
       "      <td>3.994880</td>\n",
       "      <td>25.609647</td>\n",
       "    </tr>\n",
       "    <tr>\n",
       "      <th>pERK_N</th>\n",
       "      <td>3.835335</td>\n",
       "      <td>22.367986</td>\n",
       "    </tr>\n",
       "    <tr>\n",
       "      <th>BRAF_N</th>\n",
       "      <td>4.547660</td>\n",
       "      <td>28.176251</td>\n",
       "    </tr>\n",
       "    <tr>\n",
       "      <th>CDK5_N</th>\n",
       "      <td>2.481156</td>\n",
       "      <td>35.276894</td>\n",
       "    </tr>\n",
       "    <tr>\n",
       "      <th>AcetylH3K9_N</th>\n",
       "      <td>2.678724</td>\n",
       "      <td>8.917021</td>\n",
       "    </tr>\n",
       "    <tr>\n",
       "      <th>RRP1_N</th>\n",
       "      <td>3.998651</td>\n",
       "      <td>45.898794</td>\n",
       "    </tr>\n",
       "    <tr>\n",
       "      <th>Tau_N</th>\n",
       "      <td>1.864722</td>\n",
       "      <td>4.548578</td>\n",
       "    </tr>\n",
       "    <tr>\n",
       "      <th>GluR4_N</th>\n",
       "      <td>4.732316</td>\n",
       "      <td>62.253754</td>\n",
       "    </tr>\n",
       "    <tr>\n",
       "      <th>BCL2_N</th>\n",
       "      <td>1.415548</td>\n",
       "      <td>3.732147</td>\n",
       "    </tr>\n",
       "    <tr>\n",
       "      <th>H3AcK18_N</th>\n",
       "      <td>1.921434</td>\n",
       "      <td>6.456818</td>\n",
       "    </tr>\n",
       "  </tbody>\n",
       "</table>\n",
       "</div>"
      ],
      "text/plain": [
       "                  skew   kurtosis\n",
       "DYRK1A_N      4.356940  27.302549\n",
       "ITSN1_N       3.622487  21.481122\n",
       "pELK_N        3.994880  25.609647\n",
       "pERK_N        3.835335  22.367986\n",
       "BRAF_N        4.547660  28.176251\n",
       "CDK5_N        2.481156  35.276894\n",
       "AcetylH3K9_N  2.678724   8.917021\n",
       "RRP1_N        3.998651  45.898794\n",
       "Tau_N         1.864722   4.548578\n",
       "GluR4_N       4.732316  62.253754\n",
       "BCL2_N        1.415548   3.732147\n",
       "H3AcK18_N     1.921434   6.456818"
      ]
     },
     "execution_count": 12,
     "metadata": {},
     "output_type": "execute_result"
    }
   ],
   "source": [
    "high_skew_kurt = sk_df.loc[((skews * kurts).abs() >= 5),[\"skew\", \"kurtosis\"]]\n",
    "high_skew_kurt"
   ]
  },
  {
   "cell_type": "markdown",
   "metadata": {},
   "source": [
    "These proteins should be starting to get familiar by now.\n",
    "\n",
    "### Identifying structure\n",
    "\n",
    "In addition to looking for deviations, it is important to identify the latent structure in the data.  There are a number of techniques for accomplishing this.  Clustering is a good way to expose structure in the data.  Hierarchical clustering algorithms are good because you don't need to specify a cluster count.  Hierarchical clustering algorithms also gives your variables a partial order, which you can take advantage of.  My preferred form of clustering is a technique called HDBSCAN.  It takes the minimum cluster size as the only parameter, and it produces both discrete and hierarchical clustering."
   ]
  },
  {
   "cell_type": "code",
   "execution_count": 13,
   "metadata": {
    "collapsed": true,
    "hideCode": false,
    "hidePrompt": false
   },
   "outputs": [],
   "source": [
    "fit = hdbscan.HDBSCAN(min_cluster_size=12).fit(ecdf_normalized_df)\n",
    "base_sample_clusters = pd.Series(fit.labels_, index=ecdf_normalized_df.index)"
   ]
  },
  {
   "cell_type": "code",
   "execution_count": 14,
   "metadata": {
    "hideCode": false,
    "hidePrompt": false,
    "scrolled": true
   },
   "outputs": [
    {
     "data": {
      "image/png": "[encoded data removed]",
      "text/plain": [
       "<matplotlib.figure.Figure at 0x7f69ffc6ea58>"
      ]
     },
     "metadata": {},
     "output_type": "display_data"
    }
   ],
   "source": [
    "counter_histogram(base_sample_clusters)"
   ]
  },
  {
   "cell_type": "markdown",
   "metadata": {},
   "source": [
    "Note that the initial clustering produced a large number of unclustered samples (-1).  Ideally, there would be relatively few unclustered samples.  To try and get that number down, I'm going to try varying the data set used to cluster the samples.\n",
    "\n",
    "On the plus side, the total number of different experimental conditions in the data set is eight, so the fact that eight clusters were detected is good.\n",
    "\n",
    "We already have some gene selection criteria in the form of coefficient of variance and divergence from normality.  Before deciding on additional variables to include, I need to learn a bit more about them.  The first step is to cluster them and see what varies together."
   ]
  },
  {
   "cell_type": "code",
   "execution_count": 15,
   "metadata": {},
   "outputs": [
    {
     "data": {
      "image/png": "[encoded data removed]",
      "text/plain": [
       "<matplotlib.figure.Figure at 0x7f69f77b7240>"
      ]
     },
     "metadata": {},
     "output_type": "display_data"
    }
   ],
   "source": [
    "def reorder_rows(fit, df):\n",
    "    clusters = fit.single_linkage_tree_.to_networkx()\n",
    "    leaf_nodes = set([n for n in clusters.nodes()\n",
    "                      if clusters.in_degree(n) != 0  and clusters.out_degree(n) == 0])\n",
    "    index_order = {i: v for i, v in enumerate(df.index)}\n",
    "    rows = [index_order[int(c)] for c in nx.topological_sort(clusters) if c in leaf_nodes]\n",
    "    return df.loc[rows]\n",
    "\n",
    "clustered_df = ecdf_normalized_df.assign(cluster=base_sample_clusters)\n",
    "sorted_df = reorder_rows(fit, clustered_df).sort_values(\"cluster\")\n",
    "transpose_df = sorted_df.drop(\"cluster\", 1).transpose()\n",
    "\n",
    "t_fit = hdbscan.HDBSCAN(min_cluster_size=5).fit(transpose_df)\n",
    "\n",
    "dimension_clusters = pd.Series(t_fit.labels_, index=transpose_df.index)\n",
    "\n",
    "t_clustered_df = transpose_df.assign(cluster=dimension_clusters)\n",
    "t_sorted_df = reorder_rows(t_fit, t_clustered_df).sort_values(\"cluster\")\n",
    "\n",
    "clustered_only = t_sorted_df[t_sorted_df[\"cluster\"] >= 0]\n",
    "counter_histogram(dimension_clusters)"
   ]
  },
  {
   "cell_type": "markdown",
   "metadata": {},
   "source": [
    "There are a large number of unclustered variables."
   ]
  },
  {
   "cell_type": "markdown",
   "metadata": {},
   "source": [
    "It looks like cluster 0 is related to some of the unusual variables identified earlier.\n",
    "\n",
    "Next we're going to visualize the distribution of the variables.  In order to do this we need to convert them from 1080 dimensions down to 2.  The best technique to do this is called multidimensional scaling.  It is available as part of scikit-learn."
   ]
  },
  {
   "cell_type": "code",
   "execution_count": 17,
   "metadata": {
    "scrolled": false
   },
   "outputs": [
    {
     "data": {
      "text/html": [
       "\n",
       "\n",
       "    <div class=\"bk-root\">\n",
       "        <div class=\"bk-plotdiv\" id=\"6a1df812-2a33-4081-b756-668bd1f4a87d\"></div>\n",
       "    </div>\n",
       "<script type=\"text/javascript\">\n",
       "  \n",
       "  (function(global) {\n",
       "    function now() {\n",
       "      return new Date();\n",
       "    }\n",
       "  \n",
       "    var force = false;\n",
       "  \n",
       "    if (typeof (window._bokeh_onload_callbacks) === \"undefined\" || force === true) {\n",
       "      window._bokeh_onload_callbacks = [];\n",
       "      window._bokeh_is_loading = undefined;\n",
       "    }\n",
       "  \n",
       "  \n",
       "    \n",
       "    if (typeof (window._bokeh_timeout) === \"undefined\" || force === true) {\n",
       "      window._bokeh_timeout = Date.now() + 0;\n",
       "      window._bokeh_failed_load = false;\n",
       "    }\n",
       "  \n",
       "    var NB_LOAD_WARNING = {'data': {'text/html':\n",
       "       \"<div style='background-color: #fdd'>\\n\"+\n",
       "       \"<p>\\n\"+\n",
       "       \"BokehJS does not appear to have successfully loaded. If loading BokehJS from CDN, this \\n\"+\n",
       "       \"may be due to a slow or bad network connection. Possible fixes:\\n\"+\n",
       "       \"</p>\\n\"+\n",
       "       \"<ul>\\n\"+\n",
       "       \"<li>re-rerun `output_notebook()` to attempt to load from CDN again, or</li>\\n\"+\n",
       "       \"<li>use INLINE resources instead, as so:</li>\\n\"+\n",
       "       \"</ul>\\n\"+\n",
       "       \"<code>\\n\"+\n",
       "       \"from bokeh.resources import INLINE\\n\"+\n",
       "       \"output_notebook(resources=INLINE)\\n\"+\n",
       "       \"</code>\\n\"+\n",
       "       \"</div>\"}};\n",
       "  \n",
       "    function display_loaded() {\n",
       "      if (window.Bokeh !== undefined) {\n",
       "        var el = document.getElementById(\"6a1df812-2a33-4081-b756-668bd1f4a87d\");\n",
       "        el.textContent = \"BokehJS \" + Bokeh.version + \" successfully loaded.\";\n",
       "      } else if (Date.now() < window._bokeh_timeout) {\n",
       "        setTimeout(display_loaded, 100)\n",
       "      }\n",
       "    }if ((window.Jupyter !== undefined) && Jupyter.notebook.kernel) {\n",
       "      comm_manager = Jupyter.notebook.kernel.comm_manager\n",
       "      comm_manager.register_target(\"e23b81e2-84f0-4a15-8212-b4b182349bfc\", function () {});\n",
       "    }\n",
       "  \n",
       "    function run_callbacks() {\n",
       "      window._bokeh_onload_callbacks.forEach(function(callback) { callback() });\n",
       "      delete window._bokeh_onload_callbacks\n",
       "      console.info(\"Bokeh: all callbacks have finished\");\n",
       "    }\n",
       "  \n",
       "    function load_libs(js_urls, callback) {\n",
       "      window._bokeh_onload_callbacks.push(callback);\n",
       "      if (window._bokeh_is_loading > 0) {\n",
       "        console.log(\"Bokeh: BokehJS is being loaded, scheduling callback at\", now());\n",
       "        return null;\n",
       "      }\n",
       "      if (js_urls == null || js_urls.length === 0) {\n",
       "        run_callbacks();\n",
       "        return null;\n",
       "      }\n",
       "      console.log(\"Bokeh: BokehJS not loaded, scheduling load and callback at\", now());\n",
       "      window._bokeh_is_loading = js_urls.length;\n",
       "      for (var i = 0; i < js_urls.length; i++) {\n",
       "        var url = js_urls[i];\n",
       "        var s = document.createElement('script');\n",
       "        s.src = url;\n",
       "        s.async = false;\n",
       "        s.onreadystatechange = s.onload = function() {\n",
       "          window._bokeh_is_loading--;\n",
       "          if (window._bokeh_is_loading === 0) {\n",
       "            console.log(\"Bokeh: all BokehJS libraries loaded\");\n",
       "            run_callbacks()\n",
       "          }\n",
       "        };\n",
       "        s.onerror = function() {\n",
       "          console.warn(\"failed to load library \" + url);\n",
       "        };\n",
       "        console.log(\"Bokeh: injecting script tag for BokehJS library: \", url);\n",
       "        document.getElementsByTagName(\"head\")[0].appendChild(s);\n",
       "      }\n",
       "    };var element = document.getElementById(\"6a1df812-2a33-4081-b756-668bd1f4a87d\");\n",
       "    if (element == null) {\n",
       "      console.log(\"Bokeh: ERROR: autoload.js configured with elementid '6a1df812-2a33-4081-b756-668bd1f4a87d' but no matching script tag was found. \")\n",
       "      return false;\n",
       "    }\n",
       "  \n",
       "    var js_urls = [];\n",
       "  \n",
       "    var inline_js = [\n",
       "      function(Bokeh) {\n",
       "        (function() {\n",
       "          var fn = function() {\n",
       "            var docs_json = {\"7ecf5cbf-5b87-4460-8458-3f1e18d7feae\":{\"roots\":{\"references\":[{\"attributes\":{\"formatter\":{\"id\":\"59bc4a79-664a-4c74-a3ea-4a813f986723\",\"type\":\"BasicTickFormatter\"},\"plot\":{\"id\":\"5f0c7ef3-5ae7-4972-963e-b4194f24d92e\",\"subtype\":\"Figure\",\"type\":\"Plot\"},\"ticker\":{\"id\":\"5036761d-bf71-47ad-9229-72660ce7cc87\",\"type\":\"BasicTicker\"}},\"id\":\"690fc7b8-8052-4e3d-bd01-d47d3f688a11\",\"type\":\"LinearAxis\"},{\"attributes\":{\"callback\":null},\"id\":\"fd1cd5bc-3e1d-42ed-87ed-70d5b8b1e317\",\"type\":\"DataRange1d\"},{\"attributes\":{\"plot\":{\"id\":\"5f0c7ef3-5ae7-4972-963e-b4194f24d92e\",\"subtype\":\"Figure\",\"type\":\"Plot\"}},\"id\":\"ea4d4ca8-d858-4971-bb88-760657b9808a\",\"type\":\"SaveTool\"},{\"attributes\":{\"data_source\":{\"id\":\"7d53fc30-9f20-4e3e-855c-8c3d4dcf0ebe\",\"type\":\"ColumnDataSource\"},\"glyph\":{\"id\":\"400c797b-ce16-4519-a70c-df935f8e84e8\",\"type\":\"X\"},\"hover_glyph\":null,\"muted_glyph\":null,\"name\":\"main\",\"nonselection_glyph\":{\"id\":\"e403bc8b-e2ae-4175-a9b7-5dd87d938d7c\",\"type\":\"X\"},\"selection_glyph\":null},\"id\":\"9a816ddc-3306-4aa6-965f-d7418de7ed3a\",\"type\":\"GlyphRenderer\"},{\"attributes\":{},\"id\":\"59bc4a79-664a-4c74-a3ea-4a813f986723\",\"type\":\"BasicTickFormatter\"},{\"attributes\":{},\"id\":\"23927443-0e0a-4196-8257-072f565b4c83\",\"type\":\"BasicTickFormatter\"},{\"attributes\":{\"bottom_units\":\"screen\",\"fill_alpha\":{\"value\":0.5},\"fill_color\":{\"value\":\"lightgrey\"},\"left_units\":\"screen\",\"level\":\"overlay\",\"line_alpha\":{\"value\":1.0},\"line_color\":{\"value\":\"black\"},\"line_dash\":[4,4],\"line_width\":{\"value\":2},\"plot\":null,\"render_mode\":\"css\",\"right_units\":\"screen\",\"top_units\":\"screen\"},\"id\":\"ada8b9f6-1c6d-4fe6-afc1-cc2c6b8376a1\",\"type\":\"BoxAnnotation\"},{\"attributes\":{},\"id\":\"7970ce38-24bb-45e1-9163-6cb3cbf8f539\",\"type\":\"ToolEvents\"},{\"attributes\":{\"formatter\":{\"id\":\"23927443-0e0a-4196-8257-072f565b4c83\",\"type\":\"BasicTickFormatter\"},\"plot\":{\"id\":\"5f0c7ef3-5ae7-4972-963e-b4194f24d92e\",\"subtype\":\"Figure\",\"type\":\"Plot\"},\"ticker\":{\"id\":\"8fa192c0-3bbd-4659-8d1f-8cba3b053409\",\"type\":\"BasicTicker\"}},\"id\":\"bc622f76-9b4a-4455-995d-54ed41a4fba1\",\"type\":\"LinearAxis\"},{\"attributes\":{\"fill_color\":{\"value\":\"#1f77b4\"},\"line_color\":{\"value\":\"#1f77b4\"},\"x\":{\"field\":\"x\"},\"y\":{\"field\":\"y\"}},\"id\":\"400c797b-ce16-4519-a70c-df935f8e84e8\",\"type\":\"X\"},{\"attributes\":{\"plot\":null,\"text\":\"\"},\"id\":\"effd930d-6f39-48f2-8940-e703ee99217f\",\"type\":\"Title\"},{\"attributes\":{\"plot\":{\"id\":\"5f0c7ef3-5ae7-4972-963e-b4194f24d92e\",\"subtype\":\"Figure\",\"type\":\"Plot\"},\"ticker\":{\"id\":\"5036761d-bf71-47ad-9229-72660ce7cc87\",\"type\":\"BasicTicker\"}},\"id\":\"344ba015-3de3-4008-b540-96b148d8e119\",\"type\":\"Grid\"},{\"attributes\":{\"callback\":null},\"id\":\"219b73c7-9d48-4034-9948-a4db5d6dfa61\",\"type\":\"DataRange1d\"},{\"attributes\":{\"callback\":null,\"names\":[\"main\"],\"plot\":{\"id\":\"5f0c7ef3-5ae7-4972-963e-b4194f24d92e\",\"subtype\":\"Figure\",\"type\":\"Plot\"},\"tooltips\":[[\"x\",\"@x\"],[\"y\",\"@y\"],[\"gene\",\"@gene\"]]},\"id\":\"8dd14a71-c7e8-4809-8b63-abb72d616c2e\",\"type\":\"HoverTool\"},{\"attributes\":{\"plot\":{\"id\":\"5f0c7ef3-5ae7-4972-963e-b4194f24d92e\",\"subtype\":\"Figure\",\"type\":\"Plot\"}},\"id\":\"c8116952-6126-497b-9952-2892271a1254\",\"type\":\"ResetTool\"},{\"attributes\":{\"callback\":null,\"column_names\":[\"x\",\"y\",\"gene\",\"index\"],\"data\":{\"gene\":[\"DYRK1A\",\"ITSN1\",\"BDNF\",\"NR1\",\"NR2A\",\"pAKT\",\"pBRAF\",\"pCAMKII\",\"pCREB\",\"pELK\",\"pERK\",\"pJNK\",\"PKCA\",\"pMEK\",\"pNR1\",\"pNR2A\",\"pNR2B\",\"pPKCAB\",\"pRSK\",\"AKT\",\"BRAF\",\"CAMKII\",\"CREB\",\"ELK\",\"ERK\",\"GSK3B\",\"JNK\",\"MEK\",\"TRKA\",\"RSK\",\"APP\",\"Bcatenin\",\"SOD1\",\"MTOR\",\"P38\",\"pMTOR\",\"DSCR1\",\"AMPKA\",\"NR2B\",\"pNUMB\",\"RAPTOR\",\"TIAM1\",\"pP70S6\",\"NUMB\",\"P70S6\",\"pGSK3B\",\"pPKCG\",\"CDK5\",\"S6\",\"ADARB1\",\"AcetylH3K9\",\"RRP1\",\"BAX\",\"ARC\",\"ERBB4\",\"nNOS\",\"Tau\",\"GFAP\",\"GluR3\",\"GluR4\",\"IL1B\",\"P3525\",\"pCASP9\",\"PSD95\",\"SNCA\",\"Ubiquitin\",\"pGSK3B\",\"SHH\",\"BAD\",\"BCL2\",\"pS6\",\"pCFOS\",\"SYP\",\"H3AcK18\",\"EGR1\",\"H3MeK4\",\"CaNA\"],\"index\":[\"DYRK1A_N\",\"ITSN1_N\",\"BDNF_N\",\"NR1_N\",\"NR2A_N\",\"pAKT_N\",\"pBRAF_N\",\"pCAMKII_N\",\"pCREB_N\",\"pELK_N\",\"pERK_N\",\"pJNK_N\",\"PKCA_N\",\"pMEK_N\",\"pNR1_N\",\"pNR2A_N\",\"pNR2B_N\",\"pPKCAB_N\",\"pRSK_N\",\"AKT_N\",\"BRAF_N\",\"CAMKII_N\",\"CREB_N\",\"ELK_N\",\"ERK_N\",\"GSK3B_N\",\"JNK_N\",\"MEK_N\",\"TRKA_N\",\"RSK_N\",\"APP_N\",\"Bcatenin_N\",\"SOD1_N\",\"MTOR_N\",\"P38_N\",\"pMTOR_N\",\"DSCR1_N\",\"AMPKA_N\",\"NR2B_N\",\"pNUMB_N\",\"RAPTOR_N\",\"TIAM1_N\",\"pP70S6_N\",\"NUMB_N\",\"P70S6_N\",\"pGSK3B_N\",\"pPKCG_N\",\"CDK5_N\",\"S6_N\",\"ADARB1_N\",\"AcetylH3K9_N\",\"RRP1_N\",\"BAX_N\",\"ARC_N\",\"ERBB4_N\",\"nNOS_N\",\"Tau_N\",\"GFAP_N\",\"GluR3_N\",\"GluR4_N\",\"IL1B_N\",\"P3525_N\",\"pCASP9_N\",\"PSD95_N\",\"SNCA_N\",\"Ubiquitin_N\",\"pGSK3B_Tyr216_N\",\"SHH_N\",\"BAD_N\",\"BCL2_N\",\"pS6_N\",\"pCFOS_N\",\"SYP_N\",\"H3AcK18_N\",\"EGR1_N\",\"H3MeK4_N\",\"CaNA_N\"],\"x\":{\"__ndarray__\":\"+st+cfkfD8BH+16qVh8UwNfAHRwCef+/7BsZlDnXEsBmRlnhsq0XwMR+3inwEBVAtQ8qx5hLF0DxdpFqWm7mP8B30OkBEOa/tIu1ZCVB6L91eIVOoEkLwE2xZwW8cPI/TKozAMaQ2L//+heDpr0MQB5Dn9v8zhHAp4IB/xZW/79dfJ0cStkSwHeR/6X6OwbAG/LQ0ftLDEC14YBN5VQIwKMdOGZ8NfO/Dr3v1/20DUD31Qm+tVoZQD5IpVhslhvA1ad9HJFqHMA4/roZHO0UwJ9rTNvjy/k/qDMo9k3M67/mo1/z+6QOwHv2mz5BvxdAKLcjweFS/b8IxYi3VTgYwEpnu/OaWghAzfjgmleaDUCjd0Qz7QQWQPLzIv2Hfvk/vWccm5bcGUBur+qmhNjLP/gP8COUowJAim6THg2v+j/6RVIwHQUWQPtkDplvJQNAWPZadM2xI0BXM3X/aREjwCxtWGMDuyHAZza54CvR8j92rsAMJnkTQO7VJGvbcRrAUR/SxXw4IMAYzfXitF0VwFRShd8SJBtAyaSdPPzWIUCTeWmKfMIhwIZ9gxN5weu/+jGjH/+ABcCX2DPHpCsYwCS2i+EXNiTAXzl9OJBVH0A8G1t1GMkhwD8eYo6f0CDAXemY1Biy5D/qQ5cDXQQVQMJB+GzkiBLAhXRWbfCtFMB8zYLOtJMaQNmt5YBYRAFAVWO0tvIMIsAh2WN4fZ8SQPH8tv3EQyZAiQbp5b+eJECCfYMTecHrvwBGKF1qECdApHDqX8KsEcAjGg+fgsUkQMq7D8oOgSJAz7qTT1MyJEC9uzUkjaUZwA==\",\"dtype\":\"float64\",\"shape\":[77]},\"y\":{\"__ndarray__\":\"H4HOb+JkI0DKMyD910cgQBr63R2uVwlAoGF/Vv9k1T/X0EOL4Y7tPxytTdCrRwXA+uxVIBWQ/b8U71YFZqMawEnz32EYyfC/G1D1pMAwIECxVKRCp2IkQMAcMwGJmQbA7OAyweREFkAbXUALWt71v0hp2jNWEfG/csMi5GuaF8BlqBuozY76vwWAERDKmyBAkckTfCUiHEBZFSZmGyYIwFGXbB/zmCRAQQtdA/Vzs7/gLx3WiLP0P8MwkRzIQs4/NB+mFzKZBUCFmuSEUmAaQJHZIut9UAhADxKoUx2O9z9R6FT8OScFQISMFvHyXQFAQKSKXWacF0BzfIhbINvNv3xDXUvw5yDAKeO52spAEsC0KQZKHd0bwH4CdgZffBPA5jCvjzO76r9ruczdBEimPxBZ1Bw2vwnA4ypcGRCRF0BDu3KZ8i/sv/U8RJJbhABA7thazFeJCUDL45k1Agj/P4vMTLwmrQzAnHkPy01uI0BYkrVw1K4iQDX5HkFXzxNADsk+xzAnHUBpbageQLUBQDcDVYUfGiBACiA468xsE0DA7USUEke2P1l2PP/wxyHAqsmOrx59H8CtQ8OkIikawDHoSPVA6Pu/nZOdu3CrGUCyB5rU30ocwKz3bofqZhTA9noi1NphJsDeepxtOdAWQK2o/3+o4SDAik9VwbArIMA8GVU2q2kgwHe0sfILJR/AwvkZ4VP+EkBiq4Sv2b8jwNMsfIxzROS/tUsR3npkE8BYdjz/8MchwP8avdO4GgjAkWcuc/gWE8B/cKsSkYHuP0nnaOYxeRrA8mjP1hPvCcD9E+i/RpUiQA==\",\"dtype\":\"float64\",\"shape\":[77]}}},\"id\":\"7d53fc30-9f20-4e3e-855c-8c3d4dcf0ebe\",\"type\":\"ColumnDataSource\"},{\"attributes\":{},\"id\":\"5036761d-bf71-47ad-9229-72660ce7cc87\",\"type\":\"BasicTicker\"},{\"attributes\":{\"overlay\":{\"id\":\"ada8b9f6-1c6d-4fe6-afc1-cc2c6b8376a1\",\"type\":\"BoxAnnotation\"},\"plot\":{\"id\":\"5f0c7ef3-5ae7-4972-963e-b4194f24d92e\",\"subtype\":\"Figure\",\"type\":\"Plot\"}},\"id\":\"769c0f3d-a9d3-4712-bcc5-a87494d9ca14\",\"type\":\"BoxZoomTool\"},{\"attributes\":{},\"id\":\"8fa192c0-3bbd-4659-8d1f-8cba3b053409\",\"type\":\"BasicTicker\"},{\"attributes\":{\"dimension\":1,\"plot\":{\"id\":\"5f0c7ef3-5ae7-4972-963e-b4194f24d92e\",\"subtype\":\"Figure\",\"type\":\"Plot\"},\"ticker\":{\"id\":\"8fa192c0-3bbd-4659-8d1f-8cba3b053409\",\"type\":\"BasicTicker\"}},\"id\":\"abac98f6-c46f-4ea7-8d7d-c20e50df3794\",\"type\":\"Grid\"},{\"attributes\":{\"active_drag\":\"auto\",\"active_scroll\":\"auto\",\"active_tap\":\"auto\",\"tools\":[{\"id\":\"769c0f3d-a9d3-4712-bcc5-a87494d9ca14\",\"type\":\"BoxZoomTool\"},{\"id\":\"c8116952-6126-497b-9952-2892271a1254\",\"type\":\"ResetTool\"},{\"id\":\"ea4d4ca8-d858-4971-bb88-760657b9808a\",\"type\":\"SaveTool\"},{\"id\":\"8dd14a71-c7e8-4809-8b63-abb72d616c2e\",\"type\":\"HoverTool\"}]},\"id\":\"50fd3925-d03f-485c-abe9-e1da655ed4a5\",\"type\":\"Toolbar\"},{\"attributes\":{\"below\":[{\"id\":\"690fc7b8-8052-4e3d-bd01-d47d3f688a11\",\"type\":\"LinearAxis\"}],\"left\":[{\"id\":\"bc622f76-9b4a-4455-995d-54ed41a4fba1\",\"type\":\"LinearAxis\"}],\"plot_height\":500,\"plot_width\":500,\"renderers\":[{\"id\":\"690fc7b8-8052-4e3d-bd01-d47d3f688a11\",\"type\":\"LinearAxis\"},{\"id\":\"344ba015-3de3-4008-b540-96b148d8e119\",\"type\":\"Grid\"},{\"id\":\"bc622f76-9b4a-4455-995d-54ed41a4fba1\",\"type\":\"LinearAxis\"},{\"id\":\"abac98f6-c46f-4ea7-8d7d-c20e50df3794\",\"type\":\"Grid\"},{\"id\":\"ada8b9f6-1c6d-4fe6-afc1-cc2c6b8376a1\",\"type\":\"BoxAnnotation\"},{\"id\":\"9a816ddc-3306-4aa6-965f-d7418de7ed3a\",\"type\":\"GlyphRenderer\"}],\"title\":{\"id\":\"effd930d-6f39-48f2-8940-e703ee99217f\",\"type\":\"Title\"},\"tool_events\":{\"id\":\"7970ce38-24bb-45e1-9163-6cb3cbf8f539\",\"type\":\"ToolEvents\"},\"toolbar\":{\"id\":\"50fd3925-d03f-485c-abe9-e1da655ed4a5\",\"type\":\"Toolbar\"},\"x_range\":{\"id\":\"fd1cd5bc-3e1d-42ed-87ed-70d5b8b1e317\",\"type\":\"DataRange1d\"},\"y_range\":{\"id\":\"219b73c7-9d48-4034-9948-a4db5d6dfa61\",\"type\":\"DataRange1d\"}},\"id\":\"5f0c7ef3-5ae7-4972-963e-b4194f24d92e\",\"subtype\":\"Figure\",\"type\":\"Plot\"},{\"attributes\":{\"fill_alpha\":{\"value\":0.1},\"fill_color\":{\"value\":\"#1f77b4\"},\"line_alpha\":{\"value\":0.1},\"line_color\":{\"value\":\"#1f77b4\"},\"x\":{\"field\":\"x\"},\"y\":{\"field\":\"y\"}},\"id\":\"e403bc8b-e2ae-4175-a9b7-5dd87d938d7c\",\"type\":\"X\"}],\"root_ids\":[\"5f0c7ef3-5ae7-4972-963e-b4194f24d92e\"]},\"title\":\"Bokeh Application\",\"version\":\"0.12.5\"}};\n",
       "            var render_items = [{\"docid\":\"7ecf5cbf-5b87-4460-8458-3f1e18d7feae\",\"elementid\":\"6a1df812-2a33-4081-b756-668bd1f4a87d\",\"modelid\":\"5f0c7ef3-5ae7-4972-963e-b4194f24d92e\",\"notebook_comms_target\":\"e23b81e2-84f0-4a15-8212-b4b182349bfc\"}];\n",
       "            \n",
       "            Bokeh.embed.embed_items(docs_json, render_items);\n",
       "          };\n",
       "          if (document.readyState != \"loading\") fn();\n",
       "          else document.addEventListener(\"DOMContentLoaded\", fn);\n",
       "        })();\n",
       "      },\n",
       "      function(Bokeh) {\n",
       "      }\n",
       "    ];\n",
       "  \n",
       "    function run_inline_js() {\n",
       "      \n",
       "      if ((window.Bokeh !== undefined) || (force === true)) {\n",
       "        for (var i = 0; i < inline_js.length; i++) {\n",
       "          inline_js[i](window.Bokeh);\n",
       "        }if (force === true) {\n",
       "          display_loaded();\n",
       "        }} else if (Date.now() < window._bokeh_timeout) {\n",
       "        setTimeout(run_inline_js, 100);\n",
       "      } else if (!window._bokeh_failed_load) {\n",
       "        console.log(\"Bokeh: BokehJS failed to load within specified timeout.\");\n",
       "        window._bokeh_failed_load = true;\n",
       "      } else if (force !== true) {\n",
       "        var cell = $(document.getElementById(\"6a1df812-2a33-4081-b756-668bd1f4a87d\")).parents('.cell').data().cell;\n",
       "        cell.output_area.append_execute_result(NB_LOAD_WARNING)\n",
       "      }\n",
       "  \n",
       "    }\n",
       "  \n",
       "    if (window._bokeh_is_loading === 0) {\n",
       "      console.log(\"Bokeh: BokehJS loaded, going straight to plotting\");\n",
       "      run_inline_js();\n",
       "    } else {\n",
       "      load_libs(js_urls, function() {\n",
       "        console.log(\"Bokeh: BokehJS plotting callback run at\", now());\n",
       "        run_inline_js();\n",
       "      });\n",
       "    }\n",
       "  }(this));\n",
       "</script>"
      ]
     },
     "metadata": {},
     "output_type": "display_data"
    }
   ],
   "source": [
    "mds_fit = MDS().fit_transform(transpose_df)\n",
    "mds_df = pd.DataFrame(mds_fit, index=genes.index, columns=[\"x\", \"y\"]).join(genes)\n",
    "fig = scatter_with_hover(mds_df, \"x\", \"y\")\n",
    "show(fig, notebook_handle=True);"
   ]
  },
  {
   "cell_type": "markdown",
   "metadata": {},
   "source": [
    "Unfortunately the latent structure of the data isn't very interesting in two dimensions.  It is still useful to know which proteins are central and which are peripheral, as this gives you an idea how early in the regulatory cascade they occur.\n",
    "\n",
    "Let's take a look at the list of variables sorted by distance from the center of the distribution, along with their cluster."
   ]
  },
  {
   "cell_type": "code",
   "execution_count": 36,
   "metadata": {
    "scrolled": false
   },
   "outputs": [
    {
     "data": {
      "text/html": [
       "<div>\n",
       "<style>\n",
       "    .dataframe thead tr:only-child th {\n",
       "        text-align: right;\n",
       "    }\n",
       "\n",
       "    .dataframe thead th {\n",
       "        text-align: left;\n",
       "    }\n",
       "\n",
       "    .dataframe tbody tr th {\n",
       "        vertical-align: top;\n",
       "    }\n",
       "</style>\n",
       "<table border=\"1\" class=\"dataframe\">\n",
       "  <thead>\n",
       "    <tr style=\"text-align: right;\">\n",
       "      <th></th>\n",
       "      <th>distance</th>\n",
       "      <th>cluster</th>\n",
       "    </tr>\n",
       "  </thead>\n",
       "  <tbody>\n",
       "    <tr>\n",
       "      <th>AMPKA_N</th>\n",
       "      <td>0.221855</td>\n",
       "      <td>2</td>\n",
       "    </tr>\n",
       "    <tr>\n",
       "      <th>pJNK_N</th>\n",
       "      <td>3.051025</td>\n",
       "      <td>1</td>\n",
       "    </tr>\n",
       "    <tr>\n",
       "      <th>JNK_N</th>\n",
       "      <td>3.440465</td>\n",
       "      <td>1</td>\n",
       "    </tr>\n",
       "    <tr>\n",
       "      <th>CAMKII_N</th>\n",
       "      <td>3.714152</td>\n",
       "      <td>1</td>\n",
       "    </tr>\n",
       "    <tr>\n",
       "      <th>BDNF_N</th>\n",
       "      <td>3.728846</td>\n",
       "      <td>0</td>\n",
       "    </tr>\n",
       "    <tr>\n",
       "      <th>pMEK_N</th>\n",
       "      <td>3.843813</td>\n",
       "      <td>1</td>\n",
       "    </tr>\n",
       "    <tr>\n",
       "      <th>NR2B_N</th>\n",
       "      <td>3.973182</td>\n",
       "      <td>2</td>\n",
       "    </tr>\n",
       "    <tr>\n",
       "      <th>AKT_N</th>\n",
       "      <td>4.285140</td>\n",
       "      <td>0</td>\n",
       "    </tr>\n",
       "    <tr>\n",
       "      <th>pNR1_N</th>\n",
       "      <td>4.578148</td>\n",
       "      <td>0</td>\n",
       "    </tr>\n",
       "    <tr>\n",
       "      <th>TRKA_N</th>\n",
       "      <td>4.654538</td>\n",
       "      <td>0</td>\n",
       "    </tr>\n",
       "    <tr>\n",
       "      <th>NR1_N</th>\n",
       "      <td>4.722028</td>\n",
       "      <td>0</td>\n",
       "    </tr>\n",
       "    <tr>\n",
       "      <th>pNR2B_N</th>\n",
       "      <td>4.995993</td>\n",
       "      <td>0</td>\n",
       "    </tr>\n",
       "    <tr>\n",
       "      <th>pMTOR_N</th>\n",
       "      <td>5.125425</td>\n",
       "      <td>2</td>\n",
       "    </tr>\n",
       "    <tr>\n",
       "      <th>RAPTOR_N</th>\n",
       "      <td>5.575021</td>\n",
       "      <td>2</td>\n",
       "    </tr>\n",
       "    <tr>\n",
       "      <th>MTOR_N</th>\n",
       "      <td>5.875045</td>\n",
       "      <td>2</td>\n",
       "    </tr>\n",
       "    <tr>\n",
       "      <th>pAKT_N</th>\n",
       "      <td>5.900172</td>\n",
       "      <td>1</td>\n",
       "    </tr>\n",
       "    <tr>\n",
       "      <th>NR2A_N</th>\n",
       "      <td>5.991260</td>\n",
       "      <td>0</td>\n",
       "    </tr>\n",
       "    <tr>\n",
       "      <th>Bcatenin_N</th>\n",
       "      <td>6.059505</td>\n",
       "      <td>0</td>\n",
       "    </tr>\n",
       "    <tr>\n",
       "      <th>pBRAF_N</th>\n",
       "      <td>6.109897</td>\n",
       "      <td>1</td>\n",
       "    </tr>\n",
       "    <tr>\n",
       "      <th>RSK_N</th>\n",
       "      <td>6.321231</td>\n",
       "      <td>1</td>\n",
       "    </tr>\n",
       "    <tr>\n",
       "      <th>CREB_N</th>\n",
       "      <td>6.469285</td>\n",
       "      <td>1</td>\n",
       "    </tr>\n",
       "    <tr>\n",
       "      <th>ELK_N</th>\n",
       "      <td>6.900948</td>\n",
       "      <td>0</td>\n",
       "    </tr>\n",
       "    <tr>\n",
       "      <th>ERK_N</th>\n",
       "      <td>7.599785</td>\n",
       "      <td>0</td>\n",
       "    </tr>\n",
       "    <tr>\n",
       "      <th>GSK3B_N</th>\n",
       "      <td>8.417294</td>\n",
       "      <td>0</td>\n",
       "    </tr>\n",
       "    <tr>\n",
       "      <th>ITSN1_N</th>\n",
       "      <td>9.569315</td>\n",
       "      <td>0</td>\n",
       "    </tr>\n",
       "    <tr>\n",
       "      <th>BRAF_N</th>\n",
       "      <td>10.368470</td>\n",
       "      <td>0</td>\n",
       "    </tr>\n",
       "    <tr>\n",
       "      <th>DYRK1A_N</th>\n",
       "      <td>10.448419</td>\n",
       "      <td>0</td>\n",
       "    </tr>\n",
       "  </tbody>\n",
       "</table>\n",
       "</div>"
      ],
      "text/plain": [
       "             distance  cluster\n",
       "AMPKA_N      0.221855        2\n",
       "pJNK_N       3.051025        1\n",
       "JNK_N        3.440465        1\n",
       "CAMKII_N     3.714152        1\n",
       "BDNF_N       3.728846        0\n",
       "pMEK_N       3.843813        1\n",
       "NR2B_N       3.973182        2\n",
       "AKT_N        4.285140        0\n",
       "pNR1_N       4.578148        0\n",
       "TRKA_N       4.654538        0\n",
       "NR1_N        4.722028        0\n",
       "pNR2B_N      4.995993        0\n",
       "pMTOR_N      5.125425        2\n",
       "RAPTOR_N     5.575021        2\n",
       "MTOR_N       5.875045        2\n",
       "pAKT_N       5.900172        1\n",
       "NR2A_N       5.991260        0\n",
       "Bcatenin_N   6.059505        0\n",
       "pBRAF_N      6.109897        1\n",
       "RSK_N        6.321231        1\n",
       "CREB_N       6.469285        1\n",
       "ELK_N        6.900948        0\n",
       "ERK_N        7.599785        0\n",
       "GSK3B_N      8.417294        0\n",
       "ITSN1_N      9.569315        0\n",
       "BRAF_N      10.368470        0\n",
       "DYRK1A_N    10.448419        0"
      ]
     },
     "execution_count": 36,
     "metadata": {},
     "output_type": "execute_result"
    }
   ],
   "source": [
    "d = pd.Series(np.sqrt(mds_df[\"x\"] ** 2 + mds_df[\"y\"] ** 2), index=mds_df.index, name=\"distance\")\n",
    "\n",
    "clustered_only.join(d).sort_values(\"distance\")[[\"distance\", \"cluster\"]]"
   ]
  },
  {
   "cell_type": "markdown",
   "metadata": {},
   "source": [
    "Cluster 1 and 2 include central proteins that vary consistently with other proteins in the data set.  Cluster 0 includes many fringe proteins that vary independently.\n",
    "\n",
    "Cluster 0 seems to include many of the proteins that looked interesting as a result of earlier tests. The cascade represented by cluster 0 appears to be primarily initiated by BDNF."
   ]
  },
  {
   "cell_type": "code",
   "execution_count": 123,
   "metadata": {},
   "outputs": [
    {
     "data": {
      "image/png": "[encoded data removed]",
      "text/plain": [
       "<matplotlib.figure.Figure at 0x7f69fd12aa90>"
      ]
     },
     "metadata": {},
     "output_type": "display_data"
    }
   ],
   "source": [
    "interesting_genes = list(set(high_anderson.index) | set(high_cova.index) | set(high_skew_kurt.index))\n",
    "interesting_df = ecdf_normalized_df[interesting_genes]\n",
    "fit = hdbscan.HDBSCAN(min_cluster_size=12).fit(interesting_df)\n",
    "interesting_sample_clusters = pd.Series(fit.labels_, index=interesting_df.index, name=\"cluster\")\n",
    "\n",
    "counter_histogram(interesting_sample_clusters)"
   ]
  },
  {
   "cell_type": "markdown",
   "metadata": {},
   "source": [
    "While using only interesting genes for clustering reduced the number of unlcustered points, the number of clusters is too small given our knowledge of the data.  Additionally, cluster 0 is larger than any known segment fo the data set.  Let's take a look at the breakdown of that cluster to see what it's made of."
   ]
  },
  {
   "cell_type": "code",
   "execution_count": 124,
   "metadata": {},
   "outputs": [
    {
     "data": {
      "text/plain": [
       "Genotype  Treatment  Behavior\n",
       "Control   Memantine  C/S          37\n",
       "                     S/C         126\n",
       "          Saline     C/S          27\n",
       "                     S/C          86\n",
       "Ts65Dn    Memantine  C/S          61\n",
       "                     S/C          73\n",
       "          Saline     C/S          57\n",
       "                     S/C         105\n",
       "Name: cluster, dtype: int64"
      ]
     },
     "execution_count": 124,
     "metadata": {},
     "output_type": "execute_result"
    }
   ],
   "source": [
    "mask = interesting_sample_clusters == 0\n",
    "groups = df[mask].join(interesting_sample_clusters).groupby([\"Genotype\", \"Treatment\", \"Behavior\"])\n",
    "groups.count()[\"cluster\"]"
   ]
  },
  {
   "cell_type": "markdown",
   "metadata": {},
   "source": [
    "That cluster seems to be biased towards S/C mice, but overall it displays poor separation of groups.  Let's try dimensionality reduction to see if that improves teh quality of the results."
   ]
  },
  {
   "cell_type": "code",
   "execution_count": 47,
   "metadata": {},
   "outputs": [
    {
     "data": {
      "image/png": "[encoded data removed]",
      "text/plain": [
       "<matplotlib.figure.Figure at 0x7f69fd57ed68>"
      ]
     },
     "metadata": {},
     "output_type": "display_data"
    }
   ],
   "source": [
    "ic = FastICA(n_components=10)\n",
    "reduced_df = pd.DataFrame(ic.fit_transform(ecdf_normalized_df), index=ecdf_normalized_df)\n",
    "\n",
    "fit = hdbscan.HDBSCAN(min_cluster_size=12).fit(reduced_df)\n",
    "reduced_sample_clusters = pd.Series(fit.labels_, index=interesting_df.index, name=\"cluster\")\n",
    "\n",
    "counter_histogram(reduced_sample_clusters)"
   ]
  },
  {
   "cell_type": "markdown",
   "metadata": {},
   "source": [
    "Applying dimensionality reduction drastically reduced the number of unclustered samples, but again the large single cluster makes me suspicious.  Additional examiniation is necessary."
   ]
  },
  {
   "cell_type": "code",
   "execution_count": 48,
   "metadata": {},
   "outputs": [
    {
     "data": {
      "text/plain": [
       "Genotype  Treatment  Behavior\n",
       "Control   Memantine  C/S          91\n",
       "                     S/C         108\n",
       "          Saline     C/S          60\n",
       "                     S/C         113\n",
       "Ts65Dn    Memantine  C/S          88\n",
       "                     S/C          90\n",
       "          Saline     C/S          52\n",
       "                     S/C         107\n",
       "Name: cluster, dtype: int64"
      ]
     },
     "execution_count": 48,
     "metadata": {},
     "output_type": "execute_result"
    }
   ],
   "source": [
    "mask = reduced_sample_clusters == 3\n",
    "groups = df[mask].join(reduced_sample_clusters).groupby([\"Genotype\", \"Treatment\", \"Behavior\"])\n",
    "groups.count()[\"cluster\"]"
   ]
  },
  {
   "cell_type": "markdown",
   "metadata": {},
   "source": [
    "Clearly, that large cluster doesn't help us resolve the different experimental conditions.\n",
    "\n",
    "Let's take a closer look at the clusters produced using the full data set to see how they separate things out."
   ]
  },
  {
   "cell_type": "code",
   "execution_count": 49,
   "metadata": {},
   "outputs": [
    {
     "data": {
      "text/html": [
       "<div>\n",
       "<style>\n",
       "    .dataframe thead tr:only-child th {\n",
       "        text-align: right;\n",
       "    }\n",
       "\n",
       "    .dataframe thead th {\n",
       "        text-align: left;\n",
       "    }\n",
       "\n",
       "    .dataframe tbody tr th {\n",
       "        vertical-align: top;\n",
       "    }\n",
       "</style>\n",
       "<table border=\"1\" class=\"dataframe\">\n",
       "  <thead>\n",
       "    <tr style=\"text-align: right;\">\n",
       "      <th></th>\n",
       "      <th>C/S</th>\n",
       "      <th>S/C</th>\n",
       "      <th>mice</th>\n",
       "    </tr>\n",
       "  </thead>\n",
       "  <tbody>\n",
       "    <tr>\n",
       "      <th>Cluster 0</th>\n",
       "      <td>20.0</td>\n",
       "      <td>0.0</td>\n",
       "      <td>4</td>\n",
       "    </tr>\n",
       "    <tr>\n",
       "      <th>Cluster 1</th>\n",
       "      <td>21.0</td>\n",
       "      <td>0.0</td>\n",
       "      <td>2</td>\n",
       "    </tr>\n",
       "    <tr>\n",
       "      <th>Cluster 2</th>\n",
       "      <td>0.0</td>\n",
       "      <td>36.0</td>\n",
       "      <td>4</td>\n",
       "    </tr>\n",
       "    <tr>\n",
       "      <th>Cluster 3</th>\n",
       "      <td>0.0</td>\n",
       "      <td>46.0</td>\n",
       "      <td>6</td>\n",
       "    </tr>\n",
       "    <tr>\n",
       "      <th>Cluster 4</th>\n",
       "      <td>13.0</td>\n",
       "      <td>0.0</td>\n",
       "      <td>3</td>\n",
       "    </tr>\n",
       "    <tr>\n",
       "      <th>Cluster 5</th>\n",
       "      <td>17.0</td>\n",
       "      <td>0.0</td>\n",
       "      <td>3</td>\n",
       "    </tr>\n",
       "    <tr>\n",
       "      <th>Cluster 6</th>\n",
       "      <td>31.0</td>\n",
       "      <td>0.0</td>\n",
       "      <td>9</td>\n",
       "    </tr>\n",
       "    <tr>\n",
       "      <th>Cluster 7</th>\n",
       "      <td>1.0</td>\n",
       "      <td>177.0</td>\n",
       "      <td>23</td>\n",
       "    </tr>\n",
       "  </tbody>\n",
       "</table>\n",
       "</div>"
      ],
      "text/plain": [
       "            C/S    S/C  mice\n",
       "Cluster 0  20.0    0.0     4\n",
       "Cluster 1  21.0    0.0     2\n",
       "Cluster 2   0.0   36.0     4\n",
       "Cluster 3   0.0   46.0     6\n",
       "Cluster 4  13.0    0.0     3\n",
       "Cluster 5  17.0    0.0     3\n",
       "Cluster 6  31.0    0.0     9\n",
       "Cluster 7   1.0  177.0    23"
      ]
     },
     "execution_count": 49,
     "metadata": {},
     "output_type": "execute_result"
    }
   ],
   "source": [
    "df_clustered = clustered_df[\"cluster\"] >= 0\n",
    "sorted_clustered = sorted_df[\"cluster\"] >= 0\n",
    "cols = [\"Genotype\", \"Treatment\", \"Behavior\"]\n",
    "in_cluster = df[df_clustered]\n",
    "cluster_conditions = sorted_df[sorted_clustered].loc[:, [\"cluster\"]]\n",
    "cluster_conditions = cluster_conditions.join(in_cluster[cols])\n",
    "\n",
    "group_cluster = cluster_conditions.groupby(\"cluster\")\n",
    "\n",
    "behavior_counts = [pd.Series(group[\"Behavior\"].value_counts(), name=\"Cluster %s\" % idx) \n",
    "                   for (idx, group) in group_cluster]\n",
    "behavior_counts = pd.DataFrame(behavior_counts).fillna(0)\n",
    "\n",
    "def count_mice(group):\n",
    "    return len(set(i.split(\"_\")[0] for i in group.index))\n",
    "\n",
    "mouse_counts = [count_mice(group) for (idx, group) in group_cluster]\n",
    "mice = pd.Series(mouse_counts, name=\"mice\", index=behavior_counts.index)\n",
    "behavior_counts.join(mice)"
   ]
  },
  {
   "cell_type": "markdown",
   "metadata": {},
   "source": [
    "That separation of condition by cluster appears pretty good.  The next step is to look at genotype and condition separation by cluster."
   ]
  },
  {
   "cell_type": "code",
   "execution_count": 50,
   "metadata": {
    "hideCode": false,
    "hidePrompt": false
   },
   "outputs": [
    {
     "data": {
      "image/png": "[encoded data removed]",
      "text/plain": [
       "<matplotlib.figure.Figure at 0x7f69f7598e10>"
      ]
     },
     "metadata": {},
     "output_type": "display_data"
    }
   ],
   "source": [
    "group_cluster_behavior = cluster_conditions.groupby([\"cluster\",\"Behavior\"])\n",
    "\n",
    "fig, axes = plt.subplots(3, 3)\n",
    "\n",
    "colors = [\"#ADD8E6\", \"#9AC7E7\", \"#88B6E9\", \"#76A5EB\", \"#6495ED\", \"#647CD8\", \"#6564C3\", \"#654BAE\", \"#663399\"]\n",
    "\n",
    "my_cmap = ListedColormap(colors, name='my_name')\n",
    "\n",
    "for g, a in zip_longest(group_cluster_behavior, axes.flatten()):\n",
    "    if g is None:\n",
    "        a.axis(\"off\")\n",
    "        break\n",
    "    ((idx, cond), group) = g\n",
    "    x = [1 if l == \"Ts65Dn\" else 0 for l in group[\"Genotype\"]]\n",
    "    y = [1 if l == \"Memantine\" else 0 for l in group[\"Treatment\"]]\n",
    "    res = a.hist2d(x, y, bins=2, range=[[0, 1], [0, 1]], normed=True, cmap=my_cmap)[3]\n",
    "    a.set_title(\"Cluster %s, Behavior %s\" % (idx, cond))\n",
    "    a.set_xticklabels([\"Control\", \"Ts65Dn\"])\n",
    "    a.set_xticks([0.25, 0.75])\n",
    "    a.set_yticklabels([\"Saline\", \"Memantine\"])\n",
    "    a.set_yticks([0.25, 0.75])\n",
    "    a.set_xlim(0, 1)\n",
    "    a.set_ylim(0, 1)\n",
    "\n",
    "fig.subplots_adjust(wspace=0.5, hspace=0.5)\n",
    "cbar_ax = fig.add_axes([1, 0.15, 0.05, 0.7])\n",
    "fig.colorbar(res, cax=cbar_ax);"
   ]
  },
  {
   "cell_type": "markdown",
   "metadata": {},
   "source": [
    "That separation is excellent.  While not all samples have been clustered, those that have appear to fall into distinct groups.\n",
    "\n",
    "Next let's look at how protein levels change depending on cluster membership."
   ]
  },
  {
   "cell_type": "code",
   "execution_count": 51,
   "metadata": {},
   "outputs": [
    {
     "data": {
      "image/png": "[encoded data removed]",
      "text/plain": [
       "<matplotlib.figure.Figure at 0x7f69fd1a5f60>"
      ]
     },
     "metadata": {},
     "output_type": "display_data"
    }
   ],
   "source": [
    "def diff_genes(df):\n",
    "    return df.apply(lambda x: x.mean() - 0.5).sort_values()\n",
    "\n",
    "clusters = list(range(base_sample_clusters.max() + 1))\n",
    "diffs = [diff_genes(sorted_df.filter(like=\"_N\", axis=1)[sorted_df[\"cluster\"] == i]) for i in clusters]\n",
    "\n",
    "titles = [\"Cluster %s\" % c for c in clusters]\n",
    "plot_histogram(*diffs, title=titles);"
   ]
  },
  {
   "cell_type": "markdown",
   "metadata": {},
   "source": [
    "# Identifying significant variables\n",
    "\n",
    "In order to determine how significant a variable is to overall cluster assignment, we can look at the differences between the cluster mean percentiles and overall mean percentiles.  The larger the difference, the more significant that variable is to the clustering.  If we do this for all variables and put the results in a vector, the norm of that vector represents a measure of a variable's overall clustering importance.  We can use that measure to rank and filter variables."
   ]
  },
  {
   "cell_type": "code",
   "execution_count": 25,
   "metadata": {},
   "outputs": [
    {
     "data": {
      "image/png": "[encoded data removed]",
      "text/plain": [
       "<matplotlib.figure.Figure at 0x7f69f75abe10>"
      ]
     },
     "metadata": {},
     "output_type": "display_data"
    }
   ],
   "source": [
    "diffs_df = pd.DataFrame(diffs).transpose()\n",
    "norms = pd.Series(np.sqrt(np.square(diffs_df).sum(axis=1)), name=\"norm\")\n",
    "plot_histogram(norms);"
   ]
  },
  {
   "cell_type": "markdown",
   "metadata": {
    "hideCode": false,
    "hidePrompt": false
   },
   "source": [
    "There aren't extreme outliers on the distribution of the norms.  The interesting part of this distribution is the outer tail, which seems to start around 0.8."
   ]
  },
  {
   "cell_type": "code",
   "execution_count": 113,
   "metadata": {},
   "outputs": [
    {
     "data": {
      "text/html": [
       "<div>\n",
       "<style>\n",
       "    .dataframe thead tr:only-child th {\n",
       "        text-align: right;\n",
       "    }\n",
       "\n",
       "    .dataframe thead th {\n",
       "        text-align: left;\n",
       "    }\n",
       "\n",
       "    .dataframe tbody tr th {\n",
       "        vertical-align: top;\n",
       "    }\n",
       "</style>\n",
       "<table border=\"1\" class=\"dataframe\">\n",
       "  <thead>\n",
       "    <tr style=\"text-align: right;\">\n",
       "      <th></th>\n",
       "      <th>0</th>\n",
       "      <th>1</th>\n",
       "      <th>2</th>\n",
       "      <th>3</th>\n",
       "      <th>4</th>\n",
       "      <th>5</th>\n",
       "      <th>6</th>\n",
       "      <th>7</th>\n",
       "      <th>norm</th>\n",
       "    </tr>\n",
       "  </thead>\n",
       "  <tbody>\n",
       "    <tr>\n",
       "      <th>pERK_N</th>\n",
       "      <td>0.013750</td>\n",
       "      <td>0.346605</td>\n",
       "      <td>-0.197634</td>\n",
       "      <td>-0.425866</td>\n",
       "      <td>0.422792</td>\n",
       "      <td>0.373965</td>\n",
       "      <td>0.330108</td>\n",
       "      <td>-0.154671</td>\n",
       "      <td>0.890080</td>\n",
       "    </tr>\n",
       "    <tr>\n",
       "      <th>SYP_N</th>\n",
       "      <td>-0.188009</td>\n",
       "      <td>0.438801</td>\n",
       "      <td>-0.299846</td>\n",
       "      <td>-0.291184</td>\n",
       "      <td>-0.395798</td>\n",
       "      <td>-0.230937</td>\n",
       "      <td>0.274701</td>\n",
       "      <td>0.159514</td>\n",
       "      <td>0.844679</td>\n",
       "    </tr>\n",
       "    <tr>\n",
       "      <th>pELK_N</th>\n",
       "      <td>-0.281157</td>\n",
       "      <td>0.351190</td>\n",
       "      <td>-0.063735</td>\n",
       "      <td>-0.443418</td>\n",
       "      <td>0.365527</td>\n",
       "      <td>0.349074</td>\n",
       "      <td>0.232885</td>\n",
       "      <td>-0.018997</td>\n",
       "      <td>0.844467</td>\n",
       "    </tr>\n",
       "    <tr>\n",
       "      <th>BRAF_N</th>\n",
       "      <td>-0.146296</td>\n",
       "      <td>0.264021</td>\n",
       "      <td>-0.195010</td>\n",
       "      <td>-0.387782</td>\n",
       "      <td>0.394516</td>\n",
       "      <td>0.406536</td>\n",
       "      <td>0.302210</td>\n",
       "      <td>-0.128922</td>\n",
       "      <td>0.841653</td>\n",
       "    </tr>\n",
       "    <tr>\n",
       "      <th>H3AcK18_N</th>\n",
       "      <td>-0.328056</td>\n",
       "      <td>-0.199824</td>\n",
       "      <td>-0.223148</td>\n",
       "      <td>0.309138</td>\n",
       "      <td>-0.408547</td>\n",
       "      <td>-0.404085</td>\n",
       "      <td>-0.281691</td>\n",
       "      <td>-0.034072</td>\n",
       "      <td>0.838819</td>\n",
       "    </tr>\n",
       "    <tr>\n",
       "      <th>CaNA_N</th>\n",
       "      <td>0.237361</td>\n",
       "      <td>0.317284</td>\n",
       "      <td>-0.400797</td>\n",
       "      <td>-0.111977</td>\n",
       "      <td>0.205698</td>\n",
       "      <td>0.424020</td>\n",
       "      <td>0.341338</td>\n",
       "      <td>-0.175650</td>\n",
       "      <td>0.836454</td>\n",
       "    </tr>\n",
       "    <tr>\n",
       "      <th>DYRK1A_N</th>\n",
       "      <td>-0.096806</td>\n",
       "      <td>0.276587</td>\n",
       "      <td>-0.117130</td>\n",
       "      <td>-0.337158</td>\n",
       "      <td>0.417165</td>\n",
       "      <td>0.407571</td>\n",
       "      <td>0.329271</td>\n",
       "      <td>-0.139414</td>\n",
       "      <td>0.825387</td>\n",
       "    </tr>\n",
       "    <tr>\n",
       "      <th>GSK3B_N</th>\n",
       "      <td>0.063380</td>\n",
       "      <td>0.385362</td>\n",
       "      <td>-0.241384</td>\n",
       "      <td>-0.315781</td>\n",
       "      <td>0.119302</td>\n",
       "      <td>0.411329</td>\n",
       "      <td>0.411918</td>\n",
       "      <td>-0.008828</td>\n",
       "      <td>0.814667</td>\n",
       "    </tr>\n",
       "    <tr>\n",
       "      <th>ITSN1_N</th>\n",
       "      <td>-0.146528</td>\n",
       "      <td>0.297928</td>\n",
       "      <td>-0.130376</td>\n",
       "      <td>-0.289795</td>\n",
       "      <td>0.385399</td>\n",
       "      <td>0.405392</td>\n",
       "      <td>0.363978</td>\n",
       "      <td>-0.074506</td>\n",
       "      <td>0.813705</td>\n",
       "    </tr>\n",
       "    <tr>\n",
       "      <th>H3MeK4_N</th>\n",
       "      <td>-0.385880</td>\n",
       "      <td>0.182407</td>\n",
       "      <td>-0.170190</td>\n",
       "      <td>0.287762</td>\n",
       "      <td>-0.321083</td>\n",
       "      <td>-0.386383</td>\n",
       "      <td>-0.320341</td>\n",
       "      <td>0.077715</td>\n",
       "      <td>0.809315</td>\n",
       "    </tr>\n",
       "  </tbody>\n",
       "</table>\n",
       "</div>"
      ],
      "text/plain": [
       "                  0         1         2         3         4         5  \\\n",
       "pERK_N     0.013750  0.346605 -0.197634 -0.425866  0.422792  0.373965   \n",
       "SYP_N     -0.188009  0.438801 -0.299846 -0.291184 -0.395798 -0.230937   \n",
       "pELK_N    -0.281157  0.351190 -0.063735 -0.443418  0.365527  0.349074   \n",
       "BRAF_N    -0.146296  0.264021 -0.195010 -0.387782  0.394516  0.406536   \n",
       "H3AcK18_N -0.328056 -0.199824 -0.223148  0.309138 -0.408547 -0.404085   \n",
       "CaNA_N     0.237361  0.317284 -0.400797 -0.111977  0.205698  0.424020   \n",
       "DYRK1A_N  -0.096806  0.276587 -0.117130 -0.337158  0.417165  0.407571   \n",
       "GSK3B_N    0.063380  0.385362 -0.241384 -0.315781  0.119302  0.411329   \n",
       "ITSN1_N   -0.146528  0.297928 -0.130376 -0.289795  0.385399  0.405392   \n",
       "H3MeK4_N  -0.385880  0.182407 -0.170190  0.287762 -0.321083 -0.386383   \n",
       "\n",
       "                  6         7      norm  \n",
       "pERK_N     0.330108 -0.154671  0.890080  \n",
       "SYP_N      0.274701  0.159514  0.844679  \n",
       "pELK_N     0.232885 -0.018997  0.844467  \n",
       "BRAF_N     0.302210 -0.128922  0.841653  \n",
       "H3AcK18_N -0.281691 -0.034072  0.838819  \n",
       "CaNA_N     0.341338 -0.175650  0.836454  \n",
       "DYRK1A_N   0.329271 -0.139414  0.825387  \n",
       "GSK3B_N    0.411918 -0.008828  0.814667  \n",
       "ITSN1_N    0.363978 -0.074506  0.813705  \n",
       "H3MeK4_N  -0.320341  0.077715  0.809315  "
      ]
     },
     "execution_count": 113,
     "metadata": {},
     "output_type": "execute_result"
    }
   ],
   "source": [
    "high_clustered_norms = diffs_df[norms > 0.8].join(norms).sort_values('norm', ascending=False)\n",
    "high_clustered_norms"
   ]
  },
  {
   "cell_type": "markdown",
   "metadata": {
    "collapsed": true,
    "hideCode": false,
    "hidePrompt": false
   },
   "source": [
    "These genes represent the largest differentiators between clusters.\n",
    "\n",
    "Let's see how this list compares with the list that results from examining the norms of data grouped by class."
   ]
  },
  {
   "cell_type": "code",
   "execution_count": 107,
   "metadata": {},
   "outputs": [
    {
     "data": {
      "image/png": "[encoded data removed]",
      "text/plain": [
       "<matplotlib.figure.Figure at 0x7f69f675ee80>"
      ]
     },
     "metadata": {},
     "output_type": "display_data"
    }
   ],
   "source": [
    "categorical_cols = [\"Genotype\", \"Behavior\", \"Treatment\"]\n",
    "means = ecdf_normalized_df.join(df[categorical_cols]).groupby(categorical_cols).mean().apply(lambda c: c - 0.5)\n",
    "t_means = means.transpose()\n",
    "unclustered_norms = pd.Series(np.sqrt(np.square(t_means).sum(axis=1)), name=\"norm\")\n",
    "\n",
    "plot_histogram(unclustered_norms);"
   ]
  },
  {
   "cell_type": "markdown",
   "metadata": {},
   "source": [
    "The upper tail of the distribution for norms here is about 0.55.  Let's take a look at those proteins."
   ]
  },
  {
   "cell_type": "code",
   "execution_count": 122,
   "metadata": {
    "scrolled": true
   },
   "outputs": [
    {
     "data": {
      "text/html": [
       "<div>\n",
       "<style>\n",
       "    .dataframe thead tr:only-child th {\n",
       "        text-align: right;\n",
       "    }\n",
       "\n",
       "    .dataframe thead th {\n",
       "        text-align: left;\n",
       "    }\n",
       "\n",
       "    .dataframe tbody tr th {\n",
       "        vertical-align: top;\n",
       "    }\n",
       "</style>\n",
       "<table border=\"1\" class=\"dataframe\">\n",
       "  <thead>\n",
       "    <tr style=\"text-align: right;\">\n",
       "      <th></th>\n",
       "      <th>(Control, C/S, Memantine)</th>\n",
       "      <th>(Control, C/S, Saline)</th>\n",
       "      <th>(Control, S/C, Memantine)</th>\n",
       "      <th>(Control, S/C, Saline)</th>\n",
       "      <th>(Ts65Dn, C/S, Memantine)</th>\n",
       "      <th>(Ts65Dn, C/S, Saline)</th>\n",
       "      <th>(Ts65Dn, S/C, Memantine)</th>\n",
       "      <th>(Ts65Dn, S/C, Saline)</th>\n",
       "      <th>norm</th>\n",
       "    </tr>\n",
       "  </thead>\n",
       "  <tbody>\n",
       "    <tr>\n",
       "      <th>SOD1_N</th>\n",
       "      <td>-0.213580</td>\n",
       "      <td>-0.243930</td>\n",
       "      <td>0.164827</td>\n",
       "      <td>0.318374</td>\n",
       "      <td>-0.299540</td>\n",
       "      <td>-0.276728</td>\n",
       "      <td>0.283429</td>\n",
       "      <td>0.214794</td>\n",
       "      <td>0.725548</td>\n",
       "    </tr>\n",
       "    <tr>\n",
       "      <th>pERK_N</th>\n",
       "      <td>0.234302</td>\n",
       "      <td>0.196379</td>\n",
       "      <td>-0.211340</td>\n",
       "      <td>-0.291584</td>\n",
       "      <td>0.317394</td>\n",
       "      <td>0.229506</td>\n",
       "      <td>-0.222339</td>\n",
       "      <td>-0.200144</td>\n",
       "      <td>0.682680</td>\n",
       "    </tr>\n",
       "    <tr>\n",
       "      <th>CaNA_N</th>\n",
       "      <td>0.188290</td>\n",
       "      <td>0.241927</td>\n",
       "      <td>-0.313506</td>\n",
       "      <td>-0.166955</td>\n",
       "      <td>0.270926</td>\n",
       "      <td>0.204638</td>\n",
       "      <td>-0.274472</td>\n",
       "      <td>-0.087757</td>\n",
       "      <td>0.646882</td>\n",
       "    </tr>\n",
       "    <tr>\n",
       "      <th>DYRK1A_N</th>\n",
       "      <td>0.173043</td>\n",
       "      <td>0.123649</td>\n",
       "      <td>-0.289340</td>\n",
       "      <td>-0.288519</td>\n",
       "      <td>0.336036</td>\n",
       "      <td>0.249127</td>\n",
       "      <td>-0.134259</td>\n",
       "      <td>-0.097730</td>\n",
       "      <td>0.644014</td>\n",
       "    </tr>\n",
       "    <tr>\n",
       "      <th>P38_N</th>\n",
       "      <td>-0.023623</td>\n",
       "      <td>-0.172888</td>\n",
       "      <td>0.228407</td>\n",
       "      <td>0.179657</td>\n",
       "      <td>-0.245082</td>\n",
       "      <td>-0.372143</td>\n",
       "      <td>0.254636</td>\n",
       "      <td>0.049321</td>\n",
       "      <td>0.617027</td>\n",
       "    </tr>\n",
       "    <tr>\n",
       "      <th>BRAF_N</th>\n",
       "      <td>0.170846</td>\n",
       "      <td>0.104794</td>\n",
       "      <td>-0.237389</td>\n",
       "      <td>-0.236351</td>\n",
       "      <td>0.341077</td>\n",
       "      <td>0.208519</td>\n",
       "      <td>-0.135357</td>\n",
       "      <td>-0.158683</td>\n",
       "      <td>0.596406</td>\n",
       "    </tr>\n",
       "    <tr>\n",
       "      <th>ARC_N</th>\n",
       "      <td>-0.024549</td>\n",
       "      <td>-0.194870</td>\n",
       "      <td>0.147833</td>\n",
       "      <td>0.252462</td>\n",
       "      <td>-0.283745</td>\n",
       "      <td>-0.211314</td>\n",
       "      <td>0.312490</td>\n",
       "      <td>-0.055261</td>\n",
       "      <td>0.591639</td>\n",
       "    </tr>\n",
       "    <tr>\n",
       "      <th>pS6_N</th>\n",
       "      <td>-0.024549</td>\n",
       "      <td>-0.194870</td>\n",
       "      <td>0.147833</td>\n",
       "      <td>0.252462</td>\n",
       "      <td>-0.283745</td>\n",
       "      <td>-0.211314</td>\n",
       "      <td>0.312490</td>\n",
       "      <td>-0.055261</td>\n",
       "      <td>0.591639</td>\n",
       "    </tr>\n",
       "    <tr>\n",
       "      <th>ITSN1_N</th>\n",
       "      <td>0.107512</td>\n",
       "      <td>0.090583</td>\n",
       "      <td>-0.309710</td>\n",
       "      <td>-0.280343</td>\n",
       "      <td>0.281564</td>\n",
       "      <td>0.266975</td>\n",
       "      <td>-0.013567</td>\n",
       "      <td>-0.057490</td>\n",
       "      <td>0.590186</td>\n",
       "    </tr>\n",
       "    <tr>\n",
       "      <th>Ubiquitin_N</th>\n",
       "      <td>-0.098907</td>\n",
       "      <td>-0.296872</td>\n",
       "      <td>0.276401</td>\n",
       "      <td>0.070720</td>\n",
       "      <td>-0.264588</td>\n",
       "      <td>-0.080988</td>\n",
       "      <td>0.296180</td>\n",
       "      <td>0.064040</td>\n",
       "      <td>0.589665</td>\n",
       "    </tr>\n",
       "  </tbody>\n",
       "</table>\n",
       "</div>"
      ],
      "text/plain": [
       "             (Control, C/S, Memantine)  (Control, C/S, Saline)  \\\n",
       "SOD1_N                       -0.213580               -0.243930   \n",
       "pERK_N                        0.234302                0.196379   \n",
       "CaNA_N                        0.188290                0.241927   \n",
       "DYRK1A_N                      0.173043                0.123649   \n",
       "P38_N                        -0.023623               -0.172888   \n",
       "BRAF_N                        0.170846                0.104794   \n",
       "ARC_N                        -0.024549               -0.194870   \n",
       "pS6_N                        -0.024549               -0.194870   \n",
       "ITSN1_N                       0.107512                0.090583   \n",
       "Ubiquitin_N                  -0.098907               -0.296872   \n",
       "\n",
       "             (Control, S/C, Memantine)  (Control, S/C, Saline)  \\\n",
       "SOD1_N                        0.164827                0.318374   \n",
       "pERK_N                       -0.211340               -0.291584   \n",
       "CaNA_N                       -0.313506               -0.166955   \n",
       "DYRK1A_N                     -0.289340               -0.288519   \n",
       "P38_N                         0.228407                0.179657   \n",
       "BRAF_N                       -0.237389               -0.236351   \n",
       "ARC_N                         0.147833                0.252462   \n",
       "pS6_N                         0.147833                0.252462   \n",
       "ITSN1_N                      -0.309710               -0.280343   \n",
       "Ubiquitin_N                   0.276401                0.070720   \n",
       "\n",
       "             (Ts65Dn, C/S, Memantine)  (Ts65Dn, C/S, Saline)  \\\n",
       "SOD1_N                      -0.299540              -0.276728   \n",
       "pERK_N                       0.317394               0.229506   \n",
       "CaNA_N                       0.270926               0.204638   \n",
       "DYRK1A_N                     0.336036               0.249127   \n",
       "P38_N                       -0.245082              -0.372143   \n",
       "BRAF_N                       0.341077               0.208519   \n",
       "ARC_N                       -0.283745              -0.211314   \n",
       "pS6_N                       -0.283745              -0.211314   \n",
       "ITSN1_N                      0.281564               0.266975   \n",
       "Ubiquitin_N                 -0.264588              -0.080988   \n",
       "\n",
       "             (Ts65Dn, S/C, Memantine)  (Ts65Dn, S/C, Saline)      norm  \n",
       "SOD1_N                       0.283429               0.214794  0.725548  \n",
       "pERK_N                      -0.222339              -0.200144  0.682680  \n",
       "CaNA_N                      -0.274472              -0.087757  0.646882  \n",
       "DYRK1A_N                    -0.134259              -0.097730  0.644014  \n",
       "P38_N                        0.254636               0.049321  0.617027  \n",
       "BRAF_N                      -0.135357              -0.158683  0.596406  \n",
       "ARC_N                        0.312490              -0.055261  0.591639  \n",
       "pS6_N                        0.312490              -0.055261  0.591639  \n",
       "ITSN1_N                     -0.013567              -0.057490  0.590186  \n",
       "Ubiquitin_N                  0.296180               0.064040  0.589665  "
      ]
     },
     "execution_count": 122,
     "metadata": {},
     "output_type": "execute_result"
    }
   ],
   "source": [
    "high_unclustered_norms = t_means[unclustered_norms > 0.55]\\\n",
    "    .join(unclustered_norms)\\\n",
    "    .sort_values(\"norm\", ascending=False)\n",
    "high_unclustered_norms"
   ]
  },
  {
   "cell_type": "markdown",
   "metadata": {},
   "source": [
    "This list is different from  the clustered list because it isn't influenced by data separability. As a result, more general variation is incorporated.  The proteins only present here are likely to be important in multiple pathways.\n",
    "\n",
    "Let's take a look at the similarities and differences in these groups."
   ]
  },
  {
   "cell_type": "code",
   "execution_count": 121,
   "metadata": {
    "scrolled": true
   },
   "outputs": [
    {
     "name": "stdout",
     "output_type": "stream",
     "text": [
      "Both: CaNA, BRAF, DYRK1A, ITSN1, pERK\n",
      "Clustered only: GSK3B, SYP, pELK, H3AcK18, H3MeK4\n",
      "Unclustered only: SOD1, P38, ARC, Ubiquitin, pS6\n"
     ]
    }
   ],
   "source": [
    "s_clu_norms = set(high_clustered_norms.index)\n",
    "s_unc_norms = set(high_unclustered_norms.index)\n",
    "\n",
    "print(\"Both: \" + \", \".join(g.split(\"_\")[0] for g in s_clu_norms & s_unc_norms))\n",
    "print(\"Clustered only: \" + \", \".join(n.split(\"_\")[0] for n in s_clu_norms if n not in s_unc_norms))\n",
    "print(\"Unclustered only: \" + \", \".join(n.split(\"_\")[0] for n in s_unc_norms if n not in s_clu_norms))"
   ]
  },
  {
   "cell_type": "markdown",
   "metadata": {},
   "source": [
    "The regulatory cascade is probably driven by proteins present in both groups.  Proteins present only in the unclustered group probably exert a weak, non-specific regulatory influence on the cell.  Proteins present in the clustered group only probably play a role in controlling the magnitude of the effect."
   ]
  },
  {
   "cell_type": "code",
   "execution_count": 27,
   "metadata": {
    "collapsed": true,
    "hideCode": false,
    "hidePrompt": false
   },
   "outputs": [],
   "source": [
    "categorical_columns = [\"Genotype\", \"Treatment\", \"Behavior\"]\n",
    "small_df = t_sorted_df.drop(\"cluster\", 1).loc[:,df_clustered]\n",
    "conditions = df.loc[:, categorical_columns]"
   ]
  },
  {
   "cell_type": "code",
   "execution_count": 28,
   "metadata": {
    "collapsed": true
   },
   "outputs": [],
   "source": [
    "def only_samples_where(df, genotype=None, treatment=None, behavior=None):\n",
    "    genotype = genotype or set()\n",
    "    treatment = treatment or set()\n",
    "    behavior = behavior or set()\n",
    "    df = df.transpose().join(conditions)\n",
    "    \n",
    "    def mask(value=False):\n",
    "        return pd.Series([value for _ in df.index], dtype=bool, index=df.index)\n",
    "    \n",
    "    m = mask(True)\n",
    "    \n",
    "    if genotype:\n",
    "        genotype_mask = mask(False)\n",
    "        if \"Control\" in genotype:\n",
    "            genotype_mask |= df[\"Genotype\"] == \"Control\"\n",
    "        if \"Ts65Dn\" in genotype:\n",
    "            genotype_mask |= df[\"Genotype\"] == \"Ts65Dn\"\n",
    "        m &= genotype_mask\n",
    "    \n",
    "    if treatment:\n",
    "        treatment_mask = mask(False)\n",
    "        if \"Memantine\" in treatment:\n",
    "            treatment_mask |= df[\"Treatment\"] == \"Memantine\"\n",
    "        if \"Saline\" in treatment:\n",
    "            treatment_mask |= df[\"Treatment\"] == \"Saline\"\n",
    "        m &= treatment_mask\n",
    "        \n",
    "    if behavior:\n",
    "        behavior_mask = mask(False)\n",
    "        if \"C/S\" in behavior:\n",
    "            behavior_mask |= df[\"Behavior\"] == \"C/S\"\n",
    "        if \"S/C\" in behavior:\n",
    "            behavior_mask |= df[\"Behavior\"] == \"S/C\"\n",
    "        m &= behavior_mask\n",
    "        \n",
    "        return df[m].drop(categorical_columns, axis=1).transpose()"
   ]
  },
  {
   "cell_type": "code",
   "execution_count": 29,
   "metadata": {
    "hideCode": false,
    "hidePrompt": false
   },
   "outputs": [
    {
     "data": {
      "application/vnd.jupyter.widget-view+json": {
       "model_id": "b6b35a6d551b4042b132252f1e71db80"
      }
     },
     "metadata": {},
     "output_type": "display_data"
    }
   ],
   "source": [
    "def filtered_heatmap(genotype, treatment, behavior):\n",
    "    filtered_df = only_samples_where(small_df, genotype=genotype, treatment=treatment, behavior=behavior)\n",
    "    fig = block_heatmap(filtered_df, width=875)\n",
    "    show(fig, notebook_handle=True)\n",
    "\n",
    "genotype_opts = {\"All\": \"Control Ts65Dn\", \"Control\": \"Control\", \"Ts65Dn\": \"Ts65Dn\"}\n",
    "treatment_opts = {\"All\": \"Memantine Saline\", \"Saline\": \"Saline\", \"Memantine\": \"Memantine\"}\n",
    "behavior_opts = {\"All\": \"C/S S/C\", \"Learning\": \"C/S\", \"No learning\": \"S/C\"}\n",
    "interact(filtered_heatmap, genotype=genotype_opts, treatment=treatment_opts, behavior=behavior_opts);"
   ]
  },
  {
   "cell_type": "markdown",
   "metadata": {
    "collapsed": true
   },
   "source": [
    "This beast of a plot shows patterns of activity for every gene in the database."
   ]
  },
  {
   "cell_type": "code",
   "execution_count": null,
   "metadata": {
    "collapsed": true
   },
   "outputs": [],
   "source": []
  }
 ],
 "metadata": {
  "hide_code_all_hidden": false,
  "kernelspec": {
   "display_name": "Python 3",
   "language": "python",
   "name": "python3"
  },
  "language_info": {
   "codemirror_mode": {
    "name": "ipython",
    "version": 3
   },
   "file_extension": ".py",
   "mimetype": "text/x-python",
   "name": "python",
   "nbconvert_exporter": "python",
   "pygments_lexer": "ipython3",
   "version": "3.6.1+"
  }
 },
 "nbformat": 4,
 "nbformat_minor": 1
}
