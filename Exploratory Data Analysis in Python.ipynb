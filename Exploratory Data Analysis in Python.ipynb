{
 "cells": [
  {
   "cell_type": "markdown",
   "metadata": {},
   "source": [
    "# Exploratory Data Analysis in Python\n",
    "\n",
    "In this course I'm going to share with you my techniques and thought processes for exploratory data analysis.  I'll demonstrate everything with analysis of a real data set.  It is important to emphasize that there isn't a single right way to do exploratory data analysis.  The way you explore your data depends on the questions you're trying to answer and the data itself.  As such, you shouldn't try to replicate this analysis exactly, rather let the data and your curiousity guide you.  \n",
    "\n",
    "There are a few core libraries you want to become familiar with.  This includes:\n",
    "\n",
    "* NumPy: provides the core array class for efficient storage and vectorized computation.\n",
    "* Pandas: wraps NumPy arrays with a series and dataframe object providing lots of convenient methods.\n",
    "* SciPy: a wide variety of scientific computation tools, including statistics, optimization and signal processing.\n",
    "* Scikit-learn: a wide variety of machine learning methods, as well as data processing helpers.\n",
    "* Matplotlib: The most full-featured Python plotting library.  Generates static images.\n",
    "* Bokeh: A new plotting library.  Able to render interactive plots in notebooks.\n",
    "\n"
   ]
  },
  {
   "cell_type": "code",
   "execution_count": 22,
   "metadata": {
    "collapsed": false,
    "hideCode": false,
    "hidePrompt": false
   },
   "outputs": [
    {
     "ename": "ModuleNotFoundError",
     "evalue": "No module named 'hdbscan'",
     "output_type": "error",
     "traceback": [
      "\u001b[0;31m---------------------------------------------------------------------------\u001b[0m",
      "\u001b[0;31mModuleNotFoundError\u001b[0m                       Traceback (most recent call last)",
      "\u001b[0;32m<ipython-input-22-3441ad42bc49>\u001b[0m in \u001b[0;36m<module>\u001b[0;34m()\u001b[0m\n\u001b[1;32m      4\u001b[0m \u001b[0;32mimport\u001b[0m \u001b[0mmatplotlib\u001b[0m\u001b[0;34m.\u001b[0m\u001b[0mpyplot\u001b[0m \u001b[0;32mas\u001b[0m \u001b[0mplt\u001b[0m\u001b[0;34m\u001b[0m\u001b[0m\n\u001b[1;32m      5\u001b[0m \u001b[0;32mimport\u001b[0m \u001b[0mwarnings\u001b[0m\u001b[0;34m\u001b[0m\u001b[0m\n\u001b[0;32m----> 6\u001b[0;31m \u001b[0;32mimport\u001b[0m \u001b[0mhdbscan\u001b[0m\u001b[0;34m\u001b[0m\u001b[0m\n\u001b[0m\u001b[1;32m      7\u001b[0m \u001b[0;34m\u001b[0m\u001b[0m\n\u001b[1;32m      8\u001b[0m \u001b[0;32mfrom\u001b[0m \u001b[0mcollections\u001b[0m \u001b[0;32mimport\u001b[0m \u001b[0mCounter\u001b[0m\u001b[0;34m\u001b[0m\u001b[0m\n",
      "\u001b[0;31mModuleNotFoundError\u001b[0m: No module named 'hdbscan'"
     ]
    }
   ],
   "source": [
    "import numpy as np\n",
    "import pandas as pd\n",
    "import networkx as nx\n",
    "import matplotlib.pyplot as plt\n",
    "import warnings\n",
    "import hdbscan\n",
    "\n",
    "from collections import Counter\n",
    "from bokeh.io import output_notebook, show\n",
    "from scipy.stats import gaussian_kde, anderson, skew, kurtosis\n",
    "from itertools import zip_longest, count, cycle\n",
    "from helpers import block_heatmap, scatter_with_hover\n",
    "from sklearn.preprocessing import MinMaxScaler, StandardScaler\n",
    "from sklearn.decomposition import FastICA\n",
    "from statsmodels.distributions.empirical_distribution import ECDF\n",
    "from ipywidgets import interact\n",
    "from matplotlib.colors import ListedColormap\n",
    "\n",
    "bar_color = \"cornflowerblue\"\n",
    "\n",
    "%matplotlib inline\n",
    "warnings.filterwarnings('ignore')\n",
    "plt.rcParams['figure.figsize'] = (12, 5)"
   ]
  },
  {
   "cell_type": "markdown",
   "metadata": {},
   "source": [
    "## The dataset\n",
    "\n"
   ]
  },
  {
   "cell_type": "code",
   "execution_count": 3,
   "metadata": {
    "collapsed": true,
    "hideCode": false,
    "hidePrompt": false
   },
   "outputs": [],
   "source": [
    "df = pd.read_excel(\"Data_Cortex_Nuclear.xls\", index_col=0)\n",
    "\n",
    "df = df.fillna(df.mean())\n",
    "df_numeric = df.filter(like=\"_N\", axis=1)"
   ]
  },
  {
   "cell_type": "markdown",
   "metadata": {
    "collapsed": true,
    "hideCode": false,
    "hidePrompt": false
   },
   "source": [
    "## Generating additional summary statistics\n",
    "\n",
    "Pandas dataframes has a handy method called describe.  Describe gives you a variety of summary statistics for each variable.  The summary statistics returned by this method are also a dataframe, so you can amend it easily to include other statistics.  We'll do exactly that, adding the variable's coefficient of variation.\n",
    "\n",
    "The coefficient of variation is just the ratio of the standard deviation to the mean of the distribution.  Distributions with a large coefficient of variation are more likely to signal a change in the underlying data generation process, as opposed to random variation."
   ]
  },
  {
   "cell_type": "code",
   "execution_count": 4,
   "metadata": {
    "collapsed": false,
    "hideCode": false,
    "hidePrompt": false
   },
   "outputs": [
    {
     "data": {
      "text/html": [
       "<div>\n",
       "<table border=\"1\" class=\"dataframe\">\n",
       "  <thead>\n",
       "    <tr style=\"text-align: right;\">\n",
       "      <th></th>\n",
       "      <th>ERBB4_N</th>\n",
       "      <th>P3525_N</th>\n",
       "      <th>BAX_N</th>\n",
       "      <th>GFAP_N</th>\n",
       "      <th>pGSK3B_Tyr216_N</th>\n",
       "      <th>PSD95_N</th>\n",
       "      <th>ARC_N</th>\n",
       "      <th>pS6_N</th>\n",
       "      <th>pGSK3B_N</th>\n",
       "      <th>CDK5_N</th>\n",
       "      <th>...</th>\n",
       "      <th>Tau_N</th>\n",
       "      <th>pPKCG_N</th>\n",
       "      <th>pCAMKII_N</th>\n",
       "      <th>pP70S6_N</th>\n",
       "      <th>ITSN1_N</th>\n",
       "      <th>SOD1_N</th>\n",
       "      <th>BRAF_N</th>\n",
       "      <th>DYRK1A_N</th>\n",
       "      <th>pERK_N</th>\n",
       "      <th>AcetylH3K9_N</th>\n",
       "    </tr>\n",
       "  </thead>\n",
       "  <tbody>\n",
       "    <tr>\n",
       "      <th>count</th>\n",
       "      <td>1080.000000</td>\n",
       "      <td>1080.000000</td>\n",
       "      <td>1080.000000</td>\n",
       "      <td>1080.000000</td>\n",
       "      <td>1080.000000</td>\n",
       "      <td>1080.000000</td>\n",
       "      <td>1080.000000</td>\n",
       "      <td>1080.000000</td>\n",
       "      <td>1080.000000</td>\n",
       "      <td>1080.000000</td>\n",
       "      <td>...</td>\n",
       "      <td>1080.000000</td>\n",
       "      <td>1080.000000</td>\n",
       "      <td>1080.000000</td>\n",
       "      <td>1080.000000</td>\n",
       "      <td>1080.000000</td>\n",
       "      <td>1080.000000</td>\n",
       "      <td>1080.000000</td>\n",
       "      <td>1080.000000</td>\n",
       "      <td>1080.000000</td>\n",
       "      <td>1080.000000</td>\n",
       "    </tr>\n",
       "    <tr>\n",
       "      <th>mean</th>\n",
       "      <td>0.156478</td>\n",
       "      <td>0.291276</td>\n",
       "      <td>0.179307</td>\n",
       "      <td>0.120889</td>\n",
       "      <td>0.848767</td>\n",
       "      <td>2.235236</td>\n",
       "      <td>0.121521</td>\n",
       "      <td>0.121521</td>\n",
       "      <td>0.161211</td>\n",
       "      <td>0.292434</td>\n",
       "      <td>...</td>\n",
       "      <td>0.210489</td>\n",
       "      <td>1.706599</td>\n",
       "      <td>3.537109</td>\n",
       "      <td>0.394475</td>\n",
       "      <td>0.617102</td>\n",
       "      <td>0.542635</td>\n",
       "      <td>0.378519</td>\n",
       "      <td>0.425810</td>\n",
       "      <td>0.545904</td>\n",
       "      <td>0.216482</td>\n",
       "    </tr>\n",
       "    <tr>\n",
       "      <th>std</th>\n",
       "      <td>0.015071</td>\n",
       "      <td>0.030015</td>\n",
       "      <td>0.018826</td>\n",
       "      <td>0.013233</td>\n",
       "      <td>0.094311</td>\n",
       "      <td>0.254395</td>\n",
       "      <td>0.014276</td>\n",
       "      <td>0.014276</td>\n",
       "      <td>0.019308</td>\n",
       "      <td>0.037380</td>\n",
       "      <td>...</td>\n",
       "      <td>0.069010</td>\n",
       "      <td>0.578442</td>\n",
       "      <td>1.293368</td>\n",
       "      <td>0.155953</td>\n",
       "      <td>0.251290</td>\n",
       "      <td>0.280178</td>\n",
       "      <td>0.216087</td>\n",
       "      <td>0.249015</td>\n",
       "      <td>0.344829</td>\n",
       "      <td>0.185309</td>\n",
       "    </tr>\n",
       "    <tr>\n",
       "      <th>min</th>\n",
       "      <td>0.100217</td>\n",
       "      <td>0.207438</td>\n",
       "      <td>0.072326</td>\n",
       "      <td>0.086114</td>\n",
       "      <td>0.577397</td>\n",
       "      <td>1.206098</td>\n",
       "      <td>0.067254</td>\n",
       "      <td>0.067254</td>\n",
       "      <td>0.099976</td>\n",
       "      <td>0.181157</td>\n",
       "      <td>...</td>\n",
       "      <td>0.096233</td>\n",
       "      <td>0.598767</td>\n",
       "      <td>1.343998</td>\n",
       "      <td>0.131120</td>\n",
       "      <td>0.245359</td>\n",
       "      <td>0.217120</td>\n",
       "      <td>0.143894</td>\n",
       "      <td>0.145327</td>\n",
       "      <td>0.149155</td>\n",
       "      <td>0.052528</td>\n",
       "    </tr>\n",
       "    <tr>\n",
       "      <th>25%</th>\n",
       "      <td>0.146969</td>\n",
       "      <td>0.270059</td>\n",
       "      <td>0.168172</td>\n",
       "      <td>0.112765</td>\n",
       "      <td>0.793739</td>\n",
       "      <td>2.079338</td>\n",
       "      <td>0.110839</td>\n",
       "      <td>0.110839</td>\n",
       "      <td>0.149253</td>\n",
       "      <td>0.272594</td>\n",
       "      <td>...</td>\n",
       "      <td>0.167991</td>\n",
       "      <td>1.296830</td>\n",
       "      <td>2.479861</td>\n",
       "      <td>0.282131</td>\n",
       "      <td>0.473669</td>\n",
       "      <td>0.319712</td>\n",
       "      <td>0.264356</td>\n",
       "      <td>0.288163</td>\n",
       "      <td>0.337486</td>\n",
       "      <td>0.103571</td>\n",
       "    </tr>\n",
       "    <tr>\n",
       "      <th>50%</th>\n",
       "      <td>0.156371</td>\n",
       "      <td>0.290646</td>\n",
       "      <td>0.180745</td>\n",
       "      <td>0.120459</td>\n",
       "      <td>0.849858</td>\n",
       "      <td>2.242197</td>\n",
       "      <td>0.121626</td>\n",
       "      <td>0.121626</td>\n",
       "      <td>0.160212</td>\n",
       "      <td>0.293820</td>\n",
       "      <td>...</td>\n",
       "      <td>0.188630</td>\n",
       "      <td>1.664560</td>\n",
       "      <td>3.329624</td>\n",
       "      <td>0.378673</td>\n",
       "      <td>0.566365</td>\n",
       "      <td>0.446027</td>\n",
       "      <td>0.326730</td>\n",
       "      <td>0.366540</td>\n",
       "      <td>0.444223</td>\n",
       "      <td>0.150417</td>\n",
       "    </tr>\n",
       "    <tr>\n",
       "      <th>75%</th>\n",
       "      <td>0.165421</td>\n",
       "      <td>0.311602</td>\n",
       "      <td>0.191577</td>\n",
       "      <td>0.127724</td>\n",
       "      <td>0.916173</td>\n",
       "      <td>2.420226</td>\n",
       "      <td>0.131955</td>\n",
       "      <td>0.131955</td>\n",
       "      <td>0.171739</td>\n",
       "      <td>0.312484</td>\n",
       "      <td>...</td>\n",
       "      <td>0.233943</td>\n",
       "      <td>2.112973</td>\n",
       "      <td>4.480652</td>\n",
       "      <td>0.480704</td>\n",
       "      <td>0.697500</td>\n",
       "      <td>0.695318</td>\n",
       "      <td>0.412716</td>\n",
       "      <td>0.487574</td>\n",
       "      <td>0.663173</td>\n",
       "      <td>0.269653</td>\n",
       "    </tr>\n",
       "    <tr>\n",
       "      <th>max</th>\n",
       "      <td>0.208698</td>\n",
       "      <td>0.443735</td>\n",
       "      <td>0.241141</td>\n",
       "      <td>0.213621</td>\n",
       "      <td>1.204598</td>\n",
       "      <td>2.877873</td>\n",
       "      <td>0.158748</td>\n",
       "      <td>0.158748</td>\n",
       "      <td>0.253210</td>\n",
       "      <td>0.817402</td>\n",
       "      <td>...</td>\n",
       "      <td>0.602768</td>\n",
       "      <td>3.381976</td>\n",
       "      <td>7.464070</td>\n",
       "      <td>1.129171</td>\n",
       "      <td>2.602662</td>\n",
       "      <td>1.872899</td>\n",
       "      <td>2.133416</td>\n",
       "      <td>2.516367</td>\n",
       "      <td>3.566685</td>\n",
       "      <td>1.459387</td>\n",
       "    </tr>\n",
       "    <tr>\n",
       "      <th>cova</th>\n",
       "      <td>0.096313</td>\n",
       "      <td>0.103047</td>\n",
       "      <td>0.104995</td>\n",
       "      <td>0.109467</td>\n",
       "      <td>0.111116</td>\n",
       "      <td>0.113811</td>\n",
       "      <td>0.117482</td>\n",
       "      <td>0.117482</td>\n",
       "      <td>0.119768</td>\n",
       "      <td>0.127823</td>\n",
       "      <td>...</td>\n",
       "      <td>0.327855</td>\n",
       "      <td>0.338945</td>\n",
       "      <td>0.365657</td>\n",
       "      <td>0.395343</td>\n",
       "      <td>0.407210</td>\n",
       "      <td>0.516329</td>\n",
       "      <td>0.570875</td>\n",
       "      <td>0.584803</td>\n",
       "      <td>0.631665</td>\n",
       "      <td>0.856000</td>\n",
       "    </tr>\n",
       "  </tbody>\n",
       "</table>\n",
       "<p>9 rows × 77 columns</p>\n",
       "</div>"
      ],
      "text/plain": [
       "           ERBB4_N      P3525_N        BAX_N       GFAP_N  pGSK3B_Tyr216_N  \\\n",
       "count  1080.000000  1080.000000  1080.000000  1080.000000      1080.000000   \n",
       "mean      0.156478     0.291276     0.179307     0.120889         0.848767   \n",
       "std       0.015071     0.030015     0.018826     0.013233         0.094311   \n",
       "min       0.100217     0.207438     0.072326     0.086114         0.577397   \n",
       "25%       0.146969     0.270059     0.168172     0.112765         0.793739   \n",
       "50%       0.156371     0.290646     0.180745     0.120459         0.849858   \n",
       "75%       0.165421     0.311602     0.191577     0.127724         0.916173   \n",
       "max       0.208698     0.443735     0.241141     0.213621         1.204598   \n",
       "cova      0.096313     0.103047     0.104995     0.109467         0.111116   \n",
       "\n",
       "           PSD95_N        ARC_N        pS6_N     pGSK3B_N       CDK5_N  \\\n",
       "count  1080.000000  1080.000000  1080.000000  1080.000000  1080.000000   \n",
       "mean      2.235236     0.121521     0.121521     0.161211     0.292434   \n",
       "std       0.254395     0.014276     0.014276     0.019308     0.037380   \n",
       "min       1.206098     0.067254     0.067254     0.099976     0.181157   \n",
       "25%       2.079338     0.110839     0.110839     0.149253     0.272594   \n",
       "50%       2.242197     0.121626     0.121626     0.160212     0.293820   \n",
       "75%       2.420226     0.131955     0.131955     0.171739     0.312484   \n",
       "max       2.877873     0.158748     0.158748     0.253210     0.817402   \n",
       "cova      0.113811     0.117482     0.117482     0.119768     0.127823   \n",
       "\n",
       "           ...             Tau_N      pPKCG_N    pCAMKII_N     pP70S6_N  \\\n",
       "count      ...       1080.000000  1080.000000  1080.000000  1080.000000   \n",
       "mean       ...          0.210489     1.706599     3.537109     0.394475   \n",
       "std        ...          0.069010     0.578442     1.293368     0.155953   \n",
       "min        ...          0.096233     0.598767     1.343998     0.131120   \n",
       "25%        ...          0.167991     1.296830     2.479861     0.282131   \n",
       "50%        ...          0.188630     1.664560     3.329624     0.378673   \n",
       "75%        ...          0.233943     2.112973     4.480652     0.480704   \n",
       "max        ...          0.602768     3.381976     7.464070     1.129171   \n",
       "cova       ...          0.327855     0.338945     0.365657     0.395343   \n",
       "\n",
       "           ITSN1_N       SOD1_N       BRAF_N     DYRK1A_N       pERK_N  \\\n",
       "count  1080.000000  1080.000000  1080.000000  1080.000000  1080.000000   \n",
       "mean      0.617102     0.542635     0.378519     0.425810     0.545904   \n",
       "std       0.251290     0.280178     0.216087     0.249015     0.344829   \n",
       "min       0.245359     0.217120     0.143894     0.145327     0.149155   \n",
       "25%       0.473669     0.319712     0.264356     0.288163     0.337486   \n",
       "50%       0.566365     0.446027     0.326730     0.366540     0.444223   \n",
       "75%       0.697500     0.695318     0.412716     0.487574     0.663173   \n",
       "max       2.602662     1.872899     2.133416     2.516367     3.566685   \n",
       "cova      0.407210     0.516329     0.570875     0.584803     0.631665   \n",
       "\n",
       "       AcetylH3K9_N  \n",
       "count   1080.000000  \n",
       "mean       0.216482  \n",
       "std        0.185309  \n",
       "min        0.052528  \n",
       "25%        0.103571  \n",
       "50%        0.150417  \n",
       "75%        0.269653  \n",
       "max        1.459387  \n",
       "cova       0.856000  \n",
       "\n",
       "[9 rows x 77 columns]"
      ]
     },
     "execution_count": 4,
     "metadata": {},
     "output_type": "execute_result"
    }
   ],
   "source": [
    "description = df.describe()\n",
    "coef_variation = description.loc[\"std\"] / description.loc[\"mean\"]\n",
    "description.loc[\"cova\"] = coef_variation\n",
    "description.sort_values(by=\"cova\", axis=1)"
   ]
  },
  {
   "cell_type": "markdown",
   "metadata": {},
   "source": [
    "## Normalization\n",
    "\n",
    "One important initial step before any real analysis is performed is to normalize the data.  This is necessary in order to prevent variables with large values from having an undue influence on results. There are a few different methods of normalizing your data:\n",
    " \n",
    "* The most common method is to divide a dimension’s values by the largest value it contains.  This method is easy to interpret, and it is robust to outliers when the coefficient of variation on a dimension is low.  \n",
    "* Another very common method is to subtract the dimension’s mean and divide by its standard deviation, a process sometimes called standardizing.  This method provides more information about the relative similarity of values when the coefficient of variation on a dimension is high.  It performs poorly on dimensions with a low coefficient of variation and large outliers.\n",
    "* An underutilized option is to use the cumulative distribution function of the dimension’s empirical distribution to get a percentile ranking.  This method works well in most cases and is robust to outliers.  It degrades somewhat when a dimension’s coefficient of variation gets very small.\n",
    " \n",
    "The normalization method you use depends on your data and the aspects of it that you want to highlight.  You can use a different normalization method for each dimension of your data, though I don’t advise you do this unless absolutely necessary.  In general my preference is for the empirical distribution method.\n"
   ]
  },
  {
   "cell_type": "code",
   "execution_count": 5,
   "metadata": {
    "collapsed": true,
    "hideCode": false,
    "hidePrompt": false
   },
   "outputs": [],
   "source": [
    "minmax_normalized_df = pd.DataFrame(MinMaxScaler().fit_transform(df_numeric),\n",
    "                                    columns=df_numeric.columns, index=df_numeric.index)\n",
    "\n",
    "standardized_df = pd.DataFrame(StandardScaler().fit_transform(df_numeric), columns=df_numeric.columns,\n",
    "                               index=df_numeric.index)\n",
    "\n",
    "ecdf_normalized_df = df_numeric.apply(lambda c: pd.Series(ECDF(c)(c), index=c.index))"
   ]
  },
  {
   "cell_type": "code",
   "execution_count": null,
   "metadata": {
    "collapsed": true,
    "hideCode": false,
    "hidePrompt": false,
    "scrolled": true
   },
   "outputs": [],
   "source": [
    "\n",
    "\n"
   ]
  },
  {
   "cell_type": "markdown",
   "metadata": {},
   "source": [
    "## Exploring distributions\n",
    "\n",
    "The best way to understand a distribution is to look at its density function.  The graph of the density function is a complete visual description of the distribution.  The density function can be approximated using a histogram or a density estimator.  I prefer both in the same plot.  It is also handy to have a plot of the cumulative density."
   ]
  },
  {
   "cell_type": "code",
   "execution_count": 6,
   "metadata": {
    "collapsed": true,
    "hideCode": false,
    "hidePrompt": false
   },
   "outputs": [],
   "source": [
    "def plot_histogram(*data, title=None, columns=3):\n",
    "    \n",
    "    def plot_data(d, a):\n",
    "        if d is None:\n",
    "            a.axis(\"off\")\n",
    "            return\n",
    "        a.hist(d, normed=True, color=bar_color, label=None)\n",
    "        de = gaussian_kde(d)\n",
    "        edge = 1\n",
    "        x = pd.Series(np.linspace(edge * d.min(), d.max() / edge, 100))\n",
    "        interpolated_y = de(x)\n",
    "        cumulative = x.apply(lambda v: de.integrate_box_1d(d.min(), v)) * interpolated_y.max()\n",
    "        a.plot(x, interpolated_y, linestyle='--', color=\"rebeccapurple\", label=\"PDF\")\n",
    "        a.plot(x, cumulative, linestyle='--', color=\"dimgray\", label=\"CDF\")\n",
    "        a.fill_between(x, interpolated_y, interpolate=True, color=\"rebeccapurple\", alpha=0.35, zorder=10)\n",
    "        a.fill_between(x, cumulative, interpolate=True, color=\"dimgray\", alpha=0.125, zorder=15)\n",
    "        a.set_xlim([x.min(), x.max()])\n",
    "        \n",
    "        a.yaxis.set_ticks_position('none')\n",
    "        a.yaxis.set_ticklabels([])\n",
    "    \n",
    "    if columns > len(data):\n",
    "        columns = len(data)\n",
    "    rows = int(np.ceil(len(data) / columns))\n",
    "    \n",
    "    fig, axes = plt.subplots(rows, columns)\n",
    "    \n",
    "    if columns == 1:\n",
    "        plot_data(data[0], axes)\n",
    "        if title:\n",
    "            axes.set_title(title)\n",
    "        axes.set_ylabel(\"Density\")\n",
    "        axes.legend()\n",
    "    else:\n",
    "        flat_axes = axes.flatten()\n",
    "        for d, a in zip_longest(data, flat_axes):\n",
    "            plot_data(d, a)\n",
    "        if title:\n",
    "            for t, a in zip(title, flat_axes):\n",
    "                a.set_title(t)\n",
    "            \n",
    "    fig.tight_layout()"
   ]
  },
  {
   "cell_type": "markdown",
   "metadata": {},
   "source": [
    "To start with, we're going to explore the distribution of the coefficients of variation for the variables.  Based on this distribution we can identify outliers, and save them for further analysis."
   ]
  },
  {
   "cell_type": "code",
   "execution_count": 7,
   "metadata": {
    "collapsed": false,
    "hideCode": false,
    "hidePrompt": false
   },
   "outputs": [
    {
     "data": {
      "image/png": "[encoded data removed]",
      "text/plain": [
       "<matplotlib.figure.Figure at 0x7fcb777f8550>"
      ]
     },
     "metadata": {},
     "output_type": "display_data"
    }
   ],
   "source": [
    "plot_histogram(description.loc[\"cova\"], title=\"Coefficient of variation\")"
   ]
  },
  {
   "cell_type": "markdown",
   "metadata": {},
   "source": [
    "Based on this distribution, 0.3 appears to be a good cut-off value."
   ]
  },
  {
   "cell_type": "code",
   "execution_count": 8,
   "metadata": {
    "collapsed": false,
    "hideCode": false,
    "hidePrompt": false
   },
   "outputs": [
    {
     "data": {
      "text/plain": [
       "AcetylH3K9_N    0.856000\n",
       "pERK_N          0.631665\n",
       "DYRK1A_N        0.584803\n",
       "BRAF_N          0.570875\n",
       "SOD1_N          0.516329\n",
       "ITSN1_N         0.407210\n",
       "pP70S6_N        0.395343\n",
       "pCAMKII_N       0.365657\n",
       "pPKCG_N         0.338945\n",
       "Tau_N           0.327855\n",
       "pELK_N          0.326353\n",
       "S6_N            0.320205\n",
       "H3AcK18_N       0.319686\n",
       "pPKCAB_N        0.315412\n",
       "ADARB1_N        0.302102\n",
       "Name: cova, dtype: float64"
      ]
     },
     "execution_count": 8,
     "metadata": {},
     "output_type": "execute_result"
    }
   ],
   "source": [
    "high_cova = description.loc[\"cova\"].where(lambda x: x > 0.30).dropna().sort_values(ascending=False)\n",
    "high_cova"
   ]
  },
  {
   "cell_type": "markdown",
   "metadata": {},
   "source": [
    "Normality tests can also be used to identify interesting genes.  Either the Anderson-Darling test or the Shapiro-Wilks test works well in this role."
   ]
  },
  {
   "cell_type": "code",
   "execution_count": 38,
   "metadata": {
    "collapsed": false,
    "hideCode": false,
    "hidePrompt": false
   },
   "outputs": [
    {
     "data": {
      "image/png": "[encoded data removed]",
      "text/plain": [
       "<matplotlib.figure.Figure at 0x7fcb74b205c0>"
      ]
     },
     "metadata": {},
     "output_type": "display_data"
    }
   ],
   "source": [
    "norm = pd.Series([anderson(df_numeric[c])[0] for c in df_numeric], index=df_numeric.columns)\n",
    "maximum_finite = max(filter(lambda x: not x == np.infty, norm))\n",
    "finite_norm = norm.apply(lambda x: min(maximum_finite, x))\n",
    "\n",
    "plot_histogram(finite_norm, title=\"Anderson-Darling test statistic\")"
   ]
  },
  {
   "cell_type": "markdown",
   "metadata": {},
   "source": [
    "Based on this distribution, 20 seems like a good cut-off value."
   ]
  },
  {
   "cell_type": "code",
   "execution_count": 40,
   "metadata": {
    "collapsed": false,
    "hideCode": false,
    "hidePrompt": false
   },
   "outputs": [
    {
     "data": {
      "text/plain": [
       "CDK5_N          85.892792\n",
       "RRP1_N          85.892792\n",
       "pELK_N          85.892792\n",
       "pERK_N          85.892792\n",
       "BRAF_N          85.892792\n",
       "DYRK1A_N        85.892792\n",
       "GluR4_N         85.892792\n",
       "AcetylH3K9_N    85.783742\n",
       "Tau_N           52.473828\n",
       "ITSN1_N         48.510028\n",
       "SOD1_N          46.589849\n",
       "BCL2_N          35.070336\n",
       "H3AcK18_N       29.416407\n",
       "H3MeK4_N        29.278540\n",
       "ELK_N           26.198888\n",
       "pPKCAB_N        25.716155\n",
       "EGR1_N          24.663063\n",
       "BAD_N           20.816607\n",
       "Name: anderson, dtype: float64"
      ]
     },
     "execution_count": 40,
     "metadata": {},
     "output_type": "execute_result"
    }
   ],
   "source": [
    "description.loc['anderson'] = finite_norm\n",
    "\n",
    "high_anderson = description.loc['anderson'].where(lambda x: x > 20).dropna().sort_values(ascending=False)\n",
    "high_anderson"
   ]
  },
  {
   "cell_type": "markdown",
   "metadata": {},
   "source": [
    "We can use these results to filter our data set.  If we create sets from the result indices, we can take their intersections and unions to create complex filters."
   ]
  },
  {
   "cell_type": "code",
   "execution_count": 41,
   "metadata": {
    "collapsed": false,
    "hideCode": false,
    "hidePrompt": false
   },
   "outputs": [
    {
     "name": "stdout",
     "output_type": "stream",
     "text": [
      "{'SOD1_N', 'ITSN1_N', 'DYRK1A_N', 'Tau_N', 'H3AcK18_N', 'BRAF_N', 'pPKCAB_N', 'AcetylH3K9_N', 'pERK_N', 'pELK_N'}\n"
     ]
    }
   ],
   "source": [
    "high_anderson_and_cova = set(high_anderson.index) & set(high_cova.index)\n",
    "print(high_anderson_and_cova)"
   ]
  },
  {
   "cell_type": "code",
   "execution_count": 42,
   "metadata": {
    "collapsed": false,
    "hideCode": false,
    "hidePrompt": false
   },
   "outputs": [
    {
     "data": {
      "image/png": "[encoded data removed]",
      "text/plain": [
       "<matplotlib.figure.Figure at 0x7fcb745c3b00>"
      ]
     },
     "metadata": {},
     "output_type": "display_data"
    }
   ],
   "source": [
    "gene_data = [df[gene] for gene in high_anderson_and_cova]\n",
    "\n",
    "plot_histogram(*gene_data, title=high_anderson_and_cova)"
   ]
  },
  {
   "cell_type": "code",
   "execution_count": null,
   "metadata": {
    "collapsed": true
   },
   "outputs": [],
   "source": []
  },
  {
   "cell_type": "code",
   "execution_count": 18,
   "metadata": {
    "collapsed": false
   },
   "outputs": [
    {
     "data": {
      "text/html": [
       "\n",
       "    <div class=\"bk-root\">\n",
       "        <a href=\"http://bokeh.pydata.org\" target=\"_blank\" class=\"bk-logo bk-logo-small bk-logo-notebook\"></a>\n",
       "        <span id=\"3dedf51f-e22b-416f-a382-5a964cb8f5fc\">Loading BokehJS ...</span>\n",
       "    </div>"
      ]
     },
     "metadata": {},
     "output_type": "display_data"
    },
    {
     "data": {
      "application/javascript": [
       "\n",
       "(function(global) {\n",
       "  function now() {\n",
       "    return new Date();\n",
       "  }\n",
       "\n",
       "  var force = true;\n",
       "\n",
       "  if (typeof (window._bokeh_onload_callbacks) === \"undefined\" || force === true) {\n",
       "    window._bokeh_onload_callbacks = [];\n",
       "    window._bokeh_is_loading = undefined;\n",
       "  }\n",
       "\n",
       "\n",
       "  \n",
       "  if (typeof (window._bokeh_timeout) === \"undefined\" || force === true) {\n",
       "    window._bokeh_timeout = Date.now() + 5000;\n",
       "    window._bokeh_failed_load = false;\n",
       "  }\n",
       "\n",
       "  var NB_LOAD_WARNING = {'data': {'text/html':\n",
       "     \"<div style='background-color: #fdd'>\\n\"+\n",
       "     \"<p>\\n\"+\n",
       "     \"BokehJS does not appear to have successfully loaded. If loading BokehJS from CDN, this \\n\"+\n",
       "     \"may be due to a slow or bad network connection. Possible fixes:\\n\"+\n",
       "     \"</p>\\n\"+\n",
       "     \"<ul>\\n\"+\n",
       "     \"<li>re-rerun `output_notebook()` to attempt to load from CDN again, or</li>\\n\"+\n",
       "     \"<li>use INLINE resources instead, as so:</li>\\n\"+\n",
       "     \"</ul>\\n\"+\n",
       "     \"<code>\\n\"+\n",
       "     \"from bokeh.resources import INLINE\\n\"+\n",
       "     \"output_notebook(resources=INLINE)\\n\"+\n",
       "     \"</code>\\n\"+\n",
       "     \"</div>\"}};\n",
       "\n",
       "  function display_loaded() {\n",
       "    if (window.Bokeh !== undefined) {\n",
       "      document.getElementById(\"3dedf51f-e22b-416f-a382-5a964cb8f5fc\").textContent = \"BokehJS successfully loaded.\";\n",
       "    } else if (Date.now() < window._bokeh_timeout) {\n",
       "      setTimeout(display_loaded, 100)\n",
       "    }\n",
       "  }\n",
       "\n",
       "  function run_callbacks() {\n",
       "    window._bokeh_onload_callbacks.forEach(function(callback) { callback() });\n",
       "    delete window._bokeh_onload_callbacks\n",
       "    console.info(\"Bokeh: all callbacks have finished\");\n",
       "  }\n",
       "\n",
       "  function load_libs(js_urls, callback) {\n",
       "    window._bokeh_onload_callbacks.push(callback);\n",
       "    if (window._bokeh_is_loading > 0) {\n",
       "      console.log(\"Bokeh: BokehJS is being loaded, scheduling callback at\", now());\n",
       "      return null;\n",
       "    }\n",
       "    if (js_urls == null || js_urls.length === 0) {\n",
       "      run_callbacks();\n",
       "      return null;\n",
       "    }\n",
       "    console.log(\"Bokeh: BokehJS not loaded, scheduling load and callback at\", now());\n",
       "    window._bokeh_is_loading = js_urls.length;\n",
       "    for (var i = 0; i < js_urls.length; i++) {\n",
       "      var url = js_urls[i];\n",
       "      var s = document.createElement('script');\n",
       "      s.src = url;\n",
       "      s.async = false;\n",
       "      s.onreadystatechange = s.onload = function() {\n",
       "        window._bokeh_is_loading--;\n",
       "        if (window._bokeh_is_loading === 0) {\n",
       "          console.log(\"Bokeh: all BokehJS libraries loaded\");\n",
       "          run_callbacks()\n",
       "        }\n",
       "      };\n",
       "      s.onerror = function() {\n",
       "        console.warn(\"failed to load library \" + url);\n",
       "      };\n",
       "      console.log(\"Bokeh: injecting script tag for BokehJS library: \", url);\n",
       "      document.getElementsByTagName(\"head\")[0].appendChild(s);\n",
       "    }\n",
       "  };var element = document.getElementById(\"3dedf51f-e22b-416f-a382-5a964cb8f5fc\");\n",
       "  if (element == null) {\n",
       "    console.log(\"Bokeh: ERROR: autoload.js configured with elementid '3dedf51f-e22b-416f-a382-5a964cb8f5fc' but no matching script tag was found. \")\n",
       "    return false;\n",
       "  }\n",
       "\n",
       "  var js_urls = [\"https://cdn.pydata.org/bokeh/release/bokeh-0.12.4.min.js\", \"https://cdn.pydata.org/bokeh/release/bokeh-widgets-0.12.4.min.js\"];\n",
       "\n",
       "  var inline_js = [\n",
       "    function(Bokeh) {\n",
       "      Bokeh.set_log_level(\"info\");\n",
       "    },\n",
       "    \n",
       "    function(Bokeh) {\n",
       "      \n",
       "      document.getElementById(\"3dedf51f-e22b-416f-a382-5a964cb8f5fc\").textContent = \"BokehJS is loading...\";\n",
       "    },\n",
       "    function(Bokeh) {\n",
       "      console.log(\"Bokeh: injecting CSS: https://cdn.pydata.org/bokeh/release/bokeh-0.12.4.min.css\");\n",
       "      Bokeh.embed.inject_css(\"https://cdn.pydata.org/bokeh/release/bokeh-0.12.4.min.css\");\n",
       "      console.log(\"Bokeh: injecting CSS: https://cdn.pydata.org/bokeh/release/bokeh-widgets-0.12.4.min.css\");\n",
       "      Bokeh.embed.inject_css(\"https://cdn.pydata.org/bokeh/release/bokeh-widgets-0.12.4.min.css\");\n",
       "    }\n",
       "  ];\n",
       "\n",
       "  function run_inline_js() {\n",
       "    \n",
       "    if ((window.Bokeh !== undefined) || (force === true)) {\n",
       "      for (var i = 0; i < inline_js.length; i++) {\n",
       "        inline_js[i](window.Bokeh);\n",
       "      }if (force === true) {\n",
       "        display_loaded();\n",
       "      }} else if (Date.now() < window._bokeh_timeout) {\n",
       "      setTimeout(run_inline_js, 100);\n",
       "    } else if (!window._bokeh_failed_load) {\n",
       "      console.log(\"Bokeh: BokehJS failed to load within specified timeout.\");\n",
       "      window._bokeh_failed_load = true;\n",
       "    } else if (force !== true) {\n",
       "      var cell = $(document.getElementById(\"3dedf51f-e22b-416f-a382-5a964cb8f5fc\")).parents('.cell').data().cell;\n",
       "      cell.output_area.append_execute_result(NB_LOAD_WARNING)\n",
       "    }\n",
       "\n",
       "  }\n",
       "\n",
       "  if (window._bokeh_is_loading === 0) {\n",
       "    console.log(\"Bokeh: BokehJS loaded, going straight to plotting\");\n",
       "    run_inline_js();\n",
       "  } else {\n",
       "    load_libs(js_urls, function() {\n",
       "      console.log(\"Bokeh: BokehJS plotting callback run at\", now());\n",
       "      run_inline_js();\n",
       "    });\n",
       "  }\n",
       "}(this));"
      ]
     },
     "metadata": {},
     "output_type": "display_data"
    },
    {
     "data": {
      "text/html": [
       "\n",
       "\n",
       "    <div class=\"bk-root\">\n",
       "        <div class=\"bk-plotdiv\" id=\"aa3b9919-2ab2-4611-9f80-47358cf71071\"></div>\n",
       "    </div>\n",
       "<script type=\"text/javascript\">\n",
       "  \n",
       "  (function(global) {\n",
       "    function now() {\n",
       "      return new Date();\n",
       "    }\n",
       "  \n",
       "    var force = false;\n",
       "  \n",
       "    if (typeof (window._bokeh_onload_callbacks) === \"undefined\" || force === true) {\n",
       "      window._bokeh_onload_callbacks = [];\n",
       "      window._bokeh_is_loading = undefined;\n",
       "    }\n",
       "  \n",
       "  \n",
       "    \n",
       "    if (typeof (window._bokeh_timeout) === \"undefined\" || force === true) {\n",
       "      window._bokeh_timeout = Date.now() + 0;\n",
       "      window._bokeh_failed_load = false;\n",
       "    }\n",
       "  \n",
       "    var NB_LOAD_WARNING = {'data': {'text/html':\n",
       "       \"<div style='background-color: #fdd'>\\n\"+\n",
       "       \"<p>\\n\"+\n",
       "       \"BokehJS does not appear to have successfully loaded. If loading BokehJS from CDN, this \\n\"+\n",
       "       \"may be due to a slow or bad network connection. Possible fixes:\\n\"+\n",
       "       \"</p>\\n\"+\n",
       "       \"<ul>\\n\"+\n",
       "       \"<li>re-rerun `output_notebook()` to attempt to load from CDN again, or</li>\\n\"+\n",
       "       \"<li>use INLINE resources instead, as so:</li>\\n\"+\n",
       "       \"</ul>\\n\"+\n",
       "       \"<code>\\n\"+\n",
       "       \"from bokeh.resources import INLINE\\n\"+\n",
       "       \"output_notebook(resources=INLINE)\\n\"+\n",
       "       \"</code>\\n\"+\n",
       "       \"</div>\"}};\n",
       "  \n",
       "    function display_loaded() {\n",
       "      if (window.Bokeh !== undefined) {\n",
       "        document.getElementById(\"aa3b9919-2ab2-4611-9f80-47358cf71071\").textContent = \"BokehJS successfully loaded.\";\n",
       "      } else if (Date.now() < window._bokeh_timeout) {\n",
       "        setTimeout(display_loaded, 100)\n",
       "      }\n",
       "    }if ((window.Jupyter !== undefined) && Jupyter.notebook.kernel) {\n",
       "      comm_manager = Jupyter.notebook.kernel.comm_manager\n",
       "      comm_manager.register_target(\"479e8486-14ab-45a5-93c7-98c21dd7d5f8\", function () {});\n",
       "    }\n",
       "  \n",
       "    function run_callbacks() {\n",
       "      window._bokeh_onload_callbacks.forEach(function(callback) { callback() });\n",
       "      delete window._bokeh_onload_callbacks\n",
       "      console.info(\"Bokeh: all callbacks have finished\");\n",
       "    }\n",
       "  \n",
       "    function load_libs(js_urls, callback) {\n",
       "      window._bokeh_onload_callbacks.push(callback);\n",
       "      if (window._bokeh_is_loading > 0) {\n",
       "        console.log(\"Bokeh: BokehJS is being loaded, scheduling callback at\", now());\n",
       "        return null;\n",
       "      }\n",
       "      if (js_urls == null || js_urls.length === 0) {\n",
       "        run_callbacks();\n",
       "        return null;\n",
       "      }\n",
       "      console.log(\"Bokeh: BokehJS not loaded, scheduling load and callback at\", now());\n",
       "      window._bokeh_is_loading = js_urls.length;\n",
       "      for (var i = 0; i < js_urls.length; i++) {\n",
       "        var url = js_urls[i];\n",
       "        var s = document.createElement('script');\n",
       "        s.src = url;\n",
       "        s.async = false;\n",
       "        s.onreadystatechange = s.onload = function() {\n",
       "          window._bokeh_is_loading--;\n",
       "          if (window._bokeh_is_loading === 0) {\n",
       "            console.log(\"Bokeh: all BokehJS libraries loaded\");\n",
       "            run_callbacks()\n",
       "          }\n",
       "        };\n",
       "        s.onerror = function() {\n",
       "          console.warn(\"failed to load library \" + url);\n",
       "        };\n",
       "        console.log(\"Bokeh: injecting script tag for BokehJS library: \", url);\n",
       "        document.getElementsByTagName(\"head\")[0].appendChild(s);\n",
       "      }\n",
       "    };var element = document.getElementById(\"aa3b9919-2ab2-4611-9f80-47358cf71071\");\n",
       "    if (element == null) {\n",
       "      console.log(\"Bokeh: ERROR: autoload.js configured with elementid 'aa3b9919-2ab2-4611-9f80-47358cf71071' but no matching script tag was found. \")\n",
       "      return false;\n",
       "    }\n",
       "  \n",
       "    var js_urls = [];\n",
       "  \n",
       "    var inline_js = [\n",
       "      function(Bokeh) {\n",
       "        (function() {\n",
       "          var fn = function() {\n",
       "            var docs_json = {\"e2b3c161-97b5-4c27-8607-2380e8cffbdf\":{\"roots\":{\"references\":[{\"attributes\":{\"plot\":{\"id\":\"93213e8f-3588-410a-a2f1-6312ac497ec2\",\"subtype\":\"Figure\",\"type\":\"Plot\"},\"ticker\":{\"id\":\"6f2c1fe5-d2a4-43f7-90aa-94e26a091474\",\"type\":\"BasicTicker\"}},\"id\":\"822f5df6-ecdd-498b-9307-c53ac1cdc5f9\",\"type\":\"Grid\"},{\"attributes\":{\"formatter\":{\"id\":\"39ba8283-ad41-49cd-80f4-aeaa0e273293\",\"type\":\"BasicTickFormatter\"},\"plot\":{\"id\":\"93213e8f-3588-410a-a2f1-6312ac497ec2\",\"subtype\":\"Figure\",\"type\":\"Plot\"},\"ticker\":{\"id\":\"72ff58e9-1d98-42f5-b6c9-9b4b713f3434\",\"type\":\"BasicTicker\"}},\"id\":\"265b0d6b-68ba-49b4-a1d0-8719975b3632\",\"type\":\"LinearAxis\"},{\"attributes\":{},\"id\":\"6f2c1fe5-d2a4-43f7-90aa-94e26a091474\",\"type\":\"BasicTicker\"},{\"attributes\":{\"callback\":null,\"column_names\":[\"skew\",\"kurtosis\",\"gene\",\"index\"],\"data\":{\"gene\":[\"DYRK1A\",\"ITSN1\",\"BDNF\",\"NR1\",\"NR2A\",\"pAKT\",\"pBRAF\",\"pCAMKII\",\"pCREB\",\"pELK\",\"pERK\",\"pJNK\",\"PKCA\",\"pMEK\",\"pNR1\",\"pNR2A\",\"pNR2B\",\"pPKCAB\",\"pRSK\",\"AKT\",\"BRAF\",\"CAMKII\",\"CREB\",\"ELK\",\"ERK\",\"GSK3B\",\"JNK\",\"MEK\",\"TRKA\",\"RSK\",\"APP\",\"Bcatenin\",\"SOD1\",\"MTOR\",\"P38\",\"pMTOR\",\"DSCR1\",\"AMPKA\",\"NR2B\",\"pNUMB\",\"RAPTOR\",\"TIAM1\",\"pP70S6\",\"NUMB\",\"P70S6\",\"pGSK3B\",\"pPKCG\",\"CDK5\",\"S6\",\"ADARB1\",\"AcetylH3K9\",\"RRP1\",\"BAX\",\"ARC\",\"ERBB4\",\"nNOS\",\"Tau\",\"GFAP\",\"GluR3\",\"GluR4\",\"IL1B\",\"P3525\",\"pCASP9\",\"PSD95\",\"SNCA\",\"Ubiquitin\",\"pGSK3B\",\"SHH\",\"BAD\",\"BCL2\",\"pS6\",\"pCFOS\",\"SYP\",\"H3AcK18\",\"EGR1\",\"H3MeK4\",\"CaNA\"],\"index\":[\"DYRK1A_N\",\"ITSN1_N\",\"BDNF_N\",\"NR1_N\",\"NR2A_N\",\"pAKT_N\",\"pBRAF_N\",\"pCAMKII_N\",\"pCREB_N\",\"pELK_N\",\"pERK_N\",\"pJNK_N\",\"PKCA_N\",\"pMEK_N\",\"pNR1_N\",\"pNR2A_N\",\"pNR2B_N\",\"pPKCAB_N\",\"pRSK_N\",\"AKT_N\",\"BRAF_N\",\"CAMKII_N\",\"CREB_N\",\"ELK_N\",\"ERK_N\",\"GSK3B_N\",\"JNK_N\",\"MEK_N\",\"TRKA_N\",\"RSK_N\",\"APP_N\",\"Bcatenin_N\",\"SOD1_N\",\"MTOR_N\",\"P38_N\",\"pMTOR_N\",\"DSCR1_N\",\"AMPKA_N\",\"NR2B_N\",\"pNUMB_N\",\"RAPTOR_N\",\"TIAM1_N\",\"pP70S6_N\",\"NUMB_N\",\"P70S6_N\",\"pGSK3B_N\",\"pPKCG_N\",\"CDK5_N\",\"S6_N\",\"ADARB1_N\",\"AcetylH3K9_N\",\"RRP1_N\",\"BAX_N\",\"ARC_N\",\"ERBB4_N\",\"nNOS_N\",\"Tau_N\",\"GFAP_N\",\"GluR3_N\",\"GluR4_N\",\"IL1B_N\",\"P3525_N\",\"pCASP9_N\",\"PSD95_N\",\"SNCA_N\",\"Ubiquitin_N\",\"pGSK3B_Tyr216_N\",\"SHH_N\",\"BAD_N\",\"BCL2_N\",\"pS6_N\",\"pCFOS_N\",\"SYP_N\",\"H3AcK18_N\",\"EGR1_N\",\"H3MeK4_N\",\"CaNA_N\"],\"kurtosis\":[27.30254874074468,21.481121631636764,0.3565409059274196,-0.028273219412557005,0.3757645984682725,3.5817837591005954,1.8157898688449485,-0.575421106449352,-0.018896051168415084,25.609646863825105,22.367986034162428,2.0463752855477413,-0.273885835445276,1.0224458552333378,0.48031507326438083,-0.0509328136856384,0.9113253009846214,-0.490081695921444,2.3089520780229202,1.3593251069167849,28.176251274392204,0.8590592944942785,1.2034065637716864,2.5429704918714213,0.3324497089299596,4.275636904656948,3.9721612704061293,0.05598243596941055,0.24459432568474382,1.010143911004751,0.17550881843538635,-0.19572072163538357,1.6830637741145464,0.5363584162674253,1.5872262742446104,2.729472038568338,2.4355342739209744,1.1091506842948604,2.2053302440823304,0.5504084179055315,0.41131223274671314,1.1670176656327103,1.7126866140105994,0.8832837526271349,0.44247319064175583,1.3357219513174092,-0.5040625699030308,35.276894299382,-0.7168660983604846,0.8707506709848216,8.91702122223434,45.89879365995691,1.3936483776230313,-0.384765823839714,0.5715185870392308,0.17151289040244944,4.548578184117332,3.9280510474664965,-0.16247505330035317,62.25375418461748,0.4767660482591336,0.1332172678749557,0.5615301754460487,0.4762086728136783,0.45620936763450937,-0.06982196987742562,0.04428988274599499,1.8582600840599817,1.4644599398137288,3.7321465247389147,-0.384765823839714,2.641764943575982,0.5019504415018998,6.45681827948486,2.6381856744670378,2.094618319272606,-0.7396036251961702],\"skew\":[4.356940427225173,3.62248705249554,0.2757110212368456,0.0546414366601614,0.532517196028961,0.5843128829797711,0.18394165594213852,0.5481448539070382,0.14796752818672865,3.9948797624748447,3.835334987513263,-0.7961493936140018,0.28821142068709055,-0.06155230859467386,0.26537333818086606,0.35018367663234645,-0.16260494773598894,0.6455885439470473,-0.3335724283877344,-0.14017144202493714,4.547660309837139,0.40322917004485564,0.6012986631424103,1.364098538084641,0.6575976968866701,0.9998449703054628,-0.8812137004110142,-0.11325581558528593,-0.4350806868546096,0.6366119147630606,0.22787321860736107,0.32830364418695634,1.3009136327874504,0.005388268507339192,0.829578428519775,-0.7354720050990095,-0.024998908732275442,0.7919703559963931,-0.19774165484086642,0.6725010578735233,0.7923911836661056,0.8551737551460054,0.9003423529646819,0.7448439854042543,0.42195152101858396,0.5424785200697084,0.25023713747158266,2.481155608081696,0.43527538134913807,1.0089939741165088,2.678723880386038,3.9986514107799493,-0.5906399404472326,-0.07770718635945773,-0.030461072291638427,-0.1777659747983486,1.8647219026283997,0.860951572714574,0.31532556197473904,4.732315977345434,0.23551187499407633,0.18365469134428916,0.4583121788131024,-0.45306304699138483,0.5955221130664354,0.1507900003549762,-0.10892799296122589,0.9639874437514208,0.907070798519028,1.415548060703723,-0.07770718635945773,1.1953640463955542,0.13513207354330023,1.9214337879507908,1.2318882266384685,1.1332104698206413,0.1778277596061333]}},\"id\":\"51b6a881-86f2-4fa6-9111-a8860c232bde\",\"type\":\"ColumnDataSource\"},{\"attributes\":{\"callback\":null},\"id\":\"78493824-04ca-4882-86af-23f75754a022\",\"type\":\"DataRange1d\"},{\"attributes\":{\"callback\":null},\"id\":\"8cd16079-498a-4370-9b58-2310b3924103\",\"type\":\"DataRange1d\"},{\"attributes\":{\"plot\":{\"id\":\"93213e8f-3588-410a-a2f1-6312ac497ec2\",\"subtype\":\"Figure\",\"type\":\"Plot\"}},\"id\":\"5549d9d0-8347-4739-a9b4-0080fd2aa9bc\",\"type\":\"SaveTool\"},{\"attributes\":{\"fill_color\":{\"value\":\"#1f77b4\"},\"line_color\":{\"value\":\"#1f77b4\"},\"x\":{\"field\":\"skew\"},\"y\":{\"field\":\"kurtosis\"}},\"id\":\"8aeee4dd-331a-4661-8217-fad7c84765d7\",\"type\":\"X\"},{\"attributes\":{},\"id\":\"39ba8283-ad41-49cd-80f4-aeaa0e273293\",\"type\":\"BasicTickFormatter\"},{\"attributes\":{},\"id\":\"72ff58e9-1d98-42f5-b6c9-9b4b713f3434\",\"type\":\"BasicTicker\"},{\"attributes\":{\"formatter\":{\"id\":\"fe5562f7-5adc-411d-bf53-bdfd7e704816\",\"type\":\"BasicTickFormatter\"},\"plot\":{\"id\":\"93213e8f-3588-410a-a2f1-6312ac497ec2\",\"subtype\":\"Figure\",\"type\":\"Plot\"},\"ticker\":{\"id\":\"6f2c1fe5-d2a4-43f7-90aa-94e26a091474\",\"type\":\"BasicTicker\"}},\"id\":\"755f1f46-75c3-46c3-8ad8-bda8c6f33b0e\",\"type\":\"LinearAxis\"},{\"attributes\":{\"plot\":{\"id\":\"93213e8f-3588-410a-a2f1-6312ac497ec2\",\"subtype\":\"Figure\",\"type\":\"Plot\"}},\"id\":\"38230373-2187-43d0-81ad-03f15fdc4c09\",\"type\":\"ResetTool\"},{\"attributes\":{\"overlay\":{\"id\":\"e54b6941-93ca-4689-85b4-c20cf7d8ca19\",\"type\":\"BoxAnnotation\"},\"plot\":{\"id\":\"93213e8f-3588-410a-a2f1-6312ac497ec2\",\"subtype\":\"Figure\",\"type\":\"Plot\"}},\"id\":\"eeed5d4e-a2e5-4f64-a194-90acbc63b8ea\",\"type\":\"BoxZoomTool\"},{\"attributes\":{\"data_source\":{\"id\":\"51b6a881-86f2-4fa6-9111-a8860c232bde\",\"type\":\"ColumnDataSource\"},\"glyph\":{\"id\":\"8aeee4dd-331a-4661-8217-fad7c84765d7\",\"type\":\"X\"},\"hover_glyph\":null,\"name\":\"main\",\"nonselection_glyph\":{\"id\":\"3f615b2c-b4e7-4ac4-a4d6-e23702bf716b\",\"type\":\"X\"},\"selection_glyph\":null},\"id\":\"ef5d3293-5346-4252-a1ca-a06373d49627\",\"type\":\"GlyphRenderer\"},{\"attributes\":{\"plot\":null,\"text\":\"\"},\"id\":\"26f5066d-d72e-417f-8dd7-ee0282abd545\",\"type\":\"Title\"},{\"attributes\":{\"fill_alpha\":{\"value\":0.1},\"fill_color\":{\"value\":\"#1f77b4\"},\"line_alpha\":{\"value\":0.1},\"line_color\":{\"value\":\"#1f77b4\"},\"x\":{\"field\":\"skew\"},\"y\":{\"field\":\"kurtosis\"}},\"id\":\"3f615b2c-b4e7-4ac4-a4d6-e23702bf716b\",\"type\":\"X\"},{\"attributes\":{\"active_drag\":\"auto\",\"active_scroll\":\"auto\",\"active_tap\":\"auto\",\"tools\":[{\"id\":\"eeed5d4e-a2e5-4f64-a194-90acbc63b8ea\",\"type\":\"BoxZoomTool\"},{\"id\":\"38230373-2187-43d0-81ad-03f15fdc4c09\",\"type\":\"ResetTool\"},{\"id\":\"5549d9d0-8347-4739-a9b4-0080fd2aa9bc\",\"type\":\"SaveTool\"},{\"id\":\"62dd215d-c155-4221-af6b-4aa487c425ff\",\"type\":\"HoverTool\"}]},\"id\":\"3767a865-e6a0-4f81-81f8-1b688697e3bf\",\"type\":\"Toolbar\"},{\"attributes\":{\"below\":[{\"id\":\"755f1f46-75c3-46c3-8ad8-bda8c6f33b0e\",\"type\":\"LinearAxis\"}],\"left\":[{\"id\":\"265b0d6b-68ba-49b4-a1d0-8719975b3632\",\"type\":\"LinearAxis\"}],\"plot_height\":500,\"plot_width\":500,\"renderers\":[{\"id\":\"755f1f46-75c3-46c3-8ad8-bda8c6f33b0e\",\"type\":\"LinearAxis\"},{\"id\":\"822f5df6-ecdd-498b-9307-c53ac1cdc5f9\",\"type\":\"Grid\"},{\"id\":\"265b0d6b-68ba-49b4-a1d0-8719975b3632\",\"type\":\"LinearAxis\"},{\"id\":\"534700f6-2216-45ef-8db9-870b58d2c5f5\",\"type\":\"Grid\"},{\"id\":\"e54b6941-93ca-4689-85b4-c20cf7d8ca19\",\"type\":\"BoxAnnotation\"},{\"id\":\"ef5d3293-5346-4252-a1ca-a06373d49627\",\"type\":\"GlyphRenderer\"}],\"title\":{\"id\":\"26f5066d-d72e-417f-8dd7-ee0282abd545\",\"type\":\"Title\"},\"tool_events\":{\"id\":\"cea64297-f36f-4b0b-8ce8-20103eb74601\",\"type\":\"ToolEvents\"},\"toolbar\":{\"id\":\"3767a865-e6a0-4f81-81f8-1b688697e3bf\",\"type\":\"Toolbar\"},\"x_range\":{\"id\":\"78493824-04ca-4882-86af-23f75754a022\",\"type\":\"DataRange1d\"},\"y_range\":{\"id\":\"8cd16079-498a-4370-9b58-2310b3924103\",\"type\":\"DataRange1d\"}},\"id\":\"93213e8f-3588-410a-a2f1-6312ac497ec2\",\"subtype\":\"Figure\",\"type\":\"Plot\"},{\"attributes\":{},\"id\":\"fe5562f7-5adc-411d-bf53-bdfd7e704816\",\"type\":\"BasicTickFormatter\"},{\"attributes\":{\"bottom_units\":\"screen\",\"fill_alpha\":{\"value\":0.5},\"fill_color\":{\"value\":\"lightgrey\"},\"left_units\":\"screen\",\"level\":\"overlay\",\"line_alpha\":{\"value\":1.0},\"line_color\":{\"value\":\"black\"},\"line_dash\":[4,4],\"line_width\":{\"value\":2},\"plot\":null,\"render_mode\":\"css\",\"right_units\":\"screen\",\"top_units\":\"screen\"},\"id\":\"e54b6941-93ca-4689-85b4-c20cf7d8ca19\",\"type\":\"BoxAnnotation\"},{\"attributes\":{},\"id\":\"cea64297-f36f-4b0b-8ce8-20103eb74601\",\"type\":\"ToolEvents\"},{\"attributes\":{\"callback\":null,\"names\":[\"main\"],\"plot\":{\"id\":\"93213e8f-3588-410a-a2f1-6312ac497ec2\",\"subtype\":\"Figure\",\"type\":\"Plot\"},\"tooltips\":[[\"skew\",\"@skew\"],[\"kurtosis\",\"@kurtosis\"],[\"gene\",\"@gene\"]]},\"id\":\"62dd215d-c155-4221-af6b-4aa487c425ff\",\"type\":\"HoverTool\"},{\"attributes\":{\"dimension\":1,\"plot\":{\"id\":\"93213e8f-3588-410a-a2f1-6312ac497ec2\",\"subtype\":\"Figure\",\"type\":\"Plot\"},\"ticker\":{\"id\":\"72ff58e9-1d98-42f5-b6c9-9b4b713f3434\",\"type\":\"BasicTicker\"}},\"id\":\"534700f6-2216-45ef-8db9-870b58d2c5f5\",\"type\":\"Grid\"}],\"root_ids\":[\"93213e8f-3588-410a-a2f1-6312ac497ec2\"]},\"title\":\"Bokeh Application\",\"version\":\"0.12.4\"}};\n",
       "            var render_items = [{\"docid\":\"e2b3c161-97b5-4c27-8607-2380e8cffbdf\",\"elementid\":\"aa3b9919-2ab2-4611-9f80-47358cf71071\",\"modelid\":\"93213e8f-3588-410a-a2f1-6312ac497ec2\",\"notebook_comms_target\":\"479e8486-14ab-45a5-93c7-98c21dd7d5f8\"}];\n",
       "            \n",
       "            Bokeh.embed.embed_items(docs_json, render_items);\n",
       "          };\n",
       "          if (document.readyState != \"loading\") fn();\n",
       "          else document.addEventListener(\"DOMContentLoaded\", fn);\n",
       "        })();\n",
       "      },\n",
       "      function(Bokeh) {\n",
       "      }\n",
       "    ];\n",
       "  \n",
       "    function run_inline_js() {\n",
       "      \n",
       "      if ((window.Bokeh !== undefined) || (force === true)) {\n",
       "        for (var i = 0; i < inline_js.length; i++) {\n",
       "          inline_js[i](window.Bokeh);\n",
       "        }if (force === true) {\n",
       "          display_loaded();\n",
       "        }} else if (Date.now() < window._bokeh_timeout) {\n",
       "        setTimeout(run_inline_js, 100);\n",
       "      } else if (!window._bokeh_failed_load) {\n",
       "        console.log(\"Bokeh: BokehJS failed to load within specified timeout.\");\n",
       "        window._bokeh_failed_load = true;\n",
       "      } else if (force !== true) {\n",
       "        var cell = $(document.getElementById(\"aa3b9919-2ab2-4611-9f80-47358cf71071\")).parents('.cell').data().cell;\n",
       "        cell.output_area.append_execute_result(NB_LOAD_WARNING)\n",
       "      }\n",
       "  \n",
       "    }\n",
       "  \n",
       "    if (window._bokeh_is_loading === 0) {\n",
       "      console.log(\"Bokeh: BokehJS loaded, going straight to plotting\");\n",
       "      run_inline_js();\n",
       "    } else {\n",
       "      load_libs(js_urls, function() {\n",
       "        console.log(\"Bokeh: BokehJS plotting callback run at\", now());\n",
       "        run_inline_js();\n",
       "      });\n",
       "    }\n",
       "  }(this));\n",
       "</script>"
      ]
     },
     "metadata": {},
     "output_type": "display_data"
    }
   ],
   "source": [
    "output_notebook()\n",
    "\n",
    "skews = df_numeric.apply(lambda x: skew(x))\n",
    "skews.name = \"skew\"\n",
    "kurts = df_numeric.apply(lambda x: kurtosis(x))\n",
    "kurts.name = \"kurtosis\"\n",
    "genes = pd.Series([i.split(\"_\")[0] for i in kurts.index], index=kurts.index, name=\"gene\")\n",
    "sk_df = pd.concat([skews, kurts, genes], axis=1)\n",
    "fig = scatter_with_hover(sk_df, \"skew\", \"kurtosis\")\n",
    "show(fig, notebook_handle=True);"
   ]
  },
  {
   "cell_type": "code",
   "execution_count": 19,
   "metadata": {
    "collapsed": false
   },
   "outputs": [
    {
     "data": {
      "text/html": [
       "<div>\n",
       "<table border=\"1\" class=\"dataframe\">\n",
       "  <thead>\n",
       "    <tr style=\"text-align: right;\">\n",
       "      <th></th>\n",
       "      <th>skew</th>\n",
       "      <th>kurtosis</th>\n",
       "    </tr>\n",
       "  </thead>\n",
       "  <tbody>\n",
       "    <tr>\n",
       "      <th>DYRK1A_N</th>\n",
       "      <td>4.356940</td>\n",
       "      <td>27.302549</td>\n",
       "    </tr>\n",
       "    <tr>\n",
       "      <th>ITSN1_N</th>\n",
       "      <td>3.622487</td>\n",
       "      <td>21.481122</td>\n",
       "    </tr>\n",
       "    <tr>\n",
       "      <th>pAKT_N</th>\n",
       "      <td>0.584313</td>\n",
       "      <td>3.581784</td>\n",
       "    </tr>\n",
       "    <tr>\n",
       "      <th>pELK_N</th>\n",
       "      <td>3.994880</td>\n",
       "      <td>25.609647</td>\n",
       "    </tr>\n",
       "    <tr>\n",
       "      <th>pERK_N</th>\n",
       "      <td>3.835335</td>\n",
       "      <td>22.367986</td>\n",
       "    </tr>\n",
       "    <tr>\n",
       "      <th>BRAF_N</th>\n",
       "      <td>4.547660</td>\n",
       "      <td>28.176251</td>\n",
       "    </tr>\n",
       "    <tr>\n",
       "      <th>ELK_N</th>\n",
       "      <td>1.364099</td>\n",
       "      <td>2.542970</td>\n",
       "    </tr>\n",
       "    <tr>\n",
       "      <th>GSK3B_N</th>\n",
       "      <td>0.999845</td>\n",
       "      <td>4.275637</td>\n",
       "    </tr>\n",
       "    <tr>\n",
       "      <th>JNK_N</th>\n",
       "      <td>-0.881214</td>\n",
       "      <td>3.972161</td>\n",
       "    </tr>\n",
       "    <tr>\n",
       "      <th>SOD1_N</th>\n",
       "      <td>1.300914</td>\n",
       "      <td>1.683064</td>\n",
       "    </tr>\n",
       "    <tr>\n",
       "      <th>pMTOR_N</th>\n",
       "      <td>-0.735472</td>\n",
       "      <td>2.729472</td>\n",
       "    </tr>\n",
       "    <tr>\n",
       "      <th>CDK5_N</th>\n",
       "      <td>2.481156</td>\n",
       "      <td>35.276894</td>\n",
       "    </tr>\n",
       "    <tr>\n",
       "      <th>AcetylH3K9_N</th>\n",
       "      <td>2.678724</td>\n",
       "      <td>8.917021</td>\n",
       "    </tr>\n",
       "    <tr>\n",
       "      <th>RRP1_N</th>\n",
       "      <td>3.998651</td>\n",
       "      <td>45.898794</td>\n",
       "    </tr>\n",
       "    <tr>\n",
       "      <th>Tau_N</th>\n",
       "      <td>1.864722</td>\n",
       "      <td>4.548578</td>\n",
       "    </tr>\n",
       "    <tr>\n",
       "      <th>GFAP_N</th>\n",
       "      <td>0.860952</td>\n",
       "      <td>3.928051</td>\n",
       "    </tr>\n",
       "    <tr>\n",
       "      <th>GluR4_N</th>\n",
       "      <td>4.732316</td>\n",
       "      <td>62.253754</td>\n",
       "    </tr>\n",
       "    <tr>\n",
       "      <th>BCL2_N</th>\n",
       "      <td>1.415548</td>\n",
       "      <td>3.732147</td>\n",
       "    </tr>\n",
       "    <tr>\n",
       "      <th>pCFOS_N</th>\n",
       "      <td>1.195364</td>\n",
       "      <td>2.641765</td>\n",
       "    </tr>\n",
       "    <tr>\n",
       "      <th>H3AcK18_N</th>\n",
       "      <td>1.921434</td>\n",
       "      <td>6.456818</td>\n",
       "    </tr>\n",
       "    <tr>\n",
       "      <th>EGR1_N</th>\n",
       "      <td>1.231888</td>\n",
       "      <td>2.638186</td>\n",
       "    </tr>\n",
       "    <tr>\n",
       "      <th>H3MeK4_N</th>\n",
       "      <td>1.133210</td>\n",
       "      <td>2.094618</td>\n",
       "    </tr>\n",
       "  </tbody>\n",
       "</table>\n",
       "</div>"
      ],
      "text/plain": [
       "                  skew   kurtosis\n",
       "DYRK1A_N      4.356940  27.302549\n",
       "ITSN1_N       3.622487  21.481122\n",
       "pAKT_N        0.584313   3.581784\n",
       "pELK_N        3.994880  25.609647\n",
       "pERK_N        3.835335  22.367986\n",
       "BRAF_N        4.547660  28.176251\n",
       "ELK_N         1.364099   2.542970\n",
       "GSK3B_N       0.999845   4.275637\n",
       "JNK_N        -0.881214   3.972161\n",
       "SOD1_N        1.300914   1.683064\n",
       "pMTOR_N      -0.735472   2.729472\n",
       "CDK5_N        2.481156  35.276894\n",
       "AcetylH3K9_N  2.678724   8.917021\n",
       "RRP1_N        3.998651  45.898794\n",
       "Tau_N         1.864722   4.548578\n",
       "GFAP_N        0.860952   3.928051\n",
       "GluR4_N       4.732316  62.253754\n",
       "BCL2_N        1.415548   3.732147\n",
       "pCFOS_N       1.195364   2.641765\n",
       "H3AcK18_N     1.921434   6.456818\n",
       "EGR1_N        1.231888   2.638186\n",
       "H3MeK4_N      1.133210   2.094618"
      ]
     },
     "execution_count": 19,
     "metadata": {},
     "output_type": "execute_result"
    }
   ],
   "source": [
    "high_skew_kurt = sk_df.loc[((skews * kurts).abs() >= 2),[\"skew\", \"kurtosis\"]]\n",
    "high_skew_kurt"
   ]
  },
  {
   "cell_type": "code",
   "execution_count": 20,
   "metadata": {
    "collapsed": false,
    "hideCode": false,
    "hidePrompt": false
   },
   "outputs": [
    {
     "ename": "ModuleNotFoundError",
     "evalue": "No module named 'hdbscan'",
     "output_type": "error",
     "traceback": [
      "\u001b[0;31m---------------------------------------------------------------------------\u001b[0m",
      "\u001b[0;31mModuleNotFoundError\u001b[0m                       Traceback (most recent call last)",
      "\u001b[0;32m<ipython-input-20-983ad4b6f75e>\u001b[0m in \u001b[0;36m<module>\u001b[0;34m()\u001b[0m\n\u001b[0;32m----> 1\u001b[0;31m \u001b[0;32mimport\u001b[0m \u001b[0mhdbscan\u001b[0m\u001b[0;34m\u001b[0m\u001b[0m\n\u001b[0m\u001b[1;32m      2\u001b[0m \u001b[0;34m\u001b[0m\u001b[0m\n\u001b[1;32m      3\u001b[0m \u001b[0mfit\u001b[0m \u001b[0;34m=\u001b[0m \u001b[0mhdbscan\u001b[0m\u001b[0;34m.\u001b[0m\u001b[0mHDBSCAN\u001b[0m\u001b[0;34m(\u001b[0m\u001b[0mmin_cluster_size\u001b[0m\u001b[0;34m=\u001b[0m\u001b[0;36m12\u001b[0m\u001b[0;34m)\u001b[0m\u001b[0;34m.\u001b[0m\u001b[0mfit\u001b[0m\u001b[0;34m(\u001b[0m\u001b[0mecdf_normalized_df\u001b[0m\u001b[0;34m)\u001b[0m\u001b[0;34m\u001b[0m\u001b[0m\n\u001b[1;32m      4\u001b[0m \u001b[0mbase_sample_clusters\u001b[0m \u001b[0;34m=\u001b[0m \u001b[0mpd\u001b[0m\u001b[0;34m.\u001b[0m\u001b[0mSeries\u001b[0m\u001b[0;34m(\u001b[0m\u001b[0mfit\u001b[0m\u001b[0;34m.\u001b[0m\u001b[0mlabels_\u001b[0m\u001b[0;34m,\u001b[0m \u001b[0mindex\u001b[0m\u001b[0;34m=\u001b[0m\u001b[0mecdf_normalized_df\u001b[0m\u001b[0;34m.\u001b[0m\u001b[0mindex\u001b[0m\u001b[0;34m)\u001b[0m\u001b[0;34m\u001b[0m\u001b[0m\n",
      "\u001b[0;31mModuleNotFoundError\u001b[0m: No module named 'hdbscan'"
     ]
    }
   ],
   "source": [
    "fit = hdbscan.HDBSCAN(min_cluster_size=12).fit(ecdf_normalized_df)\n",
    "base_sample_clusters = pd.Series(fit.labels_, index=ecdf_normalized_df.index)"
   ]
  },
  {
   "cell_type": "code",
   "execution_count": 21,
   "metadata": {
    "collapsed": false,
    "hideCode": false,
    "hidePrompt": false,
    "scrolled": true
   },
   "outputs": [
    {
     "ename": "NameError",
     "evalue": "name 'base_sample_clusters' is not defined",
     "output_type": "error",
     "traceback": [
      "\u001b[0;31m---------------------------------------------------------------------------\u001b[0m",
      "\u001b[0;31mNameError\u001b[0m                                 Traceback (most recent call last)",
      "\u001b[0;32m<ipython-input-21-504f77867e00>\u001b[0m in \u001b[0;36m<module>\u001b[0;34m()\u001b[0m\n\u001b[1;32m     17\u001b[0m         \u001b[0max\u001b[0m\u001b[0;34m.\u001b[0m\u001b[0mannotate\u001b[0m\u001b[0;34m(\u001b[0m\u001b[0mstr\u001b[0m\u001b[0;34m(\u001b[0m\u001b[0mv\u001b[0m\u001b[0;34m)\u001b[0m\u001b[0;34m,\u001b[0m \u001b[0moffset\u001b[0m\u001b[0;34m(\u001b[0m\u001b[0mk\u001b[0m\u001b[0;34m,\u001b[0m \u001b[0mv\u001b[0m\u001b[0;34m)\u001b[0m\u001b[0;34m)\u001b[0m\u001b[0;34m\u001b[0m\u001b[0m\n\u001b[1;32m     18\u001b[0m \u001b[0;34m\u001b[0m\u001b[0m\n\u001b[0;32m---> 19\u001b[0;31m \u001b[0mcounter_histogram\u001b[0m\u001b[0;34m(\u001b[0m\u001b[0mbase_sample_clusters\u001b[0m\u001b[0;34m)\u001b[0m\u001b[0;34m\u001b[0m\u001b[0m\n\u001b[0m",
      "\u001b[0;31mNameError\u001b[0m: name 'base_sample_clusters' is not defined"
     ]
    }
   ],
   "source": [
    "def counter_histogram(labels):\n",
    "    counts = Counter(labels)\n",
    "    fig, ax = plt.subplots()\n",
    "    int_keys = [int(k) for k in counts.keys()]\n",
    "    ax.bar(int_keys, list(counts.values()), color=bar_color)\n",
    "    ax.set_xticks(sorted(int_keys))\n",
    "    \n",
    "    k_range = max(counts.keys()) - min(counts.keys())\n",
    "    max_v = max(counts.values())\n",
    "    \n",
    "    def offset(k, v):\n",
    "        return (k - k_range * 0.0125, v + max_v * 0.01)\n",
    "    \n",
    "    for (k, v) in counts.items():\n",
    "        ax.annotate(str(v), offset(k, v))\n",
    "    \n",
    "counter_histogram(base_sample_clusters)"
   ]
  },
  {
   "cell_type": "markdown",
   "metadata": {},
   "source": [
    "Note that the initial clustering results are fairly poor.  This is because each sample has a very large number of dimensions that vary independently.  As a result, points tend towards a common average distance, with poorly defined clusters.  We need to reduce the number of genes used in cluster analysis to improve results.\n",
    "\n",
    "We already have some gene selection criteria in the form of coefficient of variance and divergence from normality.  In addition to this, we're going to cluster the genes, and include any that are part of a distinct cluster."
   ]
  },
  {
   "cell_type": "code",
   "execution_count": 240,
   "metadata": {
    "collapsed": true
   },
   "outputs": [],
   "source": [
    "def reorder_rows(fit, df):\n",
    "    clusters = fit.single_linkage_tree_.to_networkx()\n",
    "    leaf_nodes = set([n for n in clusters.nodes()\n",
    "                      if clusters.in_degree(n) != 0  and clusters.out_degree(n) == 0])\n",
    "    index_order = {i: v for i, v in enumerate(df.index)}\n",
    "    rows = [index_order[int(c)] for c in nx.topological_sort(clusters) if c in leaf_nodes]\n",
    "    return df.loc[rows]\n",
    "\n",
    "clustered_df = ecdf_normalized_df.assign(cluster=base_sample_clusters)\n",
    "sorted_df = reorder_rows(fit, clustered_df).sort_values(\"cluster\")\n",
    "transpose_df = sorted_df.drop(\"cluster\", 1).transpose()\n",
    "\n",
    "t_fit = hdbscan.HDBSCAN(min_cluster_size=5).fit(transpose_df)\n",
    "\n",
    "dimension_clusters = pd.Series(t_fit.labels_, index=transpose_df.index)\n",
    "\n",
    "t_clustered_df = transpose_df.assign(cluster=dimension_clusters)\n",
    "t_sorted_df = reorder_rows(t_fit, t_clustered_df).sort_values(\"cluster\")\n",
    "\n",
    "clustered_only = t_sorted_df[t_sorted_df[\"cluster\"] >= 0]"
   ]
  },
  {
   "cell_type": "code",
   "execution_count": 241,
   "metadata": {
    "collapsed": false
   },
   "outputs": [
    {
     "data": {
      "image/png": "[encoded data removed]",
      "text/plain": [
       "<matplotlib.figure.Figure at 0x7f631186f8d0>"
      ]
     },
     "metadata": {},
     "output_type": "display_data"
    }
   ],
   "source": [
    "counter_histogram(dimension_clusters)"
   ]
  },
  {
   "cell_type": "code",
   "execution_count": 242,
   "metadata": {
    "collapsed": false
   },
   "outputs": [
    {
     "data": {
      "image/png": "[encoded data removed]",
      "text/plain": [
       "<matplotlib.figure.Figure at 0x7f6322c59358>"
      ]
     },
     "metadata": {},
     "output_type": "display_data"
    }
   ],
   "source": [
    "interesting_genes = list(set(high_anderson.index) | set(high_cova.index) | set(high_skew_kurt.index) |\n",
    "                         set(clustered_only.index))\n",
    "interesting_df = ecdf_normalized_df[interesting_genes]\n",
    "fit = hdbscan.HDBSCAN(min_cluster_size=12).fit(interesting_df)\n",
    "interesting_sample_clusters = pd.Series(fit.labels_, index=interesting_df.index)\n",
    "\n",
    "counter_histogram(interesting_sample_clusters)"
   ]
  },
  {
   "cell_type": "markdown",
   "metadata": {},
   "source": [
    "Unfortunately, manually selecting variables didn't seem to help that much.  The next step is to try dimensionality reduction."
   ]
  },
  {
   "cell_type": "code",
   "execution_count": 243,
   "metadata": {
    "collapsed": false
   },
   "outputs": [
    {
     "data": {
      "image/png": "[encoded data removed]",
      "text/plain": [
       "<matplotlib.figure.Figure at 0x7f631147c7f0>"
      ]
     },
     "metadata": {},
     "output_type": "display_data"
    }
   ],
   "source": [
    "ic = FastICA(n_components=12)\n",
    "reduced_df = pd.DataFrame(ic.fit_transform(ecdf_normalized_df), index=ecdf_normalized_df)\n",
    "\n",
    "fit = hdbscan.HDBSCAN(min_cluster_size=12).fit(reduced_df)\n",
    "reduced_sample_clusters = pd.Series(fit.labels_, index=interesting_df.index)\n",
    "\n",
    "counter_histogram(reduced_sample_clusters)"
   ]
  },
  {
   "cell_type": "markdown",
   "metadata": {},
   "source": [
    "Unfortunately, even performing dimensionality reduction didn't seem to break up that large unclustered set.  The best bet in this case is to stick with the baseline clustering, since it clusters the most samples with the fewest small clusters."
   ]
  },
  {
   "cell_type": "code",
   "execution_count": 43,
   "metadata": {
    "collapsed": false
   },
   "outputs": [
    {
     "ename": "NameError",
     "evalue": "name 'clustered_df' is not defined",
     "output_type": "error",
     "traceback": [
      "\u001b[0;31m---------------------------------------------------------------------------\u001b[0m",
      "\u001b[0;31mNameError\u001b[0m                                 Traceback (most recent call last)",
      "\u001b[0;32m<ipython-input-43-abba55957a4a>\u001b[0m in \u001b[0;36m<module>\u001b[0;34m()\u001b[0m\n\u001b[0;32m----> 1\u001b[0;31m \u001b[0mdf_clustered\u001b[0m \u001b[0;34m=\u001b[0m \u001b[0mclustered_df\u001b[0m\u001b[0;34m[\u001b[0m\u001b[0;34m\"cluster\"\u001b[0m\u001b[0;34m]\u001b[0m \u001b[0;34m>=\u001b[0m \u001b[0;36m0\u001b[0m\u001b[0;34m\u001b[0m\u001b[0m\n\u001b[0m\u001b[1;32m      2\u001b[0m \u001b[0msorted_clustered\u001b[0m \u001b[0;34m=\u001b[0m \u001b[0msorted_df\u001b[0m\u001b[0;34m[\u001b[0m\u001b[0;34m\"cluster\"\u001b[0m\u001b[0;34m]\u001b[0m \u001b[0;34m>=\u001b[0m \u001b[0;36m0\u001b[0m\u001b[0;34m\u001b[0m\u001b[0m\n\u001b[1;32m      3\u001b[0m \u001b[0mcols\u001b[0m \u001b[0;34m=\u001b[0m \u001b[0;34m[\u001b[0m\u001b[0;34m\"Genotype\"\u001b[0m\u001b[0;34m,\u001b[0m \u001b[0;34m\"Treatment\"\u001b[0m\u001b[0;34m,\u001b[0m \u001b[0;34m\"Behavior\"\u001b[0m\u001b[0;34m]\u001b[0m\u001b[0;34m\u001b[0m\u001b[0m\n\u001b[1;32m      4\u001b[0m \u001b[0min_cluster\u001b[0m \u001b[0;34m=\u001b[0m \u001b[0mdf\u001b[0m\u001b[0;34m[\u001b[0m\u001b[0mdf_clustered\u001b[0m\u001b[0;34m]\u001b[0m\u001b[0;34m\u001b[0m\u001b[0m\n\u001b[1;32m      5\u001b[0m \u001b[0mcluster_conditions\u001b[0m \u001b[0;34m=\u001b[0m \u001b[0msorted_df\u001b[0m\u001b[0;34m[\u001b[0m\u001b[0msorted_clustered\u001b[0m\u001b[0;34m]\u001b[0m\u001b[0;34m.\u001b[0m\u001b[0mloc\u001b[0m\u001b[0;34m[\u001b[0m\u001b[0;34m:\u001b[0m\u001b[0;34m,\u001b[0m \u001b[0;34m[\u001b[0m\u001b[0;34m\"cluster\"\u001b[0m\u001b[0;34m]\u001b[0m\u001b[0;34m]\u001b[0m\u001b[0;34m\u001b[0m\u001b[0m\n",
      "\u001b[0;31mNameError\u001b[0m: name 'clustered_df' is not defined"
     ]
    }
   ],
   "source": [
    "df_clustered = clustered_df[\"cluster\"] >= 0\n",
    "sorted_clustered = sorted_df[\"cluster\"] >= 0\n",
    "cols = [\"Genotype\", \"Treatment\", \"Behavior\"]\n",
    "in_cluster = df[df_clustered]\n",
    "cluster_conditions = sorted_df[sorted_clustered].loc[:, [\"cluster\"]]\n",
    "cluster_conditions = cluster_conditions.join(in_cluster[cols])\n",
    "\n",
    "group_cluster = cluster_conditions.groupby(\"cluster\")\n",
    "\n",
    "behavior_counts = [pd.Series(group[\"Behavior\"].value_counts(), name=\"Cluster %s\" % idx) \n",
    "                   for (idx, group) in group_cluster]\n",
    "behavior_counts = pd.DataFrame(behavior_counts).fillna(0)\n",
    "\n",
    "def count_mice(group):\n",
    "    return len(set(i.split(\"_\")[0] for i in group.index))\n",
    "\n",
    "mouse_counts = [count_mice(group) for (idx, group) in group_cluster]\n",
    "mice = pd.Series(mouse_counts, name=\"mice\", index=behavior_counts.index)\n",
    "behavior_counts.join(mice)"
   ]
  },
  {
   "cell_type": "markdown",
   "metadata": {},
   "source": [
    "That separation of condition by cluster appears pretty good.  The next step is to dig deeper into the cluster category structure."
   ]
  },
  {
   "cell_type": "code",
   "execution_count": 245,
   "metadata": {
    "collapsed": false,
    "hideCode": false,
    "hidePrompt": false
   },
   "outputs": [
    {
     "data": {
      "image/png": "[encoded data removed]",
      "text/plain": [
       "<matplotlib.figure.Figure at 0x7f6322a2d208>"
      ]
     },
     "metadata": {},
     "output_type": "display_data"
    }
   ],
   "source": [
    "group_cluster_behavior = cluster_conditions.groupby([\"cluster\",\"Behavior\"])\n",
    "\n",
    "fig, axes = plt.subplots(3, 3)\n",
    "\n",
    "colors = [\"#75968f\", \"#a5bab7\", \"#c9d9d3\", \"#e2e2e2\", \"#dfccce\", \"#ddb7b1\", \"#cc7878\", \"#933b41\", \"#550b1d\"]\n",
    "my_cmap = ListedColormap(colors, name='my_name')\n",
    "\n",
    "for g, a in zip_longest(group_cluster_behavior, axes.flatten()):\n",
    "    if g is None:\n",
    "        a.axis(\"off\")\n",
    "        break\n",
    "    ((idx, cond), group) = g\n",
    "    x = [1 if l == \"Ts65Dn\" else 0 for l in group[\"Genotype\"]]\n",
    "    y = [1 if l == \"Memantine\" else 0 for l in group[\"Treatment\"]]\n",
    "    res = a.hist2d(x, y, bins=2, range=[[0, 1], [0, 1]], normed=True, cmap=my_cmap)[3]\n",
    "    a.set_title(\"Cluster %s, Behavior %s\" % (idx, cond))\n",
    "    a.set_xticklabels([\"Control\", \"Ts65Dn\"])\n",
    "    a.set_xticks([0.25, 0.75])\n",
    "    a.set_yticklabels([\"Saline\", \"Memantine\"])\n",
    "    a.set_yticks([0.25, 0.75])\n",
    "    a.set_xlim(0, 1)\n",
    "    a.set_ylim(0, 1)\n",
    "\n",
    "fig.subplots_adjust(wspace=0.5, hspace=0.5)\n",
    "cbar_ax = fig.add_axes([1, 0.15, 0.05, 0.7])\n",
    "fig.colorbar(res, cax=cbar_ax);"
   ]
  },
  {
   "cell_type": "code",
   "execution_count": 235,
   "metadata": {
    "collapsed": false
   },
   "outputs": [
    {
     "data": {
      "image/png": "[encoded data removed]",
      "text/plain": [
       "<matplotlib.figure.Figure at 0x7f63129f5e48>"
      ]
     },
     "metadata": {},
     "output_type": "display_data"
    }
   ],
   "source": [
    "def diff_genes(df):\n",
    "    return df.apply(lambda x: x.mean() - 0.5).sort_values()\n",
    "\n",
    "clusters = list(range(base_sample_clusters.max() + 1))\n",
    "diffs = [diff_genes(sorted_df.filter(like=\"_N\", axis=1)[sorted_df[\"cluster\"] == i]) for i in clusters]\n",
    "\n",
    "titles = [\"Cluster %s\" % c for c in clusters]\n",
    "plot_histogram(*diffs, title=titles)"
   ]
  },
  {
   "cell_type": "markdown",
   "metadata": {},
   "source": [
    "# Identifying significant variables\n",
    "\n",
    "In order to determine how significant a variable is to overall cluster assignment, we can look at the differences between the cluster mean percentiles and overall mean percentiles.  The larger the difference, the more significant.  If we do this for all variables and put the results in a vector, the norm of that vector represents a measure of a variable's clustering importance.  We can use that measure to rank and filter variables."
   ]
  },
  {
   "cell_type": "code",
   "execution_count": 23,
   "metadata": {
    "collapsed": false
   },
   "outputs": [
    {
     "data": {
      "text/html": [
       "<div>\n",
       "<style>\n",
       "    .dataframe thead tr:only-child th {\n",
       "        text-align: right;\n",
       "    }\n",
       "\n",
       "    .dataframe thead th {\n",
       "        text-align: left;\n",
       "    }\n",
       "\n",
       "    .dataframe tbody tr th {\n",
       "        vertical-align: top;\n",
       "    }\n",
       "</style>\n",
       "<table border=\"1\" class=\"dataframe\">\n",
       "  <thead>\n",
       "    <tr style=\"text-align: right;\">\n",
       "      <th></th>\n",
       "      <th>0</th>\n",
       "      <th>1</th>\n",
       "      <th>2</th>\n",
       "      <th>3</th>\n",
       "      <th>4</th>\n",
       "      <th>5</th>\n",
       "      <th>6</th>\n",
       "      <th>7</th>\n",
       "      <th>norm</th>\n",
       "    </tr>\n",
       "  </thead>\n",
       "  <tbody>\n",
       "    <tr>\n",
       "      <th>pERK_N</th>\n",
       "      <td>0.013750</td>\n",
       "      <td>0.346605</td>\n",
       "      <td>-0.197634</td>\n",
       "      <td>-0.425866</td>\n",
       "      <td>0.422792</td>\n",
       "      <td>0.373965</td>\n",
       "      <td>0.330108</td>\n",
       "      <td>-0.154671</td>\n",
       "      <td>0.890080</td>\n",
       "    </tr>\n",
       "    <tr>\n",
       "      <th>SYP_N</th>\n",
       "      <td>-0.188009</td>\n",
       "      <td>0.438801</td>\n",
       "      <td>-0.299846</td>\n",
       "      <td>-0.291184</td>\n",
       "      <td>-0.395798</td>\n",
       "      <td>-0.230937</td>\n",
       "      <td>0.274701</td>\n",
       "      <td>0.159514</td>\n",
       "      <td>0.844679</td>\n",
       "    </tr>\n",
       "    <tr>\n",
       "      <th>pELK_N</th>\n",
       "      <td>-0.281157</td>\n",
       "      <td>0.351190</td>\n",
       "      <td>-0.063735</td>\n",
       "      <td>-0.443418</td>\n",
       "      <td>0.365527</td>\n",
       "      <td>0.349074</td>\n",
       "      <td>0.232885</td>\n",
       "      <td>-0.018997</td>\n",
       "      <td>0.844467</td>\n",
       "    </tr>\n",
       "    <tr>\n",
       "      <th>BRAF_N</th>\n",
       "      <td>-0.146296</td>\n",
       "      <td>0.264021</td>\n",
       "      <td>-0.195010</td>\n",
       "      <td>-0.387782</td>\n",
       "      <td>0.394516</td>\n",
       "      <td>0.406536</td>\n",
       "      <td>0.302210</td>\n",
       "      <td>-0.128922</td>\n",
       "      <td>0.841653</td>\n",
       "    </tr>\n",
       "    <tr>\n",
       "      <th>H3AcK18_N</th>\n",
       "      <td>-0.328056</td>\n",
       "      <td>-0.199824</td>\n",
       "      <td>-0.223148</td>\n",
       "      <td>0.309138</td>\n",
       "      <td>-0.408547</td>\n",
       "      <td>-0.404085</td>\n",
       "      <td>-0.281691</td>\n",
       "      <td>-0.034072</td>\n",
       "      <td>0.838819</td>\n",
       "    </tr>\n",
       "    <tr>\n",
       "      <th>CaNA_N</th>\n",
       "      <td>0.237361</td>\n",
       "      <td>0.317284</td>\n",
       "      <td>-0.400797</td>\n",
       "      <td>-0.111977</td>\n",
       "      <td>0.205698</td>\n",
       "      <td>0.424020</td>\n",
       "      <td>0.341338</td>\n",
       "      <td>-0.175650</td>\n",
       "      <td>0.836454</td>\n",
       "    </tr>\n",
       "    <tr>\n",
       "      <th>DYRK1A_N</th>\n",
       "      <td>-0.096806</td>\n",
       "      <td>0.276587</td>\n",
       "      <td>-0.117130</td>\n",
       "      <td>-0.337158</td>\n",
       "      <td>0.417165</td>\n",
       "      <td>0.407571</td>\n",
       "      <td>0.329271</td>\n",
       "      <td>-0.139414</td>\n",
       "      <td>0.825387</td>\n",
       "    </tr>\n",
       "    <tr>\n",
       "      <th>GSK3B_N</th>\n",
       "      <td>0.063380</td>\n",
       "      <td>0.385362</td>\n",
       "      <td>-0.241384</td>\n",
       "      <td>-0.315781</td>\n",
       "      <td>0.119302</td>\n",
       "      <td>0.411329</td>\n",
       "      <td>0.411918</td>\n",
       "      <td>-0.008828</td>\n",
       "      <td>0.814667</td>\n",
       "    </tr>\n",
       "    <tr>\n",
       "      <th>ITSN1_N</th>\n",
       "      <td>-0.146528</td>\n",
       "      <td>0.297928</td>\n",
       "      <td>-0.130376</td>\n",
       "      <td>-0.289795</td>\n",
       "      <td>0.385399</td>\n",
       "      <td>0.405392</td>\n",
       "      <td>0.363978</td>\n",
       "      <td>-0.074506</td>\n",
       "      <td>0.813705</td>\n",
       "    </tr>\n",
       "    <tr>\n",
       "      <th>H3MeK4_N</th>\n",
       "      <td>-0.385880</td>\n",
       "      <td>0.182407</td>\n",
       "      <td>-0.170190</td>\n",
       "      <td>0.287762</td>\n",
       "      <td>-0.321083</td>\n",
       "      <td>-0.386383</td>\n",
       "      <td>-0.320341</td>\n",
       "      <td>0.077715</td>\n",
       "      <td>0.809315</td>\n",
       "    </tr>\n",
       "    <tr>\n",
       "      <th>pJNK_N</th>\n",
       "      <td>-0.410417</td>\n",
       "      <td>0.199383</td>\n",
       "      <td>-0.237191</td>\n",
       "      <td>-0.298188</td>\n",
       "      <td>-0.341738</td>\n",
       "      <td>-0.267865</td>\n",
       "      <td>0.137336</td>\n",
       "      <td>0.258234</td>\n",
       "      <td>0.792120</td>\n",
       "    </tr>\n",
       "    <tr>\n",
       "      <th>ADARB1_N</th>\n",
       "      <td>0.194491</td>\n",
       "      <td>0.429453</td>\n",
       "      <td>-0.216178</td>\n",
       "      <td>-0.353100</td>\n",
       "      <td>-0.175142</td>\n",
       "      <td>-0.205719</td>\n",
       "      <td>0.393847</td>\n",
       "      <td>0.072488</td>\n",
       "      <td>0.791855</td>\n",
       "    </tr>\n",
       "    <tr>\n",
       "      <th>TRKA_N</th>\n",
       "      <td>-0.195694</td>\n",
       "      <td>0.360097</td>\n",
       "      <td>-0.357176</td>\n",
       "      <td>-0.251630</td>\n",
       "      <td>-0.223789</td>\n",
       "      <td>0.198584</td>\n",
       "      <td>0.379241</td>\n",
       "      <td>0.165522</td>\n",
       "      <td>0.787145</td>\n",
       "    </tr>\n",
       "    <tr>\n",
       "      <th>pPKCG_N</th>\n",
       "      <td>0.210231</td>\n",
       "      <td>-0.443871</td>\n",
       "      <td>-0.255761</td>\n",
       "      <td>0.242754</td>\n",
       "      <td>-0.420798</td>\n",
       "      <td>0.011983</td>\n",
       "      <td>0.188650</td>\n",
       "      <td>-0.023481</td>\n",
       "      <td>0.760866</td>\n",
       "    </tr>\n",
       "    <tr>\n",
       "      <th>PKCA_N</th>\n",
       "      <td>0.141898</td>\n",
       "      <td>0.200661</td>\n",
       "      <td>-0.331790</td>\n",
       "      <td>-0.357951</td>\n",
       "      <td>-0.393376</td>\n",
       "      <td>0.128540</td>\n",
       "      <td>0.323208</td>\n",
       "      <td>0.006263</td>\n",
       "      <td>0.757881</td>\n",
       "    </tr>\n",
       "    <tr>\n",
       "      <th>JNK_N</th>\n",
       "      <td>-0.358148</td>\n",
       "      <td>0.316534</td>\n",
       "      <td>-0.335442</td>\n",
       "      <td>-0.285990</td>\n",
       "      <td>-0.276781</td>\n",
       "      <td>0.145861</td>\n",
       "      <td>0.183751</td>\n",
       "      <td>0.137739</td>\n",
       "      <td>0.757229</td>\n",
       "    </tr>\n",
       "    <tr>\n",
       "      <th>BDNF_N</th>\n",
       "      <td>-0.133148</td>\n",
       "      <td>0.391975</td>\n",
       "      <td>-0.275489</td>\n",
       "      <td>-0.318196</td>\n",
       "      <td>-0.291239</td>\n",
       "      <td>0.149346</td>\n",
       "      <td>0.321625</td>\n",
       "      <td>0.091303</td>\n",
       "      <td>0.753272</td>\n",
       "    </tr>\n",
       "    <tr>\n",
       "      <th>P38_N</th>\n",
       "      <td>-0.161065</td>\n",
       "      <td>0.062831</td>\n",
       "      <td>0.377135</td>\n",
       "      <td>-0.099899</td>\n",
       "      <td>-0.363105</td>\n",
       "      <td>-0.416939</td>\n",
       "      <td>-0.174612</td>\n",
       "      <td>0.219600</td>\n",
       "      <td>0.752660</td>\n",
       "    </tr>\n",
       "    <tr>\n",
       "      <th>SOD1_N</th>\n",
       "      <td>-0.389306</td>\n",
       "      <td>-0.116446</td>\n",
       "      <td>0.203987</td>\n",
       "      <td>0.238808</td>\n",
       "      <td>-0.378063</td>\n",
       "      <td>-0.248312</td>\n",
       "      <td>-0.154271</td>\n",
       "      <td>0.259306</td>\n",
       "      <td>0.747922</td>\n",
       "    </tr>\n",
       "    <tr>\n",
       "      <th>MTOR_N</th>\n",
       "      <td>-0.106157</td>\n",
       "      <td>0.396340</td>\n",
       "      <td>0.286548</td>\n",
       "      <td>-0.270209</td>\n",
       "      <td>-0.292735</td>\n",
       "      <td>-0.338725</td>\n",
       "      <td>0.010633</td>\n",
       "      <td>0.178553</td>\n",
       "      <td>0.745588</td>\n",
       "    </tr>\n",
       "  </tbody>\n",
       "</table>\n",
       "</div>"
      ],
      "text/plain": [
       "                  0         1         2         3         4         5  \\\n",
       "pERK_N     0.013750  0.346605 -0.197634 -0.425866  0.422792  0.373965   \n",
       "SYP_N     -0.188009  0.438801 -0.299846 -0.291184 -0.395798 -0.230937   \n",
       "pELK_N    -0.281157  0.351190 -0.063735 -0.443418  0.365527  0.349074   \n",
       "BRAF_N    -0.146296  0.264021 -0.195010 -0.387782  0.394516  0.406536   \n",
       "H3AcK18_N -0.328056 -0.199824 -0.223148  0.309138 -0.408547 -0.404085   \n",
       "CaNA_N     0.237361  0.317284 -0.400797 -0.111977  0.205698  0.424020   \n",
       "DYRK1A_N  -0.096806  0.276587 -0.117130 -0.337158  0.417165  0.407571   \n",
       "GSK3B_N    0.063380  0.385362 -0.241384 -0.315781  0.119302  0.411329   \n",
       "ITSN1_N   -0.146528  0.297928 -0.130376 -0.289795  0.385399  0.405392   \n",
       "H3MeK4_N  -0.385880  0.182407 -0.170190  0.287762 -0.321083 -0.386383   \n",
       "pJNK_N    -0.410417  0.199383 -0.237191 -0.298188 -0.341738 -0.267865   \n",
       "ADARB1_N   0.194491  0.429453 -0.216178 -0.353100 -0.175142 -0.205719   \n",
       "TRKA_N    -0.195694  0.360097 -0.357176 -0.251630 -0.223789  0.198584   \n",
       "pPKCG_N    0.210231 -0.443871 -0.255761  0.242754 -0.420798  0.011983   \n",
       "PKCA_N     0.141898  0.200661 -0.331790 -0.357951 -0.393376  0.128540   \n",
       "JNK_N     -0.358148  0.316534 -0.335442 -0.285990 -0.276781  0.145861   \n",
       "BDNF_N    -0.133148  0.391975 -0.275489 -0.318196 -0.291239  0.149346   \n",
       "P38_N     -0.161065  0.062831  0.377135 -0.099899 -0.363105 -0.416939   \n",
       "SOD1_N    -0.389306 -0.116446  0.203987  0.238808 -0.378063 -0.248312   \n",
       "MTOR_N    -0.106157  0.396340  0.286548 -0.270209 -0.292735 -0.338725   \n",
       "\n",
       "                  6         7      norm  \n",
       "pERK_N     0.330108 -0.154671  0.890080  \n",
       "SYP_N      0.274701  0.159514  0.844679  \n",
       "pELK_N     0.232885 -0.018997  0.844467  \n",
       "BRAF_N     0.302210 -0.128922  0.841653  \n",
       "H3AcK18_N -0.281691 -0.034072  0.838819  \n",
       "CaNA_N     0.341338 -0.175650  0.836454  \n",
       "DYRK1A_N   0.329271 -0.139414  0.825387  \n",
       "GSK3B_N    0.411918 -0.008828  0.814667  \n",
       "ITSN1_N    0.363978 -0.074506  0.813705  \n",
       "H3MeK4_N  -0.320341  0.077715  0.809315  \n",
       "pJNK_N     0.137336  0.258234  0.792120  \n",
       "ADARB1_N   0.393847  0.072488  0.791855  \n",
       "TRKA_N     0.379241  0.165522  0.787145  \n",
       "pPKCG_N    0.188650 -0.023481  0.760866  \n",
       "PKCA_N     0.323208  0.006263  0.757881  \n",
       "JNK_N      0.183751  0.137739  0.757229  \n",
       "BDNF_N     0.321625  0.091303  0.753272  \n",
       "P38_N     -0.174612  0.219600  0.752660  \n",
       "SOD1_N    -0.154271  0.259306  0.747922  \n",
       "MTOR_N     0.010633  0.178553  0.745588  "
      ]
     },
     "execution_count": 23,
     "metadata": {},
     "output_type": "execute_result"
    }
   ],
   "source": [
    "diffs_df = pd.DataFrame(diffs).transpose()\n",
    "norms = pd.Series(np.sqrt(np.square(diffs_df).sum(axis=1)), name=\"norm\")\n",
    "\n",
    "diffs_df.join(norms).sort_values('norm', ascending=False)[:20]"
   ]
  },
  {
   "cell_type": "code",
   "execution_count": 246,
   "metadata": {
    "collapsed": false
   },
   "outputs": [
    {
     "data": {
      "image/png": "[encoded data removed]",
      "text/plain": [
       "<matplotlib.figure.Figure at 0x7f6310cc3ac8>"
      ]
     },
     "metadata": {},
     "output_type": "display_data"
    }
   ],
   "source": [
    "plot_histogram(norms)"
   ]
  },
  {
   "cell_type": "markdown",
   "metadata": {
    "hideCode": false,
    "hidePrompt": false
   },
   "source": [
    "There aren't extreme outliers on the distribution of the norms."
   ]
  },
  {
   "cell_type": "code",
   "execution_count": null,
   "metadata": {
    "collapsed": true,
    "hideCode": false,
    "hidePrompt": false
   },
   "outputs": [],
   "source": []
  },
  {
   "cell_type": "code",
   "execution_count": 253,
   "metadata": {
    "collapsed": true,
    "hideCode": false,
    "hidePrompt": false
   },
   "outputs": [],
   "source": [
    "categorical_columns = [\"Genotype\", \"Treatment\", \"Behavior\"]\n",
    "small_df = t_sorted_df.drop(\"cluster\", 1).loc[:,df_clustered]\n",
    "conditions = df.loc[:, categorical_columns]"
   ]
  },
  {
   "cell_type": "code",
   "execution_count": 247,
   "metadata": {
    "collapsed": true
   },
   "outputs": [],
   "source": [
    "def only_samples_where(df, genotype=None, treatment=None, behavior=None):\n",
    "    genotype = genotype or set()\n",
    "    treatment = treatment or set()\n",
    "    behavior = behavior or set()\n",
    "    df = df.transpose().join(conditions)\n",
    "    \n",
    "    def mask(value=False):\n",
    "        return pd.Series([value for _ in df.index], dtype=bool, index=df.index)\n",
    "    \n",
    "    m = mask(True)\n",
    "    \n",
    "    if genotype:\n",
    "        genotype_mask = mask(False)\n",
    "        if \"Control\" in genotype:\n",
    "            genotype_mask |= df[\"Genotype\"] == \"Control\"\n",
    "        if \"Ts65Dn\" in genotype:\n",
    "            genotype_mask |= df[\"Genotype\"] == \"Ts65Dn\"\n",
    "        m &= genotype_mask\n",
    "    \n",
    "    if treatment:\n",
    "        treatment_mask = mask(False)\n",
    "        if \"Memantine\" in treatment:\n",
    "            treatment_mask |= df[\"Treatment\"] == \"Memantine\"\n",
    "        if \"Saline\" in treatment:\n",
    "            treatment_mask |= df[\"Treatment\"] == \"Saline\"\n",
    "        m &= treatment_mask\n",
    "        \n",
    "    if behavior:\n",
    "        behavior_mask = mask(False)\n",
    "        if \"C/S\" in behavior:\n",
    "            behavior_mask |= df[\"Behavior\"] == \"C/S\"\n",
    "        if \"S/C\" in behavior:\n",
    "            behavior_mask |= df[\"Behavior\"] == \"S/C\"\n",
    "        m &= behavior_mask\n",
    "        \n",
    "        return df[m].drop(categorical_columns, axis=1).transpose()"
   ]
  },
  {
   "cell_type": "code",
   "execution_count": 250,
   "metadata": {
    "collapsed": false,
    "hideCode": false,
    "hidePrompt": false
   },
   "outputs": [
    {
     "data": {
      "application/vnd.jupyter.widget-view+json": {
       "model_id": "7c6dd85dfe5c4911908d9966337226a8"
      }
     },
     "metadata": {},
     "output_type": "display_data"
    }
   ],
   "source": [
    "def filtered_heatmap(genotype, treatment, behavior):\n",
    "    filtered_df = only_samples_where(small_df, genotype=genotype, treatment=treatment, behavior=behavior)\n",
    "    fig = block_heatmap(filtered_df, width=875)\n",
    "    show(fig, notebook_handle=True)\n",
    "\n",
    "genotype_opts = {\"All\": \"Control Ts65Dn\", \"Control\": \"Control\", \"Ts65Dn\": \"Ts65Dn\"}\n",
    "treatment_opts = {\"All\": \"Memantine Saline\", \"Saline\": \"Saline\", \"Memantine\": \"Memantine\"}\n",
    "behavior_opts = {\"All\": \"C/S S/C\", \"Learning\": \"C/S\", \"No learning\": \"S/C\"}\n",
    "interact(filtered_heatmap, genotype=genotype_opts, treatment=treatment_opts, behavior=behavior_opts);"
   ]
  },
  {
   "cell_type": "markdown",
   "metadata": {
    "collapsed": true
   },
   "source": [
    "This beast of a plot shows patterns of activity for every gene in the database."
   ]
  },
  {
   "cell_type": "code",
   "execution_count": null,
   "metadata": {
    "collapsed": true
   },
   "outputs": [],
   "source": []
  }
 ],
 "metadata": {
  "hide_code_all_hidden": false,
  "kernelspec": {
   "display_name": "Python 3",
   "language": "python",
   "name": "python3"
  },
  "language_info": {
   "codemirror_mode": {
    "name": "ipython",
    "version": 3
   },
   "file_extension": ".py",
   "mimetype": "text/x-python",
   "name": "python",
   "nbconvert_exporter": "python",
   "pygments_lexer": "ipython3",
   "version": "3.6.1"
  }
 },
 "nbformat": 4,
 "nbformat_minor": 2
}
